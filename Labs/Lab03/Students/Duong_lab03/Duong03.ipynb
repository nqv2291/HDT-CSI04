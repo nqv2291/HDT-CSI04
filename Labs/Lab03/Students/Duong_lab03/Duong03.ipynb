{
 "cells": [
  {
   "cell_type": "markdown",
   "metadata": {},
   "source": [
    "## <center>Computer Science Intensive Course - MindX</center>\n",
    "![](./assets/logo.png)\n",
    "# <center>LAB 3. CÁC CTDL TRONG PYTHON</center>"
   ]
  },
  {
   "cell_type": "code",
   "execution_count": 1,
   "metadata": {},
   "outputs": [],
   "source": [
    "# run this cell FIRST\n",
    "%run test_cases_3.ipynb"
   ]
  },
  {
   "cell_type": "markdown",
   "metadata": {},
   "source": [
    "## Bài 1. Lọc Từ\n",
    "\n",
    "Cho một đoạn văn gồm nhiều từ và dấu câu, mỗi từ trong đoạn văn cách nhau bằng ít nhất một dấu cách. Lọc ra các từ đã xuất hiện trong đoạn văn và sắp xếp theo thứ tự bảng chữ cái (không phân biệt chữ hoa và thường). \n",
    "\n",
    "**Input**: Một đoạn văn dưới dạng *str* với độ dài < 10^6 ký tự.  \n",
    "**Output**: Một *list* chứa các từ đã xuất hiện trong đoạn văn theo thứ tự bảng chữ cái. Trả về *list* rỗng nếu không có từ nào.  \n",
    "**Ví dụ**:\n",
    "- Input: \"The cat is chasing the rat. The dog is also chasing the rat.\"\n",
    "- Output: ['cat', 'chasing', 'is', 'rat', 'the']\n",
    "- Giải thích: Output là các từ đã xuất hiện trong đoạn văn được sắp xếp theo bảng chữ cái. Các từ 'is' và 'the' xuất hiện nhiều lần được lọc ra.\n",
    "  \n",
    "**Gợi ý**: Lọc các ký tự đặc biệt"
   ]
  },
  {
   "cell_type": "code",
   "execution_count": 3,
   "metadata": {},
   "outputs": [
    {
     "name": "stdout",
     "output_type": "stream",
     "text": [
      "Thecatischasingtherat\n"
     ]
    }
   ],
   "source": [
    "string = \"The cat is chasing the rat.\"\n",
    "''.join(c for c in string if c.isalpha())\n"
   ]
  },
  {
   "cell_type": "code",
   "execution_count": 16,
   "metadata": {},
   "outputs": [
    {
     "name": "stdout",
     "output_type": "stream",
     "text": [
      "['also', 'cat', 'chasing', 'dog', 'is', 'rat', 'the']\n"
     ]
    }
   ],
   "source": [
    "def filter_word(inp_str):\n",
    "    chuanhoa = ''\n",
    "    for i in inp_str:\n",
    "        if i not in '.,<>/?;:':\n",
    "            chuanhoa+= i.lower()\n",
    "    \n",
    "    splitted = chuanhoa.split()\n",
    "    return sorted(list(set(splitted)))\n",
    "\n",
    "print(filter_word('The cat is chasing the rat. The dog is also chasing the rat.'))\n",
    "    \n",
    "    "
   ]
  },
  {
   "cell_type": "code",
   "execution_count": 17,
   "metadata": {},
   "outputs": [
    {
     "name": "stdout",
     "output_type": "stream",
     "text": [
      "Testing on 9 cases.\n",
      "- Test 1 PASSED.\n",
      "- Test 2 PASSED.\n",
      "- Test 3 PASSED.\n",
      "- Test 4 PASSED.\n",
      "- Test 5 PASSED.\n",
      "- Test 6 PASSED.\n",
      "- Test 7 PASSED.\n",
      "- Test 8 PASSED.\n",
      "- Test 9 PASSED.\n",
      "CONGRATULATIONS! All test cases passed!\n"
     ]
    }
   ],
   "source": [
    "# !!! DO NOT MODIFY THIS CELL\n",
    "# Check result on test cases\n",
    "test1(filter_word)"
   ]
  },
  {
   "cell_type": "markdown",
   "metadata": {},
   "source": [
    "## Bài 2. Cắt Chữ\n",
    "\n",
    "Cho một đoạn văn gồm nhiều từ và dấu câu. Mỗi từ trong đoạn văn cách nhau bằng ít nhất một dấu cách. Đoạn văn này được hiển thị trên màn hình có độ rộng *k* ký tự. Hãy cắt đoạn văn này thành những chuỗi nhỏ hơn sao cho:\n",
    "- Mỗi chuỗi là dài nhất có thể\n",
    "- Mỗi chuỗi không được dài hơn k ký tự.\n",
    "- Không từ nào bị cắt ở giữa (VD không được cắt \"MindX Technology School.\" thành \"MindX Tech\" và \"nology School.\")\n",
    "- Không có dấu cách ở đầu và cuối chuỗi đã cắt (VD có thể cắt \"MindX Technology School.\" thành \"MindX Technology\" và \"School.\")\n",
    "\n",
    "**Input**: Một đoạn văn dưới dạng *str* với độ dài < 10^6 ký tự và một số nguyên *0 < k < 50*. Không từ nào dài hơn k.  \n",
    "**Output**: Trả về một list các chuỗi đã cắt.   \n",
    "**Ví dụ**:  \n",
    "- Input: \"The cat is chasing the rat. The dog is also chasing the rat.\", k=10\n",
    "- Output: ['The cat is', 'chasing', 'the rat.', 'The dog is', 'also', 'chasing', 'the rat.']"
   ]
  },
  {
   "cell_type": "code",
   "execution_count": 42,
   "metadata": {},
   "outputs": [
    {
     "name": "stdout",
     "output_type": "stream",
     "text": [
      "['The cat is', 'chasing', 'the rat.', 'The dog is', 'also', 'chasing', 'the rat.']\n"
     ]
    }
   ],
   "source": [
    "def wrap_text(inp_str, k):\n",
    "    splitted = inp_str.split()\n",
    "    \n",
    "    chuanhoa = [(k,len(k)) for k in splitted]\n",
    "    result = []\n",
    "    \n",
    "    current_width = 0\n",
    "    adder = ''\n",
    "    \n",
    "    for i,w in chuanhoa:\n",
    "        if current_width + w > k-1:\n",
    "            result.append(adder.strip())\n",
    "            current_width = 0\n",
    "            adder = ''\n",
    "        adder+=i\n",
    "        adder += ' '\n",
    "        current_width+=w\n",
    "    else:\n",
    "        result.append(adder.strip())        \n",
    "    return result \n",
    "        \n",
    "\n",
    "print(wrap_text('The cat is chasing the rat. The dog is also chasing the rat.',10))"
   ]
  },
  {
   "cell_type": "code",
   "execution_count": 43,
   "metadata": {},
   "outputs": [
    {
     "name": "stdout",
     "output_type": "stream",
     "text": [
      "Testing on 9 cases.\n",
      "- Test 1 PASSED.\n",
      "- Test 2 PASSED.\n",
      "- Test 3 PASSED.\n",
      "- Test 4 PASSED.\n",
      "- Test 5 PASSED.\n",
      "- Test 6 PASSED.\n",
      "- Test 7 PASSED.\n",
      "- Test 8 PASSED.\n",
      "- Test 9 PASSED.\n",
      "CONGRATULATIONS! All test cases passed!\n"
     ]
    }
   ],
   "source": [
    "# !!! DO NOT MODIFY THIS CELL\n",
    "# Check result on test cases\n",
    "test2(wrap_text)"
   ]
  },
  {
   "cell_type": "markdown",
   "metadata": {},
   "source": [
    "## Bài 3. Phần Tử Bất Thường\n",
    "\n",
    "Cho hai *list* giống nhau về các phần tử nhưng khác nhau về thứ tự. Các phần tử trong *list* không trùng nhau. Tuy nhiên do sự cố, một trong hai list bị dư một phần tử lạ không trùng với các phần tử khác. Hãy tìm giá trị của phần tử đó.  \n",
    "\n",
    "**Input**: Hai list số nguyên có độ dài *n* và *n+1* (hoặc *n+1* và *n*) với *0 < n < 10^6*.  \n",
    "**Output**: Một số nguyên là giá trị của phần tử bất thường.  \n",
    "**Ví dụ**:\n",
    "- Input: [1, 4, 5, 7, 9], [7, 4, 1, 9]\n",
    "- Output: 5"
   ]
  },
  {
   "cell_type": "code",
   "execution_count": 28,
   "metadata": {},
   "outputs": [
    {
     "name": "stdout",
     "output_type": "stream",
     "text": [
      "5\n"
     ]
    }
   ],
   "source": [
    "def find_anomaly(list_1, list_2):\n",
    "    if len(list_1) < len(list_2): #Hoán đổi vị trí sao cho list 1 luôn nhiều hơn list 2 một phần tử\n",
    "        list_1,list_2 = list_2,list_1\n",
    "    \n",
    "    for element in list_2:\n",
    "        list_1.remove(element)\n",
    "    \n",
    "    return list_1[0]      \n",
    "\n",
    "print(find_anomaly( [7, 4, 1, 9],[1, 4, 5, 7, 9]))"
   ]
  },
  {
   "cell_type": "code",
   "execution_count": 29,
   "metadata": {},
   "outputs": [
    {
     "name": "stdout",
     "output_type": "stream",
     "text": [
      "Testing on 6 cases.\n",
      "- Test 1 PASSED.\n",
      "- Test 2 PASSED.\n",
      "- Test 3 PASSED.\n",
      "- Test 4 PASSED.\n",
      "- Test 5 PASSED.\n",
      "- Test 6 PASSED.\n",
      "CONGRATULATIONS! All test cases passed!\n"
     ]
    }
   ],
   "source": [
    "# !!! DO NOT MODIFY THIS CELL\n",
    "# Check result on test cases\n",
    "test3(find_anomaly)"
   ]
  },
  {
   "cell_type": "markdown",
   "metadata": {},
   "source": [
    "## Bài 4. Tổng Đường Chéo\n",
    "\n",
    "Cho một ma trận với *n* dòng và *n* cột. Hãy tính tổng các giá trị trên hai đường chéo của ma trận.\n",
    " \n",
    "**Input**: Ma trận *n x n* dưới dạng *list lồng nhau*, với *0 < n < 1000*. Mỗi phần tử trong khoảng [-10^6, 10^6]  \n",
    "**Output**: Một *tuple* bao gồm hai giá trị là tổng các giá trị trên đường chéo chính và đường chéo phụ, theo thứ tự.  \n",
    "**Ví dụ**:\n",
    "- Input:  \n",
    "     [[1, 2, 3],  \n",
    "&nbsp;[4, 5, 6],  \n",
    "&nbsp;[7, 8, 9]]\n",
    "- Output: (15, 15)\n",
    "- Giải thích: Tổng trên đường chéo chính là 1+5+9 = 15; trên đường chéo phụ là 3+5+7 = 15\n",
    "\n",
    "**Gợi ý**:\n",
    "Trong Python, ma trận có thể được lưu trữ dưới dạng *list lồng nhau*, tức các phần tử trong *list* là các *list* khác, mỗi *list* phần tử có cùng độ dài.  \n",
    "Cách truy vấn:"
   ]
  },
  {
   "cell_type": "code",
   "execution_count": null,
   "metadata": {},
   "outputs": [],
   "source": [
    "matrix = [[1, 2, 3],\n",
    "          [4, 5, 6],\n",
    "          [7, 8, 9]]\n",
    "\n",
    "print(\"Second row: {}\".format(matrix[1]))\n",
    "print(\"Element at row 0, column 1: {}\".format(matrix[0][1]))"
   ]
  },
  {
   "cell_type": "code",
   "execution_count": 20,
   "metadata": {},
   "outputs": [],
   "source": [
    "def sum_diagonals(matrix):\n",
    "    n = len(matrix)\n",
    "    diag1,diag2 = 0,0\n",
    "    \n",
    "    for i in range(n):\n",
    "        diag1+=matrix[i][i]\n",
    "        diag2+=matrix[i][n-i-1]\n",
    "    \n",
    "    return diag1,diag2\n",
    "  "
   ]
  },
  {
   "cell_type": "code",
   "execution_count": 21,
   "metadata": {},
   "outputs": [
    {
     "name": "stdout",
     "output_type": "stream",
     "text": [
      "Testing on 7 cases.\n",
      "- Test 1 PASSED.\n",
      "- Test 2 PASSED.\n",
      "- Test 3 PASSED.\n",
      "- Test 4 PASSED.\n",
      "- Test 5 PASSED.\n",
      "- Test 6 PASSED.\n",
      "- Test 7 PASSED.\n",
      "CONGRATULATIONS! All test cases passed!\n"
     ]
    }
   ],
   "source": [
    "# !!! DO NOT MODIFY THIS CELL\n",
    "# Check result on test cases\n",
    "test4(sum_diagonals)"
   ]
  },
  {
   "cell_type": "code",
   "execution_count": null,
   "metadata": {},
   "outputs": [],
   "source": []
  }
 ],
 "metadata": {
  "kernelspec": {
   "display_name": "Python 3.9.12 ('base')",
   "language": "python",
   "name": "python3"
  },
  "language_info": {
   "codemirror_mode": {
    "name": "ipython",
    "version": 3
   },
   "file_extension": ".py",
   "mimetype": "text/x-python",
   "name": "python",
   "nbconvert_exporter": "python",
   "pygments_lexer": "ipython3",
   "version": "3.9.12"
  },
  "vscode": {
   "interpreter": {
    "hash": "b2b9efa92f2bdac4bfda25c60f3f7d6c779c80601382838fe4225a699a59d380"
   }
  }
 },
 "nbformat": 4,
 "nbformat_minor": 4
}
