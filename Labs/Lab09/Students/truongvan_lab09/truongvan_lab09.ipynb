{
 "cells": [
  {
   "cell_type": "markdown",
   "metadata": {},
   "source": [
    "## <center>Computer Science Intensive Course - MindX</center>\n",
    "![](./assets/logo.png)\n",
    "# <center>LAB 9. STACK VÀ QUEUE</center>"
   ]
  },
  {
   "cell_type": "code",
   "execution_count": 1,
   "metadata": {},
   "outputs": [],
   "source": [
    "# run this cell FIRST\n",
    "%run test_cases_9.ipynb"
   ]
  },
  {
   "cell_type": "markdown",
   "metadata": {},
   "source": [
    "## Bài 1. Dãy Con Chẵn\n",
    "\n",
    "Cho một chuỗi chỉ bao gồm các ký tự '0' và '1'. Ta có thể thay đổi chuỗi bằng cách xóa một dãy con liên tục chỉ chứa '0' hoặc '1' và có độ dài chẵn.\n",
    "\n",
    "**Yêu cầu**: Hãy thực hiện các thay đổi theo quy tắc trên lên chuỗi để thu được chuỗi kết quả ngắn nhất có thể.\n",
    "\n",
    "**Input**: Một chuỗi bao gồm các ký tự '0' và '1' có độ dài *0 < n < 10<sup>6</sup>*.  \n",
    "**Output**: Chuỗi ngắn nhất tạo được sau khi thực hiện các thay đổi.  \n",
    "**Ví dụ**:  \n",
    "\n",
    "Ví dụ 1:\n",
    "- Input: \"10100001\"\n",
    "- Output: \"10\"\n",
    "- Giải thích: Ta thực hiện các bước xóa sau: \"10100001\" => \"101**0000**1\" => \"1011\" => \"10**11**\" => \"10\".\n",
    "\n",
    "Ví dụ 2:\n",
    "- Input: \"1001\"\n",
    "- Output: \"\"\n",
    "- Giải thích: \"1001\" => \"1**00**1\" => \"11\" => \"**11**\" => \"\""
   ]
  },
  {
   "cell_type": "code",
   "execution_count": 3,
   "metadata": {},
   "outputs": [
    {
     "data": {
      "text/plain": [
       "'01'"
      ]
     },
     "execution_count": 3,
     "metadata": {},
     "output_type": "execute_result"
    }
   ],
   "source": [
    "from collections import deque\n",
    "def reduce(sequence):\n",
    "    if len(sequence) <= 1:\n",
    "        return queue\n",
    "    queue =  deque([i for i in sequence])\n",
    "    newqueue = deque()\n",
    "    \n",
    "    #while (['0', '0'] in queue ) or (['1', '1'] in queue) :\n",
    "    while len(set(queue)) != len(queue):  # điều kiện chưa đúng, ví dụ 101 là đáp án đúng nhưng set của nó khác độ dài nên vòng lặp\n",
    "                                            #vẫn chạy ở đoạn 21 - 26, thành ra queue lại bị cắt\n",
    "        \n",
    "        if queue[0] == queue[1]:\n",
    "            queue.popleft()\n",
    "            queue.popleft()\n",
    "            \n",
    "        else:\n",
    "           \n",
    "            old = queue.popleft()\n",
    "            newqueue.append(old)\n",
    "            \n",
    "        if len(queue) <= 1:  #chỗ này có vấn đề\n",
    "            if len(queue) == 1:\n",
    "                old = queue.popleft()\n",
    "                newqueue.append(old)\n",
    "            queue = newqueue\n",
    "            newqueue = deque()\n",
    "           \n",
    "\n",
    "    return \"\".join(list(queue))\n",
    "\n",
    "\n",
    "reduce(\"11\")"
   ]
  },
  {
   "cell_type": "code",
   "execution_count": 8,
   "metadata": {},
   "outputs": [
    {
     "data": {
      "text/plain": [
       "'1'"
      ]
     },
     "execution_count": 8,
     "metadata": {},
     "output_type": "execute_result"
    }
   ],
   "source": [
    "#  use list\n",
    "from collections import deque\n",
    "def reduce(sequence):\n",
    "    if len(sequence) <= 1 or sequence == None:\n",
    "        return \n",
    "    sequence= [i for i in sequence]\n",
    "    for i in range(0, len(sequence)):\n",
    "        j=0\n",
    "        while j< len(sequence)-1:\n",
    "\n",
    "            if sequence[j] == sequence[j+1]:\n",
    "                sequence.pop(j)\n",
    "                sequence.pop(j)\n",
    "                \n",
    "                \n",
    "            j+=1\n",
    "            \n",
    "    return \"\".join(sequence)\n",
    "\n",
    "reduce(\"10011\")"
   ]
  },
  {
   "cell_type": "code",
   "execution_count": 9,
   "metadata": {},
   "outputs": [
    {
     "name": "stdout",
     "output_type": "stream",
     "text": [
      "Testing on 10 cases.\n",
      "An exception occured at test 1: object of type 'NoneType' has no len().\n",
      "- Test 2 PASSED.\n",
      "- Test 3 PASSED.\n",
      "- Test 4 PASSED.\n",
      "- Test 5 PASSED.\n",
      "- Test 6 PASSED.\n",
      "- Test 7 PASSED.\n",
      "- Test 8 PASSED.\n",
      "- Test 9 PASSED.\n"
     ]
    },
    {
     "ename": "KeyboardInterrupt",
     "evalue": "",
     "output_type": "error",
     "traceback": [
      "\u001b[1;31m---------------------------------------------------------------------------\u001b[0m",
      "\u001b[1;31mKeyboardInterrupt\u001b[0m                         Traceback (most recent call last)",
      "\u001b[1;32md:\\vanmindX\\CSI04\\HDT-CSI04\\Labs\\Lab09\\Students\\truongvan_lab09\\truongvan_lab09.ipynb Cell 6\u001b[0m in \u001b[0;36m<cell line: 1>\u001b[1;34m()\u001b[0m\n\u001b[1;32m----> <a href='vscode-notebook-cell:/d%3A/vanmindX/CSI04/HDT-CSI04/Labs/Lab09/Students/truongvan_lab09/truongvan_lab09.ipynb#W5sZmlsZQ%3D%3D?line=0'>1</a>\u001b[0m test1(reduce)\n",
      "File \u001b[1;32m~\\AppData\\Local\\Temp\\ipykernel_9696\\1915271161.py:22\u001b[0m, in \u001b[0;36mtest1\u001b[1;34m(func)\u001b[0m\n\u001b[0;32m     19\u001b[0m     arr \u001b[39m=\u001b[39m \u001b[39m'\u001b[39m\u001b[39m'\u001b[39m\u001b[39m.\u001b[39mjoin(np\u001b[39m.\u001b[39mrandom\u001b[39m.\u001b[39mrandint(\u001b[39m0\u001b[39m, \u001b[39m2\u001b[39m, case[\u001b[39m'\u001b[39m\u001b[39minp\u001b[39m\u001b[39m'\u001b[39m])\u001b[39m.\u001b[39mastype(\u001b[39m'\u001b[39m\u001b[39mstr\u001b[39m\u001b[39m'\u001b[39m))\n\u001b[0;32m     20\u001b[0m     \u001b[39mreturn\u001b[39;00m \u001b[39mlen\u001b[39m(func(arr)) \u001b[39m==\u001b[39m case[\u001b[39m'\u001b[39m\u001b[39mout\u001b[39m\u001b[39m'\u001b[39m]\n\u001b[1;32m---> 22\u001b[0m test(test_cases, func, condition_func)\n",
      "File \u001b[1;32m~\\AppData\\Local\\Temp\\ipykernel_9696\\245556452.py:11\u001b[0m, in \u001b[0;36mtest\u001b[1;34m(cases, test_func, condition_func)\u001b[0m\n\u001b[0;32m      9\u001b[0m \u001b[39mfor\u001b[39;00m i, case \u001b[39min\u001b[39;00m \u001b[39menumerate\u001b[39m(cases):\n\u001b[0;32m     10\u001b[0m     \u001b[39mtry\u001b[39;00m:\n\u001b[1;32m---> 11\u001b[0m         passed \u001b[39m=\u001b[39m condition_func(test_func, case)\n\u001b[0;32m     12\u001b[0m         \u001b[39mif\u001b[39;00m passed:\n\u001b[0;32m     13\u001b[0m             \u001b[39mprint\u001b[39m(\u001b[39m\"\u001b[39m\u001b[39m- Test \u001b[39m\u001b[39m{}\u001b[39;00m\u001b[39m PASSED.\u001b[39m\u001b[39m\"\u001b[39m\u001b[39m.\u001b[39mformat(i\u001b[39m+\u001b[39m\u001b[39m1\u001b[39m))\n",
      "File \u001b[1;32m~\\AppData\\Local\\Temp\\ipykernel_9696\\1915271161.py:20\u001b[0m, in \u001b[0;36mtest1.<locals>.condition_func\u001b[1;34m(func, case)\u001b[0m\n\u001b[0;32m     18\u001b[0m \u001b[39mdef\u001b[39;00m \u001b[39mcondition_func\u001b[39m(func, case):\n\u001b[0;32m     19\u001b[0m     arr \u001b[39m=\u001b[39m \u001b[39m'\u001b[39m\u001b[39m'\u001b[39m\u001b[39m.\u001b[39mjoin(np\u001b[39m.\u001b[39mrandom\u001b[39m.\u001b[39mrandint(\u001b[39m0\u001b[39m, \u001b[39m2\u001b[39m, case[\u001b[39m'\u001b[39m\u001b[39minp\u001b[39m\u001b[39m'\u001b[39m])\u001b[39m.\u001b[39mastype(\u001b[39m'\u001b[39m\u001b[39mstr\u001b[39m\u001b[39m'\u001b[39m))\n\u001b[1;32m---> 20\u001b[0m     \u001b[39mreturn\u001b[39;00m \u001b[39mlen\u001b[39m(func(arr)) \u001b[39m==\u001b[39m case[\u001b[39m'\u001b[39m\u001b[39mout\u001b[39m\u001b[39m'\u001b[39m]\n",
      "\u001b[1;32md:\\vanmindX\\CSI04\\HDT-CSI04\\Labs\\Lab09\\Students\\truongvan_lab09\\truongvan_lab09.ipynb Cell 6\u001b[0m in \u001b[0;36mreduce\u001b[1;34m(sequence)\u001b[0m\n\u001b[0;32m     <a href='vscode-notebook-cell:/d%3A/vanmindX/CSI04/HDT-CSI04/Labs/Lab09/Students/truongvan_lab09/truongvan_lab09.ipynb#W5sZmlsZQ%3D%3D?line=10'>11</a>\u001b[0m         \u001b[39mif\u001b[39;00m sequence[j] \u001b[39m==\u001b[39m sequence[j\u001b[39m+\u001b[39m\u001b[39m1\u001b[39m]:\n\u001b[0;32m     <a href='vscode-notebook-cell:/d%3A/vanmindX/CSI04/HDT-CSI04/Labs/Lab09/Students/truongvan_lab09/truongvan_lab09.ipynb#W5sZmlsZQ%3D%3D?line=11'>12</a>\u001b[0m             sequence\u001b[39m.\u001b[39mpop(j)\n\u001b[1;32m---> <a href='vscode-notebook-cell:/d%3A/vanmindX/CSI04/HDT-CSI04/Labs/Lab09/Students/truongvan_lab09/truongvan_lab09.ipynb#W5sZmlsZQ%3D%3D?line=12'>13</a>\u001b[0m             sequence\u001b[39m.\u001b[39;49mpop(j)\n\u001b[0;32m     <a href='vscode-notebook-cell:/d%3A/vanmindX/CSI04/HDT-CSI04/Labs/Lab09/Students/truongvan_lab09/truongvan_lab09.ipynb#W5sZmlsZQ%3D%3D?line=15'>16</a>\u001b[0m         j\u001b[39m+\u001b[39m\u001b[39m=\u001b[39m\u001b[39m1\u001b[39m\n\u001b[0;32m     <a href='vscode-notebook-cell:/d%3A/vanmindX/CSI04/HDT-CSI04/Labs/Lab09/Students/truongvan_lab09/truongvan_lab09.ipynb#W5sZmlsZQ%3D%3D?line=17'>18</a>\u001b[0m \u001b[39mreturn\u001b[39;00m \u001b[39m\"\u001b[39m\u001b[39m\"\u001b[39m\u001b[39m.\u001b[39mjoin(sequence)\n",
      "\u001b[1;31mKeyboardInterrupt\u001b[0m: "
     ]
    }
   ],
   "source": [
    "test1(reduce)"
   ]
  },
  {
   "cell_type": "markdown",
   "metadata": {},
   "source": [
    "## Bài 2. Dãy Ngoặc Đúng (2)\n",
    "\n",
    "**Yêu cầu**: Cho một dãy các dấu ngoặc bao gồm ngoặc đơn <code>( )</code>, ngoặc vuông <code>[ ]</code> và ngoặc nhọn <code>{ }</code>, hãy kiểm tra dãy ngoặc có hợp lệ hay không. Biết một dãy ngoặc hợp lệ khi mỗi ngoặc mở đều có ngoặc đóng tương ứng và ngược lại.\n",
    "\n",
    "**Input**: Một chuỗi bao gồm ba loại ngoặc có độ dài *0 < n < 10<sup>6</sup>*.  \n",
    "**Output**: Trả về True nếu dãy ngoặc hợp lệ, ngược lại trả về False.  \n",
    "**Ví dụ**:  \n",
    "\n",
    "Ví dụ 1:  \n",
    "- Input: \"([{}])({})\"\n",
    "- Output: True\n",
    "\n",
    "Ví dụ 2:  \n",
    "- Input: \"([{])({})\"\n",
    "- Output: False"
   ]
  },
  {
   "cell_type": "code",
   "execution_count": 6,
   "metadata": {},
   "outputs": [],
   "source": [
    "from collections import deque\n",
    "def is_valid(sequence):\n",
    "    stack_1 = deque()\n",
    "    stack_2 = deque()\n",
    "    stack_3 = deque()\n",
    "    for i in sequence:\n",
    "        if i == \"(\":\n",
    "            stack_1.append(i)\n",
    "        elif  i == \")\":\n",
    "            if len(stack_1):\n",
    "                stack_1.pop()\n",
    "            else:\n",
    "                return False\n",
    "        elif i == \"[\":\n",
    "            stack_2.append(i)\n",
    "        elif i ==\"]\" :\n",
    "            if len(stack_2):\n",
    "                stack_2.pop()\n",
    "            else:\n",
    "                return False\n",
    "        elif i == \"{\":\n",
    "            stack_3.append(i)\n",
    "        elif i == \"}\":\n",
    "            if len(stack_3):\n",
    "                stack_3.pop()\n",
    "            else:\n",
    "                return False\n",
    "    if len(stack_1) or len(stack_2) or len(stack_3):\n",
    "        return False\n",
    "    else:\n",
    "        return True"
   ]
  },
  {
   "cell_type": "code",
   "execution_count": 7,
   "metadata": {},
   "outputs": [
    {
     "name": "stdout",
     "output_type": "stream",
     "text": [
      "Testing on 10 cases.\n",
      "- Test 1 PASSED.\n",
      "- Test 2 PASSED.\n",
      "- Test 3 PASSED.\n",
      "- Test 4 PASSED.\n",
      "- Test 5 PASSED.\n",
      "- Test 6 PASSED.\n",
      "- Test 7 PASSED.\n",
      "- Test 8 PASSED.\n",
      "- Test 9 PASSED.\n",
      "- Test 10 PASSED.\n",
      "CONGRATULATIONS! All test cases passed!\n"
     ]
    }
   ],
   "source": [
    "# !!! DO NOT MODIFY THIS CELL\n",
    "# Check result on test cases\n",
    "test2(is_valid)"
   ]
  },
  {
   "cell_type": "markdown",
   "metadata": {},
   "source": [
    "## Bài 3. Postfix\n",
    "\n",
    "Trong toán học và lập trình, các biểu thức thường được viết dưới dạng *infix*, có nghĩa các toán tử nằm giữa các toán hạng.  \n",
    "Ví dụ: <code>((100 + 2^3)/2)*5 + 7</code>.  \n",
    "\n",
    "*Postfix* là một dạng khác của biểu thức. Biểu thức viết dưới dạng *postfix* có thể được xử lý dễ dàng hơn *infix* do không cần sử dụng dấu ngoặc để thể hiện độ ưu tiên. Ví dụ, biểu thức *infix* trên có thể viết dưới dạng *postfix* như sau: <code>100 2 3 ^ + 2 / 5 * 7 +</code>\n",
    "\n",
    "Ta có thể tính toán biểu thức *postfix* chỉ chứa các toán tử hai ngôi (<code>+ - * / ^</code>) bằng cách duyệt biểu thức từ trái sang phải:\n",
    "- Bỏ qua toán hạng\n",
    "- Nếu gặp toán tử, thực hiện phép toán trên hai toán hạng liền kề bên trái\n",
    "\n",
    "**Ví dụ**: tính giá trị của biểu thức <code>100 2 3 ^ + 2 / 5 * 7 +</code>\n",
    "<pre>\n",
    "  100 <b>2 3 ^</b> + 2 / 5 * 7 +\n",
    "= <b>100   <i>8</i>   +</b> 2 / 5 * 7 +\n",
    "=      <b><i>108</i>    2 /</b> 5 * 7 +     \n",
    "=          <b><i>54</i>     5 *</b> 7 +\n",
    "=            <b><i>270</i>      7 +</b>\n",
    "=                277\n",
    "</pre>\n",
    "\n",
    "**Yêu cầu**: Cho một biểu thức toán học dạng *postfix* bao gồm số thực dương và các toán tử hai ngôi (<code>+ - * / ^</code>), hãy tính giá trị của biểu thức.  \n",
    "\n",
    "**Input**: Một biểu thức *postfix* dưới dạng string, mỗi toán tử và toán hạng cách nhau bằng đúng một dấu cách.  \n",
    "**Output**: Một số thực là giá trị của biểu thức. Test case đảm bảo mọi biểu thức đều hợp lệ và có giá trị là số thực.  \n",
    "**Ví dụ**:\n",
    "- Input: \"100 2 3 ^ + 2 / 5 * 7 +\"\n",
    "- Output: 277.0"
   ]
  },
  {
   "cell_type": "code",
   "execution_count": 6,
   "metadata": {},
   "outputs": [],
   "source": [
    "from collections import  deque\n",
    "def eval_postfix(inf):\n",
    "    \n",
    "    \n",
    "    inf = inf.split(' ')\n",
    "\n",
    "    stack=deque()\n",
    "    for i in range(len(inf)):\n",
    "        if inf[i].isnumeric():\n",
    "            stack.append(int(inf[i]))\n",
    "           \n",
    "        else:\n",
    "            if inf[i] == \"^\":\n",
    "                op = '**'\n",
    "            else: \n",
    "                op = inf[i]\n",
    "            val = eval(f'{stack[-2]} {op} {stack[-1]}')\n",
    "            stack.pop()\n",
    "            stack.pop()\n",
    "            stack.append(val)\n",
    "    return stack[-1]"
   ]
  },
  {
   "cell_type": "code",
   "execution_count": 7,
   "metadata": {},
   "outputs": [
    {
     "name": "stdout",
     "output_type": "stream",
     "text": [
      "Testing on 8 cases.\n",
      "- Test 1 PASSED.\n",
      "- Test 2 PASSED.\n",
      "- Test 3 PASSED.\n",
      "- Test 4 PASSED.\n",
      "- Test 5 PASSED.\n",
      "- Test 6 PASSED.\n",
      "- Test 7 PASSED.\n",
      "- Test 8 PASSED.\n",
      "CONGRATULATIONS! All test cases passed!\n"
     ]
    }
   ],
   "source": [
    "# !!! DO NOT MODIFY THIS CELL\n",
    "# Check result on test cases\n",
    "test3(eval_postfix)"
   ]
  },
  {
   "cell_type": "markdown",
   "metadata": {},
   "source": [
    "## Bài 4. Chuyển Đổi Infix Và Postfix\n",
    "\n",
    "Ta đã biết biểu thức *postfix* có thể được xử lý dễ dàng hơn *infix*. Trong bài tập này, ta sẽ tìm hiểu cách chuyển đổi biểu thức từ dạng *infix* sang *postfix*.\n",
    "\n",
    "**Thuật toán** chuyển đổi biểu thức từ dạng *infix* sang *postfix* như sau:\n",
    "0. Ta định nghĩa độ ưu tiên của các toán tử: <code>^</code> có độ ưu tiên cao nhất, tiếp theo là <code>* /</code>, sau đó là <code>+ -</code>, cuối cùng là <code>(</code> \n",
    "1. Tạo một mảng <code>postfix</code> để lưu các phần tử trong theo thứ tự *postfix* và một stack để hỗ trợ xử lý\n",
    "2. Duyệt biểu thức *infix* từ trái sang phải:\n",
    "   - Nếu tìm thấy toán hạng, đưa thẳng vào <code>postfix</code>\n",
    "   - Nếu tìm thấy toán tử:\n",
    "      + Nếu là <code>+ - * / ^</code>, đưa tất cả toán tử có độ ưu tiên cao hơn hoặc bằng nó trong <code>stack</code> vào <code>postfix</code>, sau đó đưa toán tử đang xét vào <code>stack</code>\n",
    "      + Nếu là <code>(</code>, đưa vào <code>stack</code>\n",
    "      + Nếu là <code>)</code>, đưa tất cả toán tử nằm sau <code>(</code> trong <code>stack</code> vào <code>postfix</code>\n",
    "3. Đưa tất cả toán tử còn lại trong <code>stack</code> vào <code>postfix</code>\n",
    "     \n",
    "**Ví dụ**: chuyển đổi biểu thức \"5 ^ 2 / ( 5 * 3 ) + 2\" thành postfix\n",
    "<pre>\n",
    "       infix           |      postfix        | stack  |  giải thích\n",
    "5 ^ 2 / ( 5 * 3 ) + 2  |                     |        |\n",
    "  ^ 2 / ( 5 * 3 ) + 2  |  5                  |        | 5 là toán hạng, đưa vào postfix\n",
    "    2 / ( 5 * 3 ) + 2  |  5                  | ^      | ^ là toán tử, stack đang rỗng, đưa vào stack\n",
    "      / ( 5 * 3 ) + 2  |  5 2                | ^      | 2 là toán hạng => postfix\n",
    "        ( 5 * 3 ) + 2  |  5 2 ^              | /      | / là toán tử, cuối stack chứa ^ có độ ưu tiên cao hơn /\n",
    "          5 * 3 ) + 2  |  5 2 ^              | / (    | ngoặc mở => stack\n",
    "            * 3 ) + 2  |  5 2 ^ 5            | / (    | 5 là toán hạng => postfix\n",
    "              3 ) + 2  |  5 2 ^ 5            | / ( *  | * là toán tử, cuối stack chứa ( có độ ưu tiên thấp hơn *\n",
    "                ) + 2  |  5 2 ^ 5 3          | / ( *  | 3 là toán hạng => postfix\n",
    "                  + 2  |  5 2 ^ 5 3 *        | /      | ngoặc đóng => đưa tất cả toán tử sau ( vào postfix\n",
    "                    2  |  5 2 ^ 5 3 * /      | +      | + là toán tử, cuối stack chứa / => đưa / vào postfix\n",
    "                       |  5 2 ^ 5 3 * / 2    | +      | 2 là toán hạng => postfix\n",
    "                       |  5 2 ^ 5 3 * / 2 +  |        | đưa tất cả toán tử còn lại trong stack vào postfix\n",
    "</pre>\n",
    "\n",
    "\n",
    "**Yêu cầu**: Cho một biểu thức toán học dạng *infix*, hãy chuyển đổi biểu thức thành dạng *postfix* và tính giá trị của biểu thức bằng hàm đã viết ở bài trên. Biểu thức *infix* bao gồm số thực dương, các toán tử hai ngôi (<code>+ - * / ^</code>) và dấu ngoặc đơn <code>( )</code>.   \n",
    "\n",
    "**Input**: Một biểu thức *infix* dưới dạng string, mỗi toán tử, toán hạng và dấu ngoặc cách nhau bằng đúng một dấu cách.  \n",
    "**Output**: Một string là biểu thức dưới dạng *postfix* và một số thực là giá trị của biểu thức. Test case đảm bảo mọi biểu thức đều hợp lệ và có giá trị là số thực.  \n",
    "**Ví dụ**:\n",
    "- Input: \"5 ^ 2 / ( 5 * 3 ) + 2\"\n",
    "- Output: \"5 2 ^ 5 3 * / 2 +\", 3.666666666666667"
   ]
  },
  {
   "cell_type": "code",
   "execution_count": 4,
   "metadata": {},
   "outputs": [],
   "source": [
    "from collections import deque\n",
    "\n",
    "def priority(x):\n",
    "    if x == \"^\":\n",
    "        return 4\n",
    "    if x == \"*\" or x == \"/\":\n",
    "        return 3\n",
    "    if x == \"+\" or x == \"-\":\n",
    "        return 2\n",
    "    if x == \"(\":\n",
    "        return 1\n",
    "    if x== \")\":\n",
    "        return 0\n",
    "def eval_postfix(inf):\n",
    "    \n",
    "    \n",
    "    \n",
    "\n",
    "    stack=deque()\n",
    "    for i in range(len(inf)):\n",
    "        if inf[i].isnumeric():\n",
    "            stack.append(int(inf[i]))\n",
    "           \n",
    "        else:\n",
    "            if inf[i] == \"^\":\n",
    "                op = \"**\"\n",
    "            else:\n",
    "                op = inf[i]\n",
    "            val = eval(f'{stack[-2]} {op} {stack[-1]}')\n",
    "            stack.pop()\n",
    "            stack.pop()\n",
    "            stack.append(val)\n",
    "    return stack[-1]\n",
    "\n",
    "def infix_to_postfix_evaluate(infix):\n",
    "    infix = infix.split(\" \")\n",
    "    postfix = []\n",
    "    stack = deque()\n",
    "    for i in range(len(infix)):\n",
    "        if infix[i].isnumeric():\n",
    "            postfix.append(infix[i])\n",
    "        else:\n",
    "            if not stack:\n",
    "                stack.append(infix[i])\n",
    "            else:\n",
    "        \n",
    "                if priority(stack[-1]) >= priority(infix[i]) and infix[i] not in  [\"(\", \")\"]:\n",
    "                    new_post = stack.pop()\n",
    "                    postfix.append(new_post)    \n",
    "                    stack.append(infix[i])\n",
    "                elif infix[i] == \")\":\n",
    "                    while stack[-1] != \"(\":\n",
    "                        postfix.append(stack[-1])\n",
    "                        stack.pop()\n",
    "                    stack.pop()    \n",
    "                else:\n",
    "                    stack.append(infix[i])\n",
    "    while stack:\n",
    "        postfix.append(stack[-1])\n",
    "        stack.pop()\n",
    "   \n",
    "    return \" \".join(postfix), eval_postfix(postfix)\n",
    "                    \n",
    "\n"
   ]
  },
  {
   "cell_type": "code",
   "execution_count": 5,
   "metadata": {},
   "outputs": [
    {
     "name": "stdout",
     "output_type": "stream",
     "text": [
      "Testing on 8 cases.\n",
      "- Test 1 PASSED.\n",
      "- Test 2 PASSED.\n",
      "- Test 3 PASSED.\n",
      "- Test 4 PASSED.\n",
      "- Test 5 PASSED.\n",
      "- Test 6 PASSED.\n",
      "- Test 7 PASSED.\n",
      "- Test 8 PASSED.\n",
      "CONGRATULATIONS! All test cases passed!\n"
     ]
    }
   ],
   "source": [
    "# !!! DO NOT MODIFY THIS CELL\n",
    "# Check result on test cases\n",
    "test4(infix_to_postfix_evaluate)"
   ]
  },
  {
   "cell_type": "code",
   "execution_count": null,
   "metadata": {},
   "outputs": [],
   "source": []
  }
 ],
 "metadata": {
  "kernelspec": {
   "display_name": "Python 3.9.12 ('base')",
   "language": "python",
   "name": "python3"
  },
  "language_info": {
   "codemirror_mode": {
    "name": "ipython",
    "version": 3
   },
   "file_extension": ".py",
   "mimetype": "text/x-python",
   "name": "python",
   "nbconvert_exporter": "python",
   "pygments_lexer": "ipython3",
   "version": "3.9.12"
  },
  "vscode": {
   "interpreter": {
    "hash": "2043299c89c8cd0b4d1a6f5cf4529bd58e6a4e0fe3181a25e0d328c821cdc5c5"
   }
  }
 },
 "nbformat": 4,
 "nbformat_minor": 4
}
