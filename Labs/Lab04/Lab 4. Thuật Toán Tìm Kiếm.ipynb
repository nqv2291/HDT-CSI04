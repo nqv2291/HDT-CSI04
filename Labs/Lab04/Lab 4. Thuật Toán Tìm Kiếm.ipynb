{
 "cells": [
  {
   "cell_type": "markdown",
   "metadata": {},
   "source": [
    "## <center>Computer Science Intensive Course - MindX</center>\n",
    "![](./assets/logo.png)\n",
    "# <center>LAB 4. THUẬT TOÁN TÌM KIẾM</center>"
   ]
  },
  {
   "cell_type": "code",
   "execution_count": 3,
   "metadata": {},
   "outputs": [],
   "source": [
    "# run this cell FIRST\n",
    "%run test_cases_4.ipynb"
   ]
  },
  {
   "cell_type": "markdown",
   "metadata": {},
   "source": [
    "## Bài 1. Đếm Từ\n",
    "\n",
    "Cho một đoạn văn gồm nhiều từ và dấu câu, mỗi từ trong đoạn văn cách nhau bằng ít nhất một dấu cách. Đếm tần suất xuất hiện của một từ trong đoạn văn đó (không phân biệt chữ hoa và thường). \n",
    "\n",
    "**Input**: Một đoạn văn dưới dạng *str* với độ dài < 10^6 ký tự và một từ.  \n",
    "**Output**: Tần suất xuất hiện của từ đã cho trong đoạn văn.  \n",
    "**Ví dụ**:\n",
    "- Input: \"The cat is chasing the rat in Netherlands. The dog is also chasing the rat.\", \"the\"\n",
    "- Output: 4\n",
    "- Giải thích: Từ \"the\" xuất hiện 4 lần, không phân biệt chữ hoa và thường.\n",
    "  \n",
    "**Gợi ý**: Kiểm tra một ký tự có nằm trong bảng chữ cái không:"
   ]
  },
  {
   "cell_type": "code",
   "execution_count": null,
   "metadata": {},
   "outputs": [],
   "source": [
    "ch = 'a'\n",
    "ch2 = '.'\n",
    "print(ch.isalpha())\n",
    "print(ch2.isalpha())"
   ]
  },
  {
   "cell_type": "code",
   "execution_count": 1,
   "metadata": {},
   "outputs": [],
   "source": [
    "def count_word(str, word):\n",
    "    lst = []\n",
    "    for word in str.split():\n",
    "        sol = ''\n",
    "        for char in word:\n",
    "            adder += char.lower()\n",
    "        lst.append(sol)    \n",
    "    return lst.count(str.lower())"
   ]
  },
  {
   "cell_type": "code",
   "execution_count": null,
   "metadata": {},
   "outputs": [],
   "source": []
  },
  {
   "cell_type": "code",
   "execution_count": 4,
   "metadata": {},
   "outputs": [
    {
     "name": "stdout",
     "output_type": "stream",
     "text": [
      "Testing on 10 cases.\n",
      "- Test 1 PASSED.\n",
      "- Test 2 PASSED.\n",
      "- Test 3 PASSED.\n",
      "- Test 4 PASSED.\n",
      "- Test 5 PASSED.\n",
      "- Test 6 PASSED.\n",
      "- Test 7 PASSED.\n",
      "- Test 8 PASSED.\n",
      "- Test 9 PASSED.\n",
      "- Test 10 PASSED.\n",
      "CONGRATULATIONS! All test cases passed!\n"
     ]
    }
   ],
   "source": [
    "# !!! DO NOT MODIFY THIS CELL\n",
    "# Check result on test cases\n",
    "test1(count_word)"
   ]
  },
  {
   "cell_type": "markdown",
   "metadata": {},
   "source": [
    "## Bài 2. Rút Gọn Phân Số\n",
    "\n",
    "**Input**: Một phân số a/b với 0 < a, b < 10^9 là số nguyên.  \n",
    "**Output**: Phân số a/b sau khi đã rút gọn.  \n",
    "**Ví dụ**:  \n",
    "Ví dụ 1:\n",
    "- Input: a = 20, b = 4\n",
    "- Output: a = 5, b = 1  \n",
    "\n",
    "Ví dụ 2:\n",
    "- Input: a = 7, b = 20\n",
    "- Output: a = 7, b = 20"
   ]
  },
  {
   "cell_type": "code",
   "execution_count": null,
   "metadata": {},
   "outputs": [],
   "source": [
    "import math"
   ]
  },
  {
   "cell_type": "code",
   "execution_count": 17,
   "metadata": {},
   "outputs": [],
   "source": [
    "def ucln(a,b):\n",
    "    if (b == 0):\n",
    "        return a;\n",
    "    return ucln(b, a % b);\n",
    "\n",
    "def reduce_fraction(a, b):\n",
    "    print(int(a/ucln(a,b)))\n",
    "    print(int(b/ucln(a,b)))\n",
    "\n",
    "# em không hiểu yêu cầu bài này cho lắm\n"
   ]
  },
  {
   "cell_type": "code",
   "execution_count": 18,
   "metadata": {},
   "outputs": [
    {
     "name": "stdout",
     "output_type": "stream",
     "text": [
      "Testing on 10 cases.\n",
      "1\n",
      "1\n",
      "An exception occured at test 1: 'NoneType' object is not subscriptable.\n",
      "1\n",
      "2\n",
      "An exception occured at test 2: 'NoneType' object is not subscriptable.\n",
      "2\n",
      "1\n",
      "An exception occured at test 3: 'NoneType' object is not subscriptable.\n",
      "1\n",
      "2\n",
      "An exception occured at test 4: 'NoneType' object is not subscriptable.\n",
      "3\n",
      "10\n",
      "An exception occured at test 5: 'NoneType' object is not subscriptable.\n",
      "5\n",
      "1\n",
      "An exception occured at test 6: 'NoneType' object is not subscriptable.\n",
      "7\n",
      "20\n",
      "An exception occured at test 7: 'NoneType' object is not subscriptable.\n",
      "93809\n",
      "938634\n",
      "An exception occured at test 8: 'NoneType' object is not subscriptable.\n",
      "60606061\n",
      "93691964\n",
      "An exception occured at test 9: 'NoneType' object is not subscriptable.\n",
      "999999999\n",
      "983279828\n",
      "An exception occured at test 10: 'NoneType' object is not subscriptable.\n",
      "Some test failed. Maybe check some code?\n"
     ]
    }
   ],
   "source": [
    "# !!! DO NOT MODIFY THIS CELL\n",
    "# Check result on test cases\n",
    "test2(reduce_fraction)"
   ]
  },
  {
   "cell_type": "markdown",
   "metadata": {},
   "source": [
    "## Bài 3. Fibonacci\n",
    "\n",
    "Dãy Fibonacci có dạng 1, 1, 2, 3, 5, 8, 13,... với công thức truy hồi:\n",
    "\\begin{align}\n",
    "    fibo_{n} &= fibo_{n-1} + fibo_{n-2} \\\\\n",
    "    fibo_{1} &= fibo_{2} = 1\n",
    "\\end{align}\n",
    "Sử dụng đệ quy để tìm số Fibonacci thứ *n*.  \n",
    "\n",
    "**Input**: Một số nguyên *0 < n < 1000*.  \n",
    "**Output**: Một số nguyên là số Fibonacci thứ *n*.  \n",
    "**Ví dụ**:\n",
    "\n",
    "Ví dụ 1:\n",
    "- Input: n = 3\n",
    "- Output: 2\n",
    "\n",
    "Ví dụ 2:\n",
    "- Input: n = 6\n",
    "- Output: 8"
   ]
  },
  {
   "cell_type": "code",
   "execution_count": 20,
   "metadata": {},
   "outputs": [],
   "source": [
    "def fibonacci(n):\n",
    "    if n == 1 or n == 2:\n",
    "       return 1\n",
    "    return fibonacci(n-1) + fibonacci(n-2)\n",
    "def fibo(n):\n",
    "   return fibonacci(n)\n"
   ]
  },
  {
   "cell_type": "code",
   "execution_count": 21,
   "metadata": {},
   "outputs": [
    {
     "name": "stdout",
     "output_type": "stream",
     "text": [
      "Testing on 12 cases.\n",
      "- Test 1 PASSED.\n",
      "- Test 2 PASSED.\n",
      "- Test 3 PASSED.\n",
      "- Test 4 PASSED.\n",
      "- Test 5 PASSED.\n",
      "- Test 6 PASSED.\n",
      "- Test 7 PASSED.\n"
     ]
    }
   ],
   "source": [
    "# !!! DO NOT MODIFY THIS CELL\n",
    "# Check result on test cases\n",
    "test3(fibonacci)"
   ]
  },
  {
   "cell_type": "markdown",
   "metadata": {},
   "source": [
    "## Bài 4. Kiểm Tra Dãy Con\n",
    "\n",
    "Cho hai chuỗi ký tự *str1* và *str2* chỉ bao gồm các chữ cái viết thường từ 'a' đến 'z'. Kiểm tra có thể tạo thành *str2* bằng cách chọn và sắp xếp các phần tử trong *str1* hay không.\n",
    " \n",
    "**Input**: *str1* và *str2* có độ dài < 10^6  \n",
    "**Output**: *True* nếu có thể tạo thành *str2* từ *str1*, ngược lại *False*.  \n",
    "**Ví dụ**:\n",
    "\n",
    "Ví dụ 1:\n",
    "- Input: str1 = \"acbdfe\", str2 = \"face\"\n",
    "- Output: True\n",
    "- Giải thích: Ta có thể chọn các ký tự 'a', 'c', 'e', 'f' từ *str1* và sắp xếp lại để tạo thành *str2*\n",
    "\n",
    "Ví dụ 2:\n",
    "- Input: str1 = \"aabccdef\", str2 = \"faded\"\n",
    "- Output: False\n",
    "- Giải thích: *str1* chỉ có một ký tự 'd', còn *str2* cần hai ký tự 'd'"
   ]
  },
  {
   "cell_type": "code",
   "execution_count": null,
   "metadata": {},
   "outputs": [],
   "source": [
    "def check_substring(str1, str2):\n",
    "    pass"
   ]
  },
  {
   "cell_type": "code",
   "execution_count": null,
   "metadata": {},
   "outputs": [],
   "source": [
    "# !!! DO NOT MODIFY THIS CELL\n",
    "# Check result on test cases\n",
    "test4(check_substring)"
   ]
  },
  {
   "cell_type": "code",
   "execution_count": null,
   "metadata": {},
   "outputs": [],
   "source": []
  }
 ],
 "metadata": {
  "kernelspec": {
   "display_name": "Python 3.9.12 ('base')",
   "language": "python",
   "name": "python3"
  },
  "language_info": {
   "codemirror_mode": {
    "name": "ipython",
    "version": 3
   },
   "file_extension": ".py",
   "mimetype": "text/x-python",
   "name": "python",
   "nbconvert_exporter": "python",
   "pygments_lexer": "ipython3",
   "version": "3.9.12"
  },
  "vscode": {
   "interpreter": {
    "hash": "b2b9efa92f2bdac4bfda25c60f3f7d6c779c80601382838fe4225a699a59d380"
   }
  }
 },
 "nbformat": 4,
 "nbformat_minor": 4
}
