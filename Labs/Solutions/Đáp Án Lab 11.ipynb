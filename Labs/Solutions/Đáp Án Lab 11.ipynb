{
 "cells": [
  {
   "cell_type": "markdown",
   "metadata": {},
   "source": [
    "## <center>Computer Science Intensive Course - MindX</center>\n",
    "![](./assets/logo.png)\n",
    "# <center>ĐÁP ÁN LAB 11 12 13</center>"
   ]
  },
  {
   "cell_type": "markdown",
   "metadata": {},
   "source": [
    "# LAB 11. THUẬT TOÁN TÌM ĐƯỜNG (1)"
   ]
  },
  {
   "cell_type": "markdown",
   "metadata": {},
   "source": [
    "### Bài 1. Tìm Đường"
   ]
  },
  {
   "cell_type": "code",
   "execution_count": 2,
   "metadata": {},
   "outputs": [],
   "source": [
    "def traverse(graph, current_island, island_b, visited, path):\n",
    "    \n",
    "    # check that the current island is visited\n",
    "    visited.add(current_island)\n",
    "    \n",
    "    # append to the current path\n",
    "    path.append(current_island)\n",
    "    \n",
    "    # stop recursion if reached B\n",
    "    if current_island == island_b:\n",
    "        return True\n",
    "    \n",
    "    # traverse adjacent islands\n",
    "    for vertex in graph[current_island]:\n",
    "        if vertex not in visited:\n",
    "            if traverse(graph, vertex, island_b, visited, path):\n",
    "                return True  # stop checking other paths if reached B\n",
    "    \n",
    "    # remove current island from path as not found B\n",
    "    path.pop(-1)\n",
    "    return False\n",
    "\n",
    "\n",
    "def find_path(graph, island_a, island_b):\n",
    "    \n",
    "    # init empty path\n",
    "    path = []\n",
    "    \n",
    "    # start finding from A\n",
    "    traverse(graph, island_a, island_b, set(), path)\n",
    "    \n",
    "    return path"
   ]
  },
  {
   "cell_type": "markdown",
   "metadata": {},
   "source": [
    "### Bài 2. Tạo Mê Cung"
   ]
  },
  {
   "cell_type": "code",
   "execution_count": 3,
   "metadata": {},
   "outputs": [],
   "source": [
    "import matplotlib.pyplot as plt\n",
    "\n",
    "plt.style.use('default')\n",
    "\n",
    "def plot_maze(vertical, horizontal, fig_height=8):\n",
    "\n",
    "    # init height & width\n",
    "    height = len(vertical)\n",
    "    width = len(vertical[0])\n",
    "    \n",
    "    # init figure\n",
    "    fig = plt.figure(figsize=(fig_height*2, fig_height))\n",
    "    fig.patch.set_visible(False)\n",
    "\n",
    "    # draw maze borders\n",
    "    for row in range(height):\n",
    "        for col in range(width):\n",
    "            if vertical[row][col]:\n",
    "                plt.plot((col, col), (row, row+1), color='white')\n",
    "            if horizontal[row][col]:\n",
    "                plt.plot((col, col+1), (row, row), color='white')\n",
    "\n",
    "    # draw surrounding borders on the right & bottom\n",
    "    plt.plot((width, width), (0, height-1), color='white')\n",
    "    plt.plot((0, width), (height, height), color='white')\n",
    "\n",
    "    # styling the plot\n",
    "    ax = plt.gca()\n",
    "    ax.set_facecolor((0, 0, 0))\n",
    "    ax.set_ylim(ax.get_ylim()[::-1])\n",
    "    plt.xticks([])\n",
    "    plt.yticks([])\n",
    "    \n",
    "    # add arrows\n",
    "    plt.arrow(0, 0.5, 0.8, 0, width=0.07, length_includes_head=True, color='white')\n",
    "    plt.arrow(width-0.8, height-0.5, 0.8, 0, width=0.07, length_includes_head=True, color='white')\n",
    "    \n",
    "    plt.show()"
   ]
  },
  {
   "cell_type": "code",
   "execution_count": 1,
   "metadata": {},
   "outputs": [],
   "source": [
    "# SOLUTION\n",
    "from IPython import display\n",
    "import time\n",
    "import random\n",
    "\n",
    "\n",
    "def generate_maze_recursive(prev_row, prev_col, row, col, width, height, visited, vertical, horizontal):\n",
    "    \n",
    "    # mark current cell as visited\n",
    "    visited[row][col] = True\n",
    "    \n",
    "    # delete border between current cell and previous cell\n",
    "    if prev_row == row:\n",
    "        vertical[row][max(prev_col, col)] = False\n",
    "    if prev_col == col:\n",
    "        horizontal[max(prev_row, row)][col] = False\n",
    "    \n",
    "    # show the process of creating the maze - USED FOR DEMONSTRATION\n",
    "    time.sleep(0.1)\n",
    "    display.clear_output(wait=True)\n",
    "    plot_maze(vertical, horizontal)\n",
    "    \n",
    "    # randomize the order of neighbor cells to traverse\n",
    "    neighbors = [(row-1, col), (row, col+1), (row+1, col), (row, col-1)]\n",
    "    random.shuffle(neighbors)\n",
    "    \n",
    "    # traverse neight cells\n",
    "    for i, j in neighbors:\n",
    "        # check if reached maze limits\n",
    "        if i != -1 and i != height and j != -1 and j != width and not visited[i][j]:\n",
    "            generate_maze_recursive(row, col, i, j, width, height, visited, vertical, horizontal)\n",
    "    \n",
    "\n",
    "# generate vertical and horizontal borders of a maze\n",
    "def generate_maze(height, seed=2021):\n",
    "    \n",
    "    # init random seed\n",
    "    random.seed(seed)\n",
    "    \n",
    "    # init needed variables\n",
    "    width = height * 2\n",
    "    visited = [[False]*width for _ in range(height)]\n",
    "    vertical = [[True]*width for _ in range(height)]\n",
    "    horizontal = [[True]*width for _ in range(height)]\n",
    "    \n",
    "    # start generating maze\n",
    "    start_cell = {'x': 0, 'y': 0}\n",
    "    previous_cell = {'x': 0, 'y': -1}\n",
    "    generate_maze_recursive(previous_cell['x'], previous_cell['y'], start_cell['x'], start_cell['y'],\n",
    "                            width, height, visited, vertical, horizontal)\n",
    "    \n",
    "    return vertical, horizontal"
   ]
  },
  {
   "cell_type": "code",
   "execution_count": 4,
   "metadata": {},
   "outputs": [
    {
     "data": {
      "image/png": "[encoded data removed]",
      "text/plain": [
       "<Figure size 1600x800 with 1 Axes>"
      ]
     },
     "metadata": {},
     "output_type": "display_data"
    },
    {
     "data": {
      "text/plain": [
       "([[False, True, False, False, True, False, False, False],\n",
       "  [True, True, False, False, False, True, False, True],\n",
       "  [True, False, False, False, False, True, True, False],\n",
       "  [True, False, False, False, False, False, True, False]],\n",
       " [[True, True, True, True, True, True, True, True],\n",
       "  [False, False, True, True, False, True, True, False],\n",
       "  [False, True, True, True, True, False, False, False],\n",
       "  [True, True, True, True, False, False, True, False]])"
      ]
     },
     "execution_count": 4,
     "metadata": {},
     "output_type": "execute_result"
    }
   ],
   "source": [
    "generate_maze(4, seed=42)"
   ]
  }
 ],
 "metadata": {
  "kernelspec": {
   "display_name": "Python 3.9.12 ('base')",
   "language": "python",
   "name": "python3"
  },
  "language_info": {
   "codemirror_mode": {
    "name": "ipython",
    "version": 3
   },
   "file_extension": ".py",
   "mimetype": "text/x-python",
   "name": "python",
   "nbconvert_exporter": "python",
   "pygments_lexer": "ipython3",
   "version": "3.9.12"
  },
  "vscode": {
   "interpreter": {
    "hash": "245cc435fe8701059561108fec3fd7c748240250fa2e2b5e714b4f6827c3f344"
   }
  }
 },
 "nbformat": 4,
 "nbformat_minor": 4
}
