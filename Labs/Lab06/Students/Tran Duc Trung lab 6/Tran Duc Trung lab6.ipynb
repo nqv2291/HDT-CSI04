{
 "cells": [
  {
   "cell_type": "markdown",
   "metadata": {},
   "source": [
    "## <center>Computer Science Intensive Course - MindX</center>\n",
    "![](./assets/logo.png)\n",
    "# <center>LAB 6. THUẬT TOÁN SẮP XẾP (2)</center>"
   ]
  },
  {
   "cell_type": "code",
   "execution_count": 1,
   "metadata": {},
   "outputs": [],
   "source": [
    "# run this cell FIRST\n",
    "%run test_cases_6.ipynb"
   ]
  },
  {
   "cell_type": "markdown",
   "metadata": {},
   "source": [
    "## Bài 1. Quick Sort Partition\n",
    "\n",
    "Ta đã biết Quicksort rơi vào trường hợp xấu nhất khi *pivot* được chọn luôn luôn là phần tử lớn nhất hoặc nhỏ nhất. Đối với code trên bài học, trường hợp này xảy ra khi dãy đã được sắp xếp (tăng dần hoặc giảm dần).  \n",
    "\n",
    "Ta có thể chạy thử trường hợp này ở hai đoạn code phía dưới: sắp xếp dãy 10000 phần tử đã được sắp xếp giảm dần."
   ]
  },
  {
   "cell_type": "code",
   "execution_count": 2,
   "metadata": {},
   "outputs": [
    {
     "name": "stdout",
     "output_type": "stream",
     "text": [
      "Before sorting: [9999, 9998, 9997, 9996, 9995, 9994, 9993, 9992, 9991, 9990] ... [9, 8, 7, 6, 5, 4, 3, 2, 1, 0]\n",
      "After sorting: [0, 1, 2, 3, 4, 5, 6, 7, 8, 9] ... [9990, 9991, 9992, 9993, 9994, 9995, 9996, 9997, 9998, 9999]\n"
     ]
    }
   ],
   "source": [
    "num_arr = [i for i in range(9999, -1, -1)]\n",
    "print(\"Before sorting: {} ... {}\".format(num_arr[:10], num_arr[-10:]))\n",
    "\n",
    "merge_sort(num_arr, 0, 10000)\n",
    "print(\"After sorting: {} ... {}\".format(num_arr[:10], num_arr[-10:]))"
   ]
  },
  {
   "cell_type": "code",
   "execution_count": 3,
   "metadata": {},
   "outputs": [
    {
     "name": "stdout",
     "output_type": "stream",
     "text": [
      "Before sorting: [9999, 9998, 9997, 9996, 9995, 9994, 9993, 9992, 9991, 9990] ... [9, 8, 7, 6, 5, 4, 3, 2, 1, 0]\n"
     ]
    },
    {
     "ename": "",
     "evalue": "",
     "output_type": "error",
     "traceback": [
      "\u001b[1;31mCanceled future for execute_request message before replies were done"
     ]
    },
    {
     "ename": "",
     "evalue": "",
     "output_type": "error",
     "traceback": [
      "\u001b[1;31mThe Kernel crashed while executing code in the the current cell or a previous cell. Please review the code in the cell(s) to identify a possible cause of the failure. Click <a href='https://aka.ms/vscodeJupyterKernelCrash'>here</a> for more info. View Jupyter <a href='command:jupyter.viewOutput'>log</a> for further details."
     ]
    }
   ],
   "source": [
    "num_arr = [i for i in range(9999, -1, -1)]\n",
    "print(\"Before sorting: {} ... {}\".format(num_arr[:10], num_arr[-10:]))\n",
    "\n",
    "quick_sort(num_arr, 0, 10000)\n",
    "print(\"After sorting: {} ... {}\".format(num_arr[:10], num_arr[-10:]))"
   ]
  },
  {
   "cell_type": "markdown",
   "metadata": {},
   "source": [
    "*Nhận xét*: Merge Sort có thể chạy rất tốt, trong khi Quicksort bị lỗi gọi đệ quy quá nhiều lần.  "
   ]
  },
  {
   "cell_type": "markdown",
   "metadata": {},
   "source": [
    "**Yêu cầu**: Hãy viết hàm *partition_mid* chọn *pivot* là phần tử nằm chính giữa dãy, chuyển tất cả phần tử nhỏ hơn hoặc bằng *pivot* về bên trái và tất cả phần tử lớn hơn hoặc bằng *pivot* về bên phải. Biết index của phần tử chính giữa dãy được tính bằng công thức *mid = (len(arr)-1)//2*.  \n",
    "\n",
    "**Input**: Một dãy *arr* chứa *1 < n < 10<sup>6</sup>* số thực. Mỗi phần tử có giá trị trong khoảng [-10<sup>9</sup>, 10<sup>9</sup>].  \n",
    "**Output**: Dãy đã được chia thành hai phần và một số index sao cho tất cả phần tử ở *arr[:index]* đều nhỏ hơn hoặc bằng *pivot* và *arr[index:]* đều lớn hơn hoặc bằng *pivot*.  \n",
    "**Ví dụ**:\n",
    "- Input: [5, 9, 1, 12, 30, 35, 75, 10, 15, 20, 4, 0, 20, 0, 20, 3, 6, 14]\n",
    "- Output: [5, 9, 1, 12, 14, 6, 3, 10, 0, 0, 4, 20, 20, 15, 20, 75, 35, 30], 11\n",
    "- Giải thích:\n",
    "  + Ta tính vị trí của pivot theo công thức: mid = (len(arr)-1)//2 = (18-1)//2 = 8\n",
    "  + Như vậy, pivot = arr[8] = 15\n",
    "  + Sau khi chuyển, ta có index = 11.  \n",
    "    Tất cả phần tử có index từ 0 đến 10 đều <= 15.  \n",
    "    Tất cả phần tử có index từ 11 đến 17 đều >= 15."
   ]
  },
  {
   "cell_type": "code",
   "execution_count": 6,
   "metadata": {},
   "outputs": [],
   "source": [
    "def partition_mid(arr):\n",
    "    pass"
   ]
  },
  {
   "cell_type": "code",
   "execution_count": null,
   "metadata": {},
   "outputs": [],
   "source": [
    "# !!! DO NOT MODIFY THIS CELL\n",
    "# Check result on test cases\n",
    "test1(partition_mid)"
   ]
  },
  {
   "cell_type": "markdown",
   "metadata": {},
   "source": [
    "## Bài 2. Quicksort Với Pivot Giữa\n",
    "\n",
    "Dựa vào hàm *partition_mid* ở bài trên, hãy viết thuật toán Quicksort chọn phần tử chính giữa dãy làm *pivot*.\n",
    "\n",
    "**Input**: Một dãy *arr* chứa *0 < n < 10<sup>6</sup>* số thực. Mỗi phần tử có giá trị trong khoảng [-10<sup>9</sup>, 10<sup>9</sup>].  \n",
    "**Output**: Dãy đã được sắp xếp từ nhỏ đến lớn.  \n",
    "**Ví dụ**:\n",
    "- Input: [3, 2, 1]\n",
    "- Output: [1, 2, 3] \n",
    "\n",
    "Sau khi hoàn tất, hãy thử chạy lại thuật toán Quicksort với mảng đã được sắp xếp giảm dần phía dưới."
   ]
  },
  {
   "cell_type": "code",
   "execution_count": null,
   "metadata": {},
   "outputs": [],
   "source": [
    "num_arr = [i for i in range(9999, -1, -1)]\n",
    "print(\"{} ... {}\".format(num_arr[:10], num_arr[-10:]))"
   ]
  },
  {
   "cell_type": "code",
   "execution_count": null,
   "metadata": {},
   "outputs": [],
   "source": [
    "def quick_sort_mid_pivot(arr, left, right):\n",
    "    pass"
   ]
  },
  {
   "cell_type": "code",
   "execution_count": null,
   "metadata": {},
   "outputs": [],
   "source": [
    "# !!! DO NOT MODIFY THIS CELL\n",
    "# Check result on test cases\n",
    "test2(quick_sort_mid_pivot)"
   ]
  },
  {
   "cell_type": "markdown",
   "metadata": {},
   "source": [
    "## Bài 3. Hybrid Sort\n",
    "\n",
    "Trong các thư viện, người ta thường dùng các thuật toán lai (*hybrid algorithm*) cho các hàm sắp xếp, tức kết hợp các thuật toán sắp xếp với nhau.  \n",
    "\n",
    "Ví dụ, Quicksort chạy tốt trên danh sách có kích thước lớn, nhưng Insertion Sort lại chạy tốt hơn Quicksort trên các danh sách có kích thước nhỏ *(n < 10)*. Do đó, ta có thể dùng Quicksort khi danh sách có kích thước >= 10 và Insertion Sort khi kích thước < 10.\n",
    "\n",
    "Dựa vào ý tưởng trên, hãy viết một thuật toán lai giữa Quicksort và Insertion Sort. Có thể dùng code đã viết ở các bài trước.  \n",
    "\n",
    "**Input**: Một dãy *arr* chứa *0 < n < 10<sup>6</sup>* số thực. Mỗi phần tử có giá trị trong khoảng [-10<sup>9</sup>, 10<sup>9</sup>].  \n",
    "**Output**: Dãy đã được sắp xếp từ nhỏ đến lớn.  \n",
    "**Ví dụ**:\n",
    "- Input: [3, 2, 1, 5, 4, 7, 6]\n",
    "- Output: [1, 2, 3, 4, 5, 6, 7] "
   ]
  },
  {
   "cell_type": "code",
   "execution_count": 12,
   "metadata": {},
   "outputs": [],
   "source": [
    "def partition(arr, left, right):\n",
    "    pivot = arr[left]\n",
    "    i = left\n",
    "    for j in range(left+1, right):\n",
    "        if arr[j] < pivot:\n",
    "            i += 1\n",
    "            arr[i], arr[j] = arr[j], arr[i]\n",
    "    arr[i], arr[left] = arr[left], arr[i]  \n",
    "    return i\n",
    "\n",
    "\n",
    "def quick_sort(arr, left, right):\n",
    "    \n",
    "    if right-left <= 1:\n",
    "        return\n",
    "    \n",
    "    partition_index = partition(arr, left, right)\n",
    "    \n",
    "    quick_sort(arr, left, partition_index)   \n",
    "    quick_sort(arr, partition_index+1, right)\n",
    "\n",
    "def hybrid_sort(arr):\n",
    "    if len(arr) < 10: #insertion sort\n",
    "        for i in range(1, len(arr)):  \n",
    "            j = i\n",
    "            while j > 0 and arr[j] < arr[j-1]:  \n",
    "                arr[j], arr[j-1] = arr[j-1], arr[j]\n",
    "                j -= 1\n",
    "    else:\n",
    "        quick_sort(arr,0,len(arr))\n",
    "    return arr"
   ]
  },
  {
   "cell_type": "code",
   "execution_count": 13,
   "metadata": {},
   "outputs": [
    {
     "name": "stdout",
     "output_type": "stream",
     "text": [
      "Testing on 10 cases.\n",
      "- Test 1 PASSED.\n",
      "- Test 2 PASSED.\n",
      "- Test 3 PASSED.\n",
      "- Test 4 PASSED.\n",
      "- Test 5 PASSED.\n",
      "- Test 6 PASSED.\n",
      "- Test 7 PASSED.\n",
      "- Test 8 PASSED.\n",
      "- Test 9 PASSED.\n",
      "- Test 10 PASSED.\n",
      "CONGRATULATIONS! All test cases passed!\n"
     ]
    }
   ],
   "source": [
    "# !!! DO NOT MODIFY THIS CELL\n",
    "# Check result on test cases\n",
    "test3(hybrid_sort)"
   ]
  },
  {
   "cell_type": "code",
   "execution_count": null,
   "metadata": {},
   "outputs": [],
   "source": []
  }
 ],
 "metadata": {
  "kernelspec": {
   "display_name": "Python 3.9.12 ('base')",
   "language": "python",
   "name": "python3"
  },
  "language_info": {
   "codemirror_mode": {
    "name": "ipython",
    "version": 3
   },
   "file_extension": ".py",
   "mimetype": "text/x-python",
   "name": "python",
   "nbconvert_exporter": "python",
   "pygments_lexer": "ipython3",
   "version": "3.9.12"
  },
  "vscode": {
   "interpreter": {
    "hash": "b96a0b596e0878a9b961bc6c06a2e9009bb9d1396e6a1dd9debb12e621035262"
   }
  }
 },
 "nbformat": 4,
 "nbformat_minor": 4
}
