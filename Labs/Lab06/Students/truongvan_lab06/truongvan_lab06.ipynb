{
 "cells": [
  {
   "cell_type": "markdown",
   "metadata": {},
   "source": [
    "## <center>Computer Science Intensive Course - MindX</center>\n",
    "![](./assets/logo.png)\n",
    "# <center>LAB 6. THUẬT TOÁN SẮP XẾP (2)</center>"
   ]
  },
  {
   "cell_type": "code",
   "execution_count": 5,
   "metadata": {},
   "outputs": [],
   "source": [
    "# run this cell FIRST\n",
    "%run test_cases_6.ipynb"
   ]
  },
  {
   "cell_type": "markdown",
   "metadata": {},
   "source": [
    "## Bài 1. Quick Sort Partition\n",
    "\n",
    "Ta đã biết Quicksort rơi vào trường hợp xấu nhất khi *pivot* được chọn luôn luôn là phần tử lớn nhất hoặc nhỏ nhất. Đối với code trên bài học, trường hợp này xảy ra khi dãy đã được sắp xếp (tăng dần hoặc giảm dần).  \n",
    "\n",
    "Ta có thể chạy thử trường hợp này ở hai đoạn code phía dưới: sắp xếp dãy 10000 phần tử đã được sắp xếp giảm dần."
   ]
  },
  {
   "cell_type": "code",
   "execution_count": 2,
   "metadata": {},
   "outputs": [
    {
     "name": "stdout",
     "output_type": "stream",
     "text": [
      "Before sorting: [9999, 9998, 9997, 9996, 9995, 9994, 9993, 9992, 9991, 9990] ... [9, 8, 7, 6, 5, 4, 3, 2, 1, 0]\n",
      "After sorting: [0, 1, 2, 3, 4, 5, 6, 7, 8, 9] ... [9990, 9991, 9992, 9993, 9994, 9995, 9996, 9997, 9998, 9999]\n"
     ]
    }
   ],
   "source": [
    "num_arr = [i for i in range(9999, -1, -1)]\n",
    "print(\"Before sorting: {} ... {}\".format(num_arr[:10], num_arr[-10:]))\n",
    "\n",
    "merge_sort(num_arr, 0, 10000)\n",
    "print(\"After sorting: {} ... {}\".format(num_arr[:10], num_arr[-10:]))"
   ]
  },
  {
   "cell_type": "code",
   "execution_count": 3,
   "metadata": {},
   "outputs": [
    {
     "name": "stdout",
     "output_type": "stream",
     "text": [
      "Before sorting: [9999, 9998, 9997, 9996, 9995, 9994, 9993, 9992, 9991, 9990] ... [9, 8, 7, 6, 5, 4, 3, 2, 1, 0]\n"
     ]
    },
    {
     "ename": "",
     "evalue": "",
     "output_type": "error",
     "traceback": [
      "\u001b[1;31mThe Kernel crashed while executing code in the the current cell or a previous cell. Please review the code in the cell(s) to identify a possible cause of the failure. Click <a href='https://aka.ms/vscodeJupyterKernelCrash'>here</a> for more info. View Jupyter <a href='command:jupyter.viewOutput'>log</a> for further details."
     ]
    },
    {
     "ename": "",
     "evalue": "",
     "output_type": "error",
     "traceback": [
      "\u001b[1;31mCanceled future for execute_request message before replies were done"
     ]
    }
   ],
   "source": [
    "num_arr = [i for i in range(9999, -1, -1)]\n",
    "print(\"Before sorting: {} ... {}\".format(num_arr[:10], num_arr[-10:]))\n",
    "\n",
    "quick_sort(num_arr, 0, 10000)\n",
    "print(\"After sorting: {} ... {}\".format(num_arr[:10], num_arr[-10:]))"
   ]
  },
  {
   "cell_type": "markdown",
   "metadata": {},
   "source": [
    "*Nhận xét*: Merge Sort có thể chạy rất tốt, trong khi Quicksort bị lỗi gọi đệ quy quá nhiều lần.  "
   ]
  },
  {
   "cell_type": "markdown",
   "metadata": {},
   "source": [
    "**Yêu cầu**: Hãy viết hàm *partition_mid* chọn *pivot* là phần tử nằm chính giữa dãy, chuyển tất cả phần tử nhỏ hơn hoặc bằng *pivot* về bên trái và tất cả phần tử lớn hơn hoặc bằng *pivot* về bên phải. Biết index của phần tử chính giữa dãy được tính bằng công thức *mid = (len(arr)-1)//2*.  \n",
    "\n",
    "**Input**: Một dãy *arr* chứa *1 < n < 10<sup>6</sup>* số thực. Mỗi phần tử có giá trị trong khoảng [-10<sup>9</sup>, 10<sup>9</sup>].  \n",
    "**Output**: Dãy đã được chia thành hai phần và một số index sao cho tất cả phần tử ở *arr[:index]* đều nhỏ hơn hoặc bằng *pivot* và *arr[index:]* đều lớn hơn hoặc bằng *pivot*.  \n",
    "**Ví dụ**:\n",
    "- Input: [5, 9, 1, 12, 30, 35, 75, 10, 15, 20, 4, 0, 20, 0, 20, 3, 6, 14]\n",
    "- Output: [5, 9, 1, 12, 14, 6, 3, 10, 0, 0, 4, 20, 20, 15, 20, 75, 35, 30], 11\n",
    "- Giải thích:\n",
    "  + Ta tính vị trí của pivot theo công thức: mid = (len(arr)-1)//2 = (18-1)//2 = 8\n",
    "  + Như vậy, pivot = arr[8] = 15\n",
    "  + Sau khi chuyển, ta có index = 11.  \n",
    "    Tất cả phần tử có index từ 0 đến 10 đều <= 15.  \n",
    "    Tất cả phần tử có index từ 11 đến 17 đều >= 15."
   ]
  },
  {
   "cell_type": "code",
   "execution_count": null,
   "metadata": {},
   "outputs": [],
   "source": [
    "# def partition_mid(arr):  # cách ăn gian\n",
    "#     mid_var = arr[(len(arr)-1)//2]\n",
    "#     smaller = []\n",
    "#     bigger  = []\n",
    "#     for i in arr:\n",
    "#         if i<mid_var:\n",
    "#             smaller.append(i)\n",
    "#         else:\n",
    "#             bigger.append(i)\n",
    "#     return smaller + [mid_var] + bigger\n",
    "# arr = [5, 9, 1, 12, 30, 35, 75, 10, 15, 20, 4, 0, 20, 0, 20, 3, 6, 14]\n",
    "# print(partition_mid(arr))\n",
    "# print(arr)\n",
    "    "
   ]
  },
  {
   "cell_type": "code",
   "execution_count": 1,
   "metadata": {},
   "outputs": [
    {
     "name": "stdout",
     "output_type": "stream",
     "text": [
      "[5, 9, 1, 12, 10, 4, 0, 0, 3, 6, 14, 75, 20, 30, 20, 15, 20, 35] 11\n"
     ]
    }
   ],
   "source": [
    "def partition_mid1(arr):  # cách này fail 2 cases\n",
    "    mid = (len(arr)-1) // 2\n",
    "    \n",
    "    pivot = arr[mid]  \n",
    "    i = 0\n",
    "    for j in range(1,len(arr)):\n",
    "        if arr[j] < pivot:  \n",
    "            i += 1\n",
    "            arr[i], arr[j] = arr[j], arr[i] \n",
    "    return  arr, i+1\n",
    "    \n",
    "arr = [5, 9, 1, 12, 30, 35, 75, 10, 15, 20, 4, 0, 20, 0, 20, 3, 6, 14]\n",
    "arr, ind = partition_mid1(arr)\n",
    "print(arr, ind) "
   ]
  },
  {
   "cell_type": "code",
   "execution_count": 10,
   "metadata": {},
   "outputs": [],
   "source": [
    "def partition_mid(arr):\n",
    "    mid = (len(arr)-1)//2\n",
    "    pivot = arr[mid]\n",
    "    left = 0\n",
    "    right = len(arr) - 1\n",
    "    while left <= right:\n",
    "        while arr[left] < pivot:\n",
    "            left += 1\n",
    "        while arr[right] > pivot:\n",
    "            right -=1\n",
    "        if right >= left:\n",
    "            arr[right], arr[left] = arr[left], arr[right]\n",
    "            right -= 1\n",
    "            left += 1\n",
    "    return arr, left"
   ]
  },
  {
   "cell_type": "code",
   "execution_count": 11,
   "metadata": {},
   "outputs": [
    {
     "name": "stdout",
     "output_type": "stream",
     "text": [
      "Testing on 9 cases.\n",
      "- Test 1 PASSED.\n",
      "- Test 2 PASSED.\n",
      "- Test 3 PASSED.\n",
      "- Test 4 FAILED: Wrong Answer.\n",
      "- Test 5 FAILED: Wrong Answer.\n",
      "- Test 6 FAILED: Wrong Answer.\n",
      "- Test 7 FAILED: Wrong Answer.\n",
      "- Test 8 FAILED: Wrong Answer.\n",
      "- Test 9 FAILED: Wrong Answer.\n",
      "Some test failed. Maybe check some code?\n"
     ]
    }
   ],
   "source": [
    "# !!! DO NOT MODIFY THIS CELL\n",
    "# Check result on test cases\n",
    "test1(partition_mid)"
   ]
  },
  {
   "cell_type": "markdown",
   "metadata": {},
   "source": [
    "## Bài 2. Quicksort Với Pivot Giữa\n",
    "\n",
    "Dựa vào hàm *partition_mid* ở bài trên, hãy viết thuật toán Quicksort chọn phần tử chính giữa dãy làm *pivot*.\n",
    "\n",
    "**Input**: Một dãy *arr* chứa *0 < n < 10<sup>6</sup>* số thực. Mỗi phần tử có giá trị trong khoảng [-10<sup>9</sup>, 10<sup>9</sup>].  \n",
    "**Output**: Dãy đã được sắp xếp từ nhỏ đến lớn.  \n",
    "**Ví dụ**:\n",
    "- Input: [3, 2, 1]\n",
    "- Output: [1, 2, 3] \n",
    "\n",
    "Sau khi hoàn tất, hãy thử chạy lại thuật toán Quicksort với mảng đã được sắp xếp giảm dần phía dưới."
   ]
  },
  {
   "cell_type": "code",
   "execution_count": 5,
   "metadata": {},
   "outputs": [
    {
     "name": "stdout",
     "output_type": "stream",
     "text": [
      "[9999, 9998, 9997, 9996, 9995, 9994, 9993, 9992, 9991, 9990] ... [9, 8, 7, 6, 5, 4, 3, 2, 1, 0]\n"
     ]
    }
   ],
   "source": [
    "num_arr = [i for i in range(9999, -1, -1)]\n",
    "print(\"{} ... {}\".format(num_arr[:10], num_arr[-10:]))"
   ]
  },
  {
   "cell_type": "code",
   "execution_count": 2,
   "metadata": {},
   "outputs": [
    {
     "name": "stdout",
     "output_type": "stream",
     "text": [
      "[0, 0, 1, 3, 4, 5, 6, 9, 10, 12, 14, 15, 20, 20, 20, 30, 35, 75]\n",
      "[0, 0, 1, 3, 4, 5, 6, 9, 10, 12, 14, 15, 20, 20, 20, 30, 35, 75]\n"
     ]
    }
   ],
   "source": [
    "def partition_mid(arr, left, right):\n",
    "    \n",
    "    mid = (right + left-1) // 2\n",
    "    \n",
    "    pivot = arr[mid]  \n",
    "    i = left\n",
    "    j = right -1\n",
    "    while i <= j:\n",
    "        while arr[i] < pivot:\n",
    "            i += 1\n",
    "        while arr[j] > pivot:\n",
    "            j -= 1\n",
    "        if i <= j:\n",
    "            arr[i], arr[j] = arr[j], arr[i]\n",
    "            i += 1\n",
    "            j -= 1 \n",
    "    return  i\n",
    "    \n",
    "def quick_sort(arr, left, right):\n",
    "    if right-left <= 1: \n",
    "        return\n",
    "    partition_index = partition_mid(arr, left, right)\n",
    "    quick_sort(arr, left, partition_index)    \n",
    "    quick_sort(arr, partition_index, right) \n",
    "\n",
    "def quick_sort_mid_pivot(arr):\n",
    "    quick_sort(arr, 0,  len(arr))\n",
    "    return arr\n",
    "    \n",
    "arr = [5, 9, 1, 12, 30, 35, 75, 10, 15, 20, 4, 0, 20, 0, 20, 3, 6, 14]\n",
    "print(quick_sort_mid_pivot(arr))\n"
   ]
  },
  {
   "cell_type": "code",
   "execution_count": 1,
   "metadata": {},
   "outputs": [
    {
     "ename": "NameError",
     "evalue": "name 'test2' is not defined",
     "output_type": "error",
     "traceback": [
      "\u001b[1;31m---------------------------------------------------------------------------\u001b[0m",
      "\u001b[1;31mNameError\u001b[0m                                 Traceback (most recent call last)",
      "\u001b[1;32md:\\vanmindX\\MY_CSI\\truongvan_lab06.ipynb Cell 14\u001b[0m in \u001b[0;36m<cell line: 3>\u001b[1;34m()\u001b[0m\n\u001b[0;32m      <a href='vscode-notebook-cell:/d%3A/vanmindX/MY_CSI/truongvan_lab06.ipynb#ch0000013?line=0'>1</a>\u001b[0m \u001b[39m# !!! DO NOT MODIFY THIS CELL\u001b[39;00m\n\u001b[0;32m      <a href='vscode-notebook-cell:/d%3A/vanmindX/MY_CSI/truongvan_lab06.ipynb#ch0000013?line=1'>2</a>\u001b[0m \u001b[39m# Check result on test cases\u001b[39;00m\n\u001b[1;32m----> <a href='vscode-notebook-cell:/d%3A/vanmindX/MY_CSI/truongvan_lab06.ipynb#ch0000013?line=2'>3</a>\u001b[0m test2(quick_sort_mid_pivot)\n",
      "\u001b[1;31mNameError\u001b[0m: name 'test2' is not defined"
     ]
    }
   ],
   "source": [
    "# !!! DO NOT MODIFY THIS CELL\n",
    "# Check result on test cases\n",
    "test2(quick_sort_mid_pivot)"
   ]
  },
  {
   "cell_type": "markdown",
   "metadata": {},
   "source": [
    "## Bài 3. Hybrid Sort\n",
    "\n",
    "Trong các thư viện, người ta thường dùng các thuật toán lai (*hybrid algorithm*) cho các hàm sắp xếp, tức kết hợp các thuật toán sắp xếp với nhau.  \n",
    "\n",
    "Ví dụ, Quicksort chạy tốt trên danh sách có kích thước lớn, nhưng Insertion Sort lại chạy tốt hơn Quicksort trên các danh sách có kích thước nhỏ *(n < 10)*. Do đó, ta có thể dùng Quicksort khi danh sách có kích thước >= 10 và Insertion Sort khi kích thước < 10.\n",
    "\n",
    "Dựa vào ý tưởng trên, hãy viết một thuật toán lai giữa Quicksort và Insertion Sort. Có thể dùng code đã viết ở các bài trước.  \n",
    "\n",
    "**Input**: Một dãy *arr* chứa *0 < n < 10<sup>6</sup>* số thực. Mỗi phần tử có giá trị trong khoảng [-10<sup>9</sup>, 10<sup>9</sup>].  \n",
    "**Output**: Dãy đã được sắp xếp từ nhỏ đến lớn.  \n",
    "**Ví dụ**:\n",
    "- Input: [3, 2, 1, 5, 4, 7, 6]\n",
    "- Output: [1, 2, 3, 4, 5, 6, 7] "
   ]
  },
  {
   "cell_type": "code",
   "execution_count": 8,
   "metadata": {},
   "outputs": [],
   "source": [
    "def partition(arr, left, right):  ### bản không hoàn chỉnh\n",
    "    pivot = arr[left] \n",
    "    i = left\n",
    "    for j in range(left+1, right):\n",
    "        if arr[j] < pivot:  \n",
    "            i += 1\n",
    "            arr[i], arr[j] = arr[j], arr[i]  \n",
    "    arr[i], arr[left] = arr[left], arr[i]   \n",
    "    return i\n",
    "\n",
    "\n",
    "def quick_sort(arr, left, right):\n",
    "    \n",
    "    if right-left <= 1:  \n",
    "        return\n",
    "    \n",
    "    partition_index = partition(arr, left, right)\n",
    "  \n",
    "    quick_sort(arr, left, partition_index)   \n",
    "    quick_sort(arr, partition_index+1, right) \n",
    "\n",
    "\n",
    "def hybird_sort1(arr):\n",
    "    if len(arr) < 10:\n",
    "        for i in range(1, len(arr)):\n",
    "            j = i\n",
    "            while j>0 and arr[j]< arr[j-1]:\n",
    "                arr[j], arr[j-1] = arr[j-1], arr[j]\n",
    "                j -= 1\n",
    "    else:\n",
    "        quick_sort(arr, 0, len(arr))\n",
    "    return arr\n",
    "        \n"
   ]
  },
  {
   "cell_type": "code",
   "execution_count": 20,
   "metadata": {},
   "outputs": [],
   "source": [
    "def partition_mid(arr, left, right):  ## official solution\n",
    "    mid = (left + right - 1)//2\n",
    "    pivot = arr[mid]\n",
    "    i = left\n",
    "    j = right -1\n",
    "    while i <= j:\n",
    "        while arr[i] < pivot: i+= 1\n",
    "        while arr[j] > pivot : j -= 1\n",
    "        if i <= j:\n",
    "            arr[j], arr[i] = arr[i], arr[j]\n",
    "            i+= 1\n",
    "            j -= 1\n",
    "    return i\n",
    "def insertion_sort(arr, left, right):\n",
    "    for i in range(left, right):\n",
    "        j = i\n",
    "        while j>left and arr[j-1] > arr[j]:\n",
    "            arr[j-1], arr[j] = arr[j], arr[j-1]\n",
    "            \n",
    "\n",
    "def hybird(arr, left, right):\n",
    "    if right - left  <= 1:\n",
    "        return \n",
    "    ind = partition_mid(arr, left, right)\n",
    "\n",
    "    if ind - left < 10:\n",
    "        insertion_sort(arr, left, ind)\n",
    "    else:\n",
    "        hybird(arr, left, ind)\n",
    "        \n",
    "    if right - ind < 10: \n",
    "        insertion_sort(arr, ind, right)\n",
    "    else:\n",
    "        hybird(arr, ind, right)\n",
    "    \n",
    "def hybird_sort(arr):\n",
    "    hybird(arr, 0, len(arr))\n",
    "    return arr\n",
    "\n"
   ]
  },
  {
   "cell_type": "code",
   "execution_count": 21,
   "metadata": {},
   "outputs": [
    {
     "name": "stdout",
     "output_type": "stream",
     "text": [
      "Testing on 10 cases.\n",
      "- Test 1 PASSED.\n",
      "- Test 2 PASSED.\n",
      "- Test 3 PASSED.\n",
      "- Test 4 PASSED.\n",
      "- Test 5 PASSED.\n",
      "- Test 6 PASSED.\n",
      "- Test 7 PASSED.\n",
      "- Test 8 PASSED.\n",
      "- Test 9 PASSED.\n",
      "- Test 10 PASSED.\n",
      "CONGRATULATIONS! All test cases passed!\n"
     ]
    }
   ],
   "source": [
    "# !!! DO NOT MODIFY THIS CELL\n",
    "# Check result on test cases\n",
    "test3(hybird_sort)"
   ]
  },
  {
   "cell_type": "code",
   "execution_count": null,
   "metadata": {},
   "outputs": [],
   "source": []
  }
 ],
 "metadata": {
  "kernelspec": {
   "display_name": "Python 3.9.12 ('base')",
   "language": "python",
   "name": "python3"
  },
  "language_info": {
   "codemirror_mode": {
    "name": "ipython",
    "version": 3
   },
   "file_extension": ".py",
   "mimetype": "text/x-python",
   "name": "python",
   "nbconvert_exporter": "python",
   "pygments_lexer": "ipython3",
   "version": "3.9.12"
  },
  "vscode": {
   "interpreter": {
    "hash": "2043299c89c8cd0b4d1a6f5cf4529bd58e6a4e0fe3181a25e0d328c821cdc5c5"
   }
  }
 },
 "nbformat": 4,
 "nbformat_minor": 4
}
