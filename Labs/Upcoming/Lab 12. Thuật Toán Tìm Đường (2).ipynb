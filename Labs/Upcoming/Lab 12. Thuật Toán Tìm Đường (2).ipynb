{
 "cells": [
  {
   "cell_type": "markdown",
   "metadata": {},
   "source": [
    "## <center>Computer Science Intensive Course - MindX</center>\n",
    "![](./assets/logo.png)\n",
    "# <center>LAB 12. THUẬT TOÁN TÌM ĐƯỜNG (2)</center>"
   ]
  },
  {
   "cell_type": "code",
   "execution_count": null,
   "metadata": {},
   "outputs": [],
   "source": [
    "# run this cell FIRST\n",
    "%run test_cases_12.ipynb"
   ]
  },
  {
   "cell_type": "markdown",
   "metadata": {},
   "source": [
    "## Bài 1. Kích Thước Tầng\n",
    "\n",
    "Kích thước của một tầng trong cây nhị phân được định nghĩa là số node trên tầng đó.\n",
    "\n",
    "**Yêu cầu**: Cho một cây nhị phân có không quá 1000 node và một số nguyên *k*. Hãy tìm kích thước của tầng thứ *k*, biết các tầng được đánh số từ 0, bắt đầu từ node gốc.\n",
    "\n",
    "**Input**: Một cây nhị phân chứa số nguyên và một số nguyên *-10<sup>6</sup> < k < 10<sup>6</sup>*.  \n",
    "**Output**: Một số nguyên là kích thước của tầng *k*. Trả về 0 nếu cây không chứa tầng thứ *k*.  \n",
    "**Ví dụ**:  \n",
    "\n",
    "- Input: <code>root</code>, 2\n",
    "- Output: 3\n",
    "- Giải thích: Ở tầng thứ hai có 3 node là [1, 6, 14]\n",
    "\n",
    "![](./assets/binary-search-tree.png)"
   ]
  },
  {
   "cell_type": "code",
   "execution_count": null,
   "metadata": {},
   "outputs": [],
   "source": [
    "class Node:\n",
    "    def __init__(self, data):\n",
    "        self.data = data\n",
    "        self.left = None\n",
    "        self.right = None\n",
    "\n",
    "root = Node(8)\n",
    "root.left, root.right = Node(3), Node(10)\n",
    "root.left.left, root.left.right = Node(1), Node(6)\n",
    "root.left.right.left, root.left.right.right = Node(4), Node(7)\n",
    "root.right.right = Node(14)\n",
    "root.right.right.left = Node(13)"
   ]
  },
  {
   "cell_type": "code",
   "execution_count": null,
   "metadata": {},
   "outputs": [],
   "source": [
    "def find_level_size(root, level):\n",
    "    pass"
   ]
  },
  {
   "cell_type": "code",
   "execution_count": null,
   "metadata": {},
   "outputs": [],
   "source": [
    "# !!! DO NOT MODIFY THIS CELL\n",
    "# Check result on test cases\n",
    "test1(find_level_size)"
   ]
  },
  {
   "cell_type": "markdown",
   "metadata": {},
   "source": [
    "## Bài 2. Thoát Khỏi Mê Cung\n",
    "\n",
    "Ở bài trước, ta đã dùng DFS để tạo mê cung. Tuy nhiên, thuật toán DFS không đảm bảo ta tìm được đường ngắn nhất để thoát khỏi mê cung.  \n",
    "\n",
    "Do đó, ta sẽ dùng thuật toán BFS để tìm đường ngắn nhất:\n",
    "- Bắt đầu duyệt mê cung từ ô trên cùng bên trái.\n",
    "- Ở mỗi bước duyệt, kiểm tra xem có thể đi từ ô hiện tại sang các ô cùng cạnh hay không bằng cách kiểm tra các mảng <code>vertical</code> và <code>horizontal</code>. Khi sang một ô mới, lưu ô liền trước nó để truy vấn lại đường đi.\n",
    "- Kết thúc duyệt khi tìm thấy ô dưới cùng bên phải. Do mê cung ta tạo đảm bảo luôn có lối thoát nên không cần xử lý trường hợp không tìm thấy đường ra.\n",
    "   \n",
    "**Ví dụ** về đường đi ngắn nhất để thoát khỏi mê cung:\n",
    "![](./assets/solve_maze.png)\n",
    "\n",
    "Hàm <code>plot_maze_with_path()</code> để vẽ mê cung từ <code>vertical</code>, <code>horizontal</code> và vẽ đường đi từ <code>path</code> đã được viết sẵn."
   ]
  },
  {
   "cell_type": "code",
   "execution_count": 1,
   "metadata": {},
   "outputs": [],
   "source": [
    "import matplotlib.pyplot as plt\n",
    "\n",
    "plt.style.use('default')\n",
    "\n",
    "def plot_maze_with_path(vertical, horizontal, path=None, before=None, fig_height=8):\n",
    "\n",
    "    # init height & width\n",
    "    height = len(vertical)\n",
    "    width = len(vertical[0])\n",
    "    \n",
    "    # init figure\n",
    "    fig = plt.figure(figsize=(fig_height*2, fig_height))\n",
    "    fig.patch.set_visible(False)\n",
    "\n",
    "    # draw maze borders\n",
    "    for row in range(height):\n",
    "        for col in range(width):\n",
    "            if vertical[row][col]:\n",
    "                plt.plot((col, col), (row, row+1), color='white')\n",
    "            if horizontal[row][col]:\n",
    "                plt.plot((col, col+1), (row, row), color='white')\n",
    "\n",
    "    # draw surrounding borders on the right & bottom\n",
    "    plt.plot((width, width), (0, height-1), color='white')\n",
    "    plt.plot((0, width), (height, height), color='white')\n",
    "\n",
    "    # styling the plot\n",
    "    ax = plt.gca()\n",
    "    ax.set_facecolor((0, 0, 0))\n",
    "    ax.set_ylim(ax.get_ylim()[::-1])\n",
    "    plt.xticks([])\n",
    "    plt.yticks([])\n",
    "    \n",
    "    # add arrows\n",
    "    plt.arrow(0, 0.5, 0.8, 0, width=0.07, length_includes_head=True, color='white')\n",
    "    plt.arrow(width-0.8, height-0.5, 0.8, 0, width=0.07, length_includes_head=True, color='white')\n",
    "    \n",
    "    # plot path\n",
    "    if path != None:\n",
    "        last_step = (0, -0.5)\n",
    "        for step in path + [(height-1, width-0.5)]:\n",
    "            plt.plot((last_step[1]+0.5, step[1]+0.5), (last_step[0]+0.5, step[0]+0.5), color='cyan', linestyle='-.')\n",
    "            last_step = step\n",
    "            \n",
    "    # plot every paths\n",
    "    if before != None:\n",
    "        for row in range(height):\n",
    "            for col in range(width):\n",
    "                if before[row][col] != None:\n",
    "                    last_step = before[row][col]\n",
    "                    plt.plot((last_step[1]+0.5, col+0.5), (last_step[0]+0.5, row+0.5), color='yellow', linestyle='-.')\n",
    "    \n",
    "    plt.show()"
   ]
  },
  {
   "cell_type": "markdown",
   "metadata": {},
   "source": [
    "Các mảng <code>vertical</code> và <code>horizontal</code> được định nghĩa như bài trước.  \n",
    "\n",
    "Ta cần tìm mảng <code>path</code> chứa đường đi ngắn nhất để thoát khỏi mê cung. Mỗi phần tử trong mảng là một tuple chứa tọa độ của một ô trên đường đi, được lưu theo dạng (<code>row</code>, <code>column</code>)."
   ]
  },
  {
   "cell_type": "code",
   "execution_count": 2,
   "metadata": {},
   "outputs": [
    {
     "data": {
      "image/png": "[encoded data removed]",
      "text/plain": [
       "<Figure size 576x288 with 1 Axes>"
      ]
     },
     "metadata": {},
     "output_type": "display_data"
    }
   ],
   "source": [
    "vertical = [\n",
    "    [False, True, False, False, True, False, False, False],\n",
    "    [True, True, False, False, False, True, False, True],\n",
    "    [True, False, False, False, False, True, True, False],\n",
    "    [True, False, False, False, False, False, True, False]]\n",
    "horizontal = [\n",
    "    [True, True, True, True, True, True, True, True],\n",
    "    [False, False, True, True, False, True, True, False],\n",
    "    [False, True, True, True, True, False, False, False],\n",
    "    [True, True, True, True, False, False, True, False]]\n",
    "\n",
    "path = [(0, 0), (1, 0), (2, 0), (2, 1), (2, 2), (2, 3), (2, 4), (3, 4), (3, 5), (2, 5), (1, 5), (1, 6), (2, 6), (2, 7), (3, 7)]\n",
    "\n",
    "plot_maze_with_path(vertical, horizontal, path=path, fig_height=4)"
   ]
  },
  {
   "cell_type": "markdown",
   "metadata": {},
   "source": [
    "**Yêu cầu**: Hãy hiện thực hàm <code>find_path()</code> nhận vào <code>vertical</code>, <code>horizontal</code> và trả về đường đi <code>path</code> theo định dạng như trên."
   ]
  },
  {
   "cell_type": "code",
   "execution_count": null,
   "metadata": {},
   "outputs": [],
   "source": [
    "def find_path(vertical, horizontal):\n",
    "    \n",
    "    # YOUR CODE HERE\n",
    "    \n",
    "    return path"
   ]
  },
  {
   "cell_type": "markdown",
   "metadata": {},
   "source": [
    "Kết quả mong đợi như bên dưới:"
   ]
  },
  {
   "cell_type": "code",
   "execution_count": null,
   "metadata": {},
   "outputs": [],
   "source": [
    "path = find_path(vertical, horizontal)\n",
    "plot_maze_with_path(vertical, horizontal, path=path, fig_height=4)"
   ]
  },
  {
   "cell_type": "code",
   "execution_count": null,
   "metadata": {},
   "outputs": [],
   "source": [
    "vertical = [[False, True, False, True, False, False, False, False, False, True, False, False, False, False, False, False, False, False, False, False, True, False, False, False, False, False, False, False, False, True, False, False, True, False, True, False, False, False, True, False], [True, True, False, False, False, True, False, True, False, False, False, True, False, True, False, True, True, False, False, True, False, False, False, True, False, True, False, False, True, True, False, True, False, True, True, True, True, True, False, True], [True, False, False, False, False, True, True, False, True, False, False, True, True, True, False, True, True, True, False, True, False, False, False, True, False, True, True, False, True, False, True, False, True, True, False, False, True, False, True, False], [True, False, True, False, True, False, True, True, False, True, True, False, True, False, True, True, True, False, True, False, True, True, False, False, True, True, False, True, False, False, True, True, True, True, False, True, True, False, True, False], [True, False, False, True, False, False, False, True, True, False, False, False, False, True, False, False, True, True, False, True, True, False, True, False, True, False, True, False, False, True, False, True, True, True, True, False, True, False, False, True], [True, True, False, False, False, False, True, True, False, True, False, True, True, False, True, False, False, False, True, False, True, True, True, False, False, False, True, True, False, False, True, False, True, True, True, False, True, False, False, True], [True, True, False, False, False, True, False, False, False, False, False, True, True, True, False, True, False, True, False, True, False, True, False, True, False, True, True, False, True, True, True, True, False, False, True, False, False, False, False, False], [True, False, False, False, True, True, False, False, True, False, True, True, False, True, False, False, True, False, False, True, True, False, True, True, False, True, False, True, True, False, False, True, True, False, True, False, False, False, False, True], [True, False, False, False, False, True, True, True, True, True, False, False, True, True, False, True, False, False, True, True, False, True, True, False, False, True, False, True, False, False, False, False, True, True, False, True, False, True, False, False], [True, True, False, False, True, False, True, True, False, True, True, False, False, True, True, True, False, True, True, False, True, False, True, False, False, True, False, True, True, False, False, True, True, False, True, True, False, True, False, False], [True, True, False, False, True, False, False, True, False, True, False, False, True, True, True, False, True, True, True, True, True, False, False, True, False, False, True, False, True, False, True, False, False, False, True, True, False, True, False, True], [True, False, False, False, False, False, True, True, False, False, True, False, False, True, True, False, False, True, True, True, False, True, True, True, False, False, False, True, False, False, False, False, False, True, False, True, False, True, False, True], [True, False, True, True, False, True, False, True, False, False, True, False, True, False, False, False, False, True, True, False, False, True, False, True, False, True, True, True, False, False, False, True, False, True, True, True, False, False, True, True], [True, True, True, True, False, False, True, True, False, True, False, True, False, True, False, True, False, False, True, True, False, True, True, False, True, True, True, False, True, False, True, False, True, False, True, False, False, True, False, True], [True, False, True, False, True, False, False, False, True, True, True, True, False, True, True, False, True, False, False, True, True, True, True, True, True, True, False, False, False, True, False, False, True, False, False, True, False, False, True, False], [True, True, False, True, False, True, False, True, True, True, False, False, False, False, True, False, True, True, True, False, False, True, True, False, True, False, True, False, True, False, True, False, True, False, True, False, False, True, False, False], [True, False, True, False, True, False, True, False, True, False, True, False, False, False, False, True, True, True, True, True, True, False, True, True, False, False, True, True, True, False, True, True, False, False, True, False, True, True, False, False], [True, True, False, True, False, True, False, True, True, True, False, False, True, False, True, False, True, False, True, False, True, True, False, True, True, False, False, False, True, True, False, False, False, True, False, True, False, True, False, False], [True, False, True, False, False, False, False, True, False, True, False, True, True, True, False, True, False, True, True, False, True, True, True, False, True, False, False, False, True, False, True, False, True, False, False, False, False, True, False, True], [True, True, False, False, False, False, True, False, False, False, True, False, True, False, True, False, False, False, False, True, False, False, True, False, False, False, False, False, False, True, False, True, False, False, False, False, True, False, False, False]]\n",
    "horizontal = [[True, True, True, True, True, True, True, True, True, True, True, True, True, True, True, True, True, True, True, True, True, True, True, True, True, True, True, True, True, True, True, True, True, True, True, True, True, True, True, True], [False, False, True, False, True, True, True, False, True, False, True, True, True, False, True, False, True, True, True, False, True, True, True, False, True, False, True, True, False, True, False, False, True, False, False, True, False, False, False, False], [False, True, True, True, True, False, False, True, True, True, True, False, False, True, False, False, False, True, False, True, True, True, False, True, True, False, True, False, False, False, True, True, False, False, False, False, False, True, True, False], [True, True, True, True, False, False, True, False, False, True, False, False, False, True, False, False, True, False, True, False, True, True, True, False, False, True, False, True, True, True, False, False, False, True, True, False, True, False, True, True], [False, True, False, False, True, True, False, True, True, False, True, True, True, False, True, False, False, True, False, True, False, False, True, False, False, False, True, True, False, False, True, False, False, False, False, True, False, True, False, False], [False, True, True, True, True, False, False, False, False, False, True, False, True, True, True, True, False, False, True, False, False, True, False, True, True, True, False, True, True, True, False, False, False, False, True, False, False, True, True, False], [False, False, True, True, True, True, False, True, True, True, False, False, False, False, False, True, True, True, False, False, False, False, True, True, True, False, False, True, False, False, False, True, False, False, False, True, True, True, True, False], [False, True, True, True, False, True, True, True, True, True, False, True, False, True, True, False, False, True, True, False, True, False, False, False, True, False, True, False, False, True, False, False, True, True, True, True, True, True, True, False], [True, True, True, True, False, False, True, False, False, False, True, False, True, False, True, True, True, True, False, False, True, False, False, True, False, True, False, False, True, True, True, False, False, False, True, False, True, False, True, False], [False, True, True, False, True, False, False, False, False, True, True, True, False, False, False, False, True, False, False, True, False, False, True, True, False, False, True, False, True, True, True, False, False, True, False, True, False, True, True, True], [False, False, True, True, False, True, False, True, True, False, False, True, False, False, False, True, False, False, True, False, True, True, True, False, True, True, False, True, False, True, False, True, True, False, False, False, True, False, True, False], [False, True, True, True, True, True, False, False, True, False, True, True, False, False, False, True, False, False, False, False, False, True, False, True, True, True, True, False, True, False, True, True, True, True, False, True, False, True, False, False], [False, True, True, True, False, True, False, True, True, True, False, True, True, False, True, True, True, False, False, True, True, False, False, False, True, True, False, True, True, True, True, True, True, False, True, False, True, True, False, False], [True, False, False, False, True, False, True, False, True, False, True, False, False, True, True, True, True, False, False, False, True, False, True, False, False, False, False, False, True, True, False, False, False, False, False, True, True, False, True, False], [False, False, False, True, True, True, False, False, False, True, False, False, True, False, False, False, True, True, True, False, False, False, False, True, False, False, True, True, False, False, True, True, True, True, True, False, True, True, False, False], [False, True, False, False, False, True, True, False, False, False, False, True, True, False, True, True, False, False, False, True, False, False, False, False, False, True, False, True, False, True, True, False, False, True, False, True, False, True, True, False], [False, True, True, True, True, False, False, True, False, True, True, True, True, True, False, False, False, False, True, False, True, False, False, True, True, False, True, False, True, False, False, True, True, False, True, True, False, False, True, True], [True, False, False, False, False, True, True, False, False, False, True, True, False, True, True, False, True, False, False, False, False, True, True, False, True, True, False, False, False, True, False, True, False, True, False, False, False, True, True, False], [False, True, True, True, True, False, True, False, True, True, True, False, False, False, True, False, False, False, True, True, False, False, False, False, False, True, True, True, False, True, True, True, True, True, True, True, True, False, True, True], [False, False, False, True, True, True, False, True, False, False, False, False, False, True, False, True, True, True, False, False, False, False, True, True, True, True, True, False, True, False, False, False, False, True, True, True, False, True, False, False]]\n",
    "path = find_path(vertical, horizontal)\n",
    "plot_maze_with_path(vertical, horizontal, path=path)"
   ]
  },
  {
   "cell_type": "code",
   "execution_count": null,
   "metadata": {},
   "outputs": [],
   "source": []
  }
 ],
 "metadata": {
  "kernelspec": {
   "display_name": "Python 3.10.4 64-bit (windows store)",
   "language": "python",
   "name": "python3"
  },
  "language_info": {
   "codemirror_mode": {
    "name": "ipython",
    "version": 3
   },
   "file_extension": ".py",
   "mimetype": "text/x-python",
   "name": "python",
   "nbconvert_exporter": "python",
   "pygments_lexer": "ipython3",
   "version": "3.10.4"
  },
  "vscode": {
   "interpreter": {
    "hash": "03ee9ebc61fb24b4d29b1ef01f2ca513d3106518665cb0b5c92a24a88b5dc21d"
   }
  }
 },
 "nbformat": 4,
 "nbformat_minor": 4
}
