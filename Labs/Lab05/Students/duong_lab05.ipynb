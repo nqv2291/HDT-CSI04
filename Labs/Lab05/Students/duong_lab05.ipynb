{
 "cells": [
  {
   "cell_type": "markdown",
   "metadata": {},
   "source": [
    "## <center>Computer Science Intensive Course - MindX</center>\n",
    "![](./assets/logo.png)\n",
    "# <center>LAB 5. THUẬT TOÁN SẮP XẾP (1)</center>"
   ]
  },
  {
   "cell_type": "code",
   "execution_count": 1,
   "metadata": {},
   "outputs": [],
   "source": [
    "# run this cell FIRST\n",
    "%run test_cases_5.ipynb"
   ]
  },
  {
   "cell_type": "markdown",
   "metadata": {},
   "source": [
    "## Bài 1. Dãy Số Ngược\n",
    "\n",
    "**Input**: Một dãy *0 < n < 10<sup>6</sup>* số thực đã được sắp xếp theo thứ tự giảm dần. Mỗi phần tử có giá trị trong khoảng [-10<sup>9</sup>, 10<sup>9</sup>].  \n",
    "**Output**: Dãy đã được sắp xếp theo thứ tự tăng dần.  \n",
    "**Ví dụ**:\n",
    "- Input: [90.12, 50.2, 20.0, 3.14159, 0.0, -12.2, -12.2, -1000.0, -99999999.0]\n",
    "- Output: [-99999999.0, -1000.0, -12.2, -12.2, 0.0, 3.14159, 20.0, 50.2, 90.12]"
   ]
  },
  {
   "cell_type": "code",
   "execution_count": 78,
   "metadata": {},
   "outputs": [],
   "source": [
    "class Node:\n",
    "    def __init__(self, dataval=None):\n",
    "        self.dataval = dataval\n",
    "        self.nextval = None\n",
    "\n",
    "class SLinkedList:\n",
    "    def __init__(self):\n",
    "        self.headval = None\n",
    "    def sort_descending_list(inp_list):  \n",
    "        inp_list.reverse()\n",
    "        return inp_list    \n",
    "list1 = SLinkedList()\n",
    "list1.headval = Node(\"Mon\")\n",
    "e2 = Node(\"Tue\")\n",
    "e3 = Node(\"Wed\")\n",
    "# Link first Node to second node\n",
    "list1.headval.nextval = e2\n",
    "\n",
    "# Link second Node to third node\n",
    "e2.nextval = e3\n",
    "\n",
    "         "
   ]
  },
  {
   "cell_type": "code",
   "execution_count": 79,
   "metadata": {},
   "outputs": [
    {
     "name": "stdout",
     "output_type": "stream",
     "text": [
      "Testing on 9 cases.\n",
      "- Test 1 PASSED.\n",
      "- Test 2 PASSED.\n",
      "- Test 3 PASSED.\n",
      "- Test 4 PASSED.\n",
      "- Test 5 PASSED.\n",
      "- Test 6 PASSED.\n",
      "- Test 7 PASSED.\n",
      "- Test 8 PASSED.\n",
      "- Test 9 PASSED.\n",
      "CONGRATULATIONS! All test cases passed!\n"
     ]
    }
   ],
   "source": [
    "# !!! DO NOT MODIFY THIS CELL\n",
    "# Check result on test cases\n",
    "test1(SLinkedList.sort_descending_list)"
   ]
  },
  {
   "cell_type": "markdown",
   "metadata": {},
   "source": [
    "## Bài 2. Số Phức\n",
    "\n",
    "Một số phức có dạng:  \n",
    "\\begin{equation} z = a + bi \\end{equation}  \n",
    "với a, b là số thực từ âm vô cùng đến dương vô cùng  \n",
    "**Ví dụ**: z = 3.5 + 1.3i\n",
    "\n",
    "Modulo của một số phức là giá trị được tính bằng công thức:\n",
    "\\begin{equation} |z| = \\sqrt{a^2 + b^2} \\end{equation}\n",
    "\n",
    "Cho danh sách *n* số phức, hãy sắp xếp danh sách theo thứ tự tăng dần của modulo.\n",
    "\n",
    "**Input**: Một *list* gồm *0 < n < 10<sup>4</sup>* số phức, mỗi số được lưu dưới dạng tuple *(a, b)*, với *-10<sup>9</sup> < a, b < 10<sup>9</sup>*.  \n",
    "**Output**: List các số phức sau khi đã sắp xếp theo thứ tự tăng dần của modulo.  \n",
    "**Ví dụ**:\n",
    "- Input: [(32.4, -30.0), (2.57, -2.3), (-111.0, 20.2), (34.5, 20.0), (8.97, -13.2), (6.67, 12.2), (9.09, 12.0)]\n",
    "- Output: [(2.57, -2.3), (6.67, 12.2), (9.09, 12.0), (8.97, -13.2), (34.5, 20.0), (32.4, -30.0), (-111.0, 20.2)]\n",
    "- Giải thích: Ở phần tử thứ nhất của input, modulo được tính bằng\n",
    "\\begin{equation} |z| = \\sqrt{32.4^2 + (-30.0)^2} = 44.15608678313784 \\end{equation}\n",
    "Tương tự, ta tính modulo của các phần tử còn lại và sắp xếp dãy dựa theo modulo.  \n",
    "\n",
    "**Gợi ý**: Sử dụng hàm *math.sqrt()* để tính căn bậc 2"
   ]
  },
  {
   "cell_type": "code",
   "execution_count": 82,
   "metadata": {},
   "outputs": [],
   "source": [
    "def sort_complex_list(arr):\n",
    "    # for i in range(len(arr)):\n",
    "    #     for j in range(len(arr)-1-i):\n",
    "    #         if ListNode.calculate_modulo(arr[j]) > ListNode.calculate_modulo(arr[j+1]):\n",
    "    #             arr[j],arr[j+1] = arr[j+1],arr[j]\n",
    "    \n",
    "    \n",
    "    # Code trên chạy được 7 test đầu nhưng test 8 9 chạy mà máy tính muốn ná thở :')\n",
    "    \n",
    "    arr.sort(key=ListNode.calculate_modulo)\n",
    "    return arr\n",
    "          "
   ]
  },
  {
   "cell_type": "code",
   "execution_count": 83,
   "metadata": {},
   "outputs": [
    {
     "name": "stdout",
     "output_type": "stream",
     "text": [
      "Testing on 8 cases.\n",
      "- Test 1 PASSED.\n",
      "- Test 2 PASSED.\n",
      "- Test 3 PASSED.\n",
      "- Test 4 PASSED.\n",
      "- Test 5 PASSED.\n",
      "- Test 6 PASSED.\n",
      "- Test 7 PASSED.\n",
      "- Test 8 PASSED.\n",
      "CONGRATULATIONS! All test cases passed!\n"
     ]
    }
   ],
   "source": [
    "# !!! DO NOT MODIFY THIS CELL\n",
    "# Check result on test cases\n",
    "test2(sort_complex_list)"
   ]
  },
  {
   "cell_type": "markdown",
   "metadata": {},
   "source": [
    "## Bài 3. Sắp Xếp Hai Tầng\n",
    "\n",
    "Một báo cáo điểm cuối năm của một trường THPT cho từng học sinh có dạng:\n",
    "{'id': 984, 'math': 9.0, 'literature': 5.4}\n",
    "\n",
    "Cho danh sách điểm cuối năm, hãy sắp xếp danh sách theo quy tắc sau:\n",
    "- Học sinh có điểm toán cao hơn đứng trước\n",
    "- Nếu hai học sinh có cùng điểm toán, học sinh có điểm ngữ văn cao hơn đứng trước\n",
    "- Nếu có cùng điểm ngữ văn, học sinh nào đứng trước trong danh sách gốc đứng trước\n",
    "\n",
    "**Input**: Một *list* gồm *0 < n < 10<sup>4</sup>* báo cáo điểm của học sinh.  \n",
    "**Output**: List các báo cáo điểm sau khi đã sắp xếp.  \n",
    "**Ví dụ**:\n",
    "- Input: [{'id': 984, 'math': 9.0, 'literature': 5.4}, {'id': 12, 'math': 9.5, 'literature': 4.3}, {'id': 324, 'math': 9.0, 'literature': 5.4}]\n",
    "- Output: [{'id': 12, 'math': 9.5, 'literature': 4.3}, {'id': 984, 'math': 9.0, 'literature': 5.4}, {'id': 324, 'math': 9.0, 'literature': 5.4}]"
   ]
  },
  {
   "cell_type": "code",
   "execution_count": 84,
   "metadata": {},
   "outputs": [
    {
     "name": "stdout",
     "output_type": "stream",
     "text": [
      "Initial Tree : 40 20 10 30 50 \n",
      "Inverted Tree : 50 30 10 20 40 "
     ]
    }
   ],
   "source": [
    "def compare_student(s1,s2):\n",
    "    if s1['math'] < s2['math']:\n",
    "        return True\n",
    "    elif s1['math'] == s2['math'] and s1['literature'] < s2['literature']:\n",
    "        return True\n",
    "    \n",
    "    return False\n",
    "\n",
    "class Node:\n",
    "    def __init__(self,key):\n",
    "        self.left = None\n",
    "        self.right = None\n",
    "        self.val = key\n",
    "    def sort_student_grades(grade_list):\n",
    "        for i in range(len(grade_list)):\n",
    "            for j in range(len(grade_list)-1-i):\n",
    "                if compare_student(grade_list[j],grade_list[j+1]):\n",
    "                    grade_list[j] , grade_list[j+1] = grade_list[j+1] , grade_list[j]\n",
    "           \n",
    "        return grade_list        \n",
    "    def PrintTree(self):\n",
    "        if self.left :\n",
    "            self.left.PrintTree()\n",
    "        print(self.val, end= ' ' ),\n",
    "        if self.right:\n",
    "            self.right.PrintTree()\n",
    "class Solution:\n",
    "    '''\n",
    "    Function to invert the tree\n",
    "    '''\n",
    "    def invertTree(self, root):\n",
    "        if not root :\n",
    "            return\n",
    "        stack = [ root ]\n",
    "\n",
    "        while stack :\n",
    "            node = stack.pop()\n",
    "            node.left , node.right = node.right , node.left\n",
    "            if node.left : stack.append ( node.left )\n",
    "            if node.right : stack.append ( node.right )\n",
    "\n",
    "        return root\n",
    "\n",
    "Tree = Node(10)\n",
    "Tree.left = Node(20)\n",
    "Tree.right = Node(30)\n",
    "Tree.left.left = Node(40)\n",
    "Tree.right.right = Node(50)\n",
    "print('Initial Tree :',end = ' ' )\n",
    "Tree.PrintTree()\n",
    "Solution().invertTree(root=Tree)\n",
    "print('\\nInverted Tree :', end=' ')\n",
    "Tree.PrintTree()\n"
   ]
  },
  {
   "cell_type": "code",
   "execution_count": 85,
   "metadata": {},
   "outputs": [
    {
     "name": "stdout",
     "output_type": "stream",
     "text": [
      "Testing on 7 cases.\n",
      "- Test 1 PASSED.\n",
      "- Test 2 PASSED.\n",
      "- Test 3 PASSED.\n",
      "- Test 4 PASSED.\n",
      "- Test 5 PASSED.\n",
      "- Test 6 PASSED.\n",
      "- Test 7 PASSED.\n",
      "CONGRATULATIONS! All test cases passed!\n"
     ]
    }
   ],
   "source": [
    "# !!! DO NOT MODIFY THIS CELL\n",
    "# Check result on test cases\n",
    "test3(Node.sort_student_grades)"
   ]
  },
  {
   "cell_type": "markdown",
   "metadata": {},
   "source": [
    "## Bài 4. Nhập Dãy\n",
    " \n",
    "**Input**: Hai dãy *0 < n1, n2 < 10<sup>6</sup>* số thực đã được sắp xếp theo thứ tự tăng dần. Mỗi phần tử có giá trị trong khoảng [-10<sup>9</sup>, 10<sup>9</sup>]. Hãy nhập hai dãy số này thành một dãy được sắp xếp theo thứ tự tăng dần. (Biết *n1 + n2 < 10<sup>6</sup>*)   \n",
    "**Output**: Dãy đã nhập được sắp xếp theo thứ tự tăng dần.  \n",
    "**Ví dụ**:\n",
    "- Input: arr1 = [-99999999.0, -12.2, 0.0, 20.0, 50.2, 90.12], arr2 = [-1000.0, -12.2, 3.14159]\n",
    "- Output: [-99999999.0, -1000.0, -12.2, -12.2, 0.0, 3.14159, 20.0, 50.2, 90.12]"
   ]
  },
  {
   "cell_type": "code",
   "execution_count": 3,
   "metadata": {},
   "outputs": [
    {
     "name": "stdout",
     "output_type": "stream",
     "text": [
      "[-99999999.0, -1000.0, -12.2, -12.2, 0.0, 3.14159, 20.0, 50.2, 90.12]\n"
     ]
    }
   ],
   "source": [
    "\n",
    "def merge_lists(arr1, arr2):\n",
    "   arr1.extend(arr2)\n",
    "   arr1.sort()\n",
    "   return arr1\n",
    "   \n",
    "print(merge_lists([-99999999.0, -12.2, 0.0, 20.0, 50.2, 90.12],[-1000.0, -12.2, 3.14159]))   "
   ]
  },
  {
   "cell_type": "code",
   "execution_count": 4,
   "metadata": {},
   "outputs": [
    {
     "name": "stdout",
     "output_type": "stream",
     "text": [
      "Testing on 10 cases.\n",
      "- Test 1 PASSED.\n",
      "- Test 2 FAILED: Wrong Answer.\n",
      "- Test 3 FAILED: Wrong Answer.\n",
      "- Test 4 FAILED: Wrong Answer.\n",
      "- Test 5 FAILED: Wrong Answer.\n",
      "- Test 6 FAILED: Wrong Answer.\n",
      "- Test 7 FAILED: Wrong Answer.\n",
      "- Test 8 FAILED: Wrong Answer.\n",
      "- Test 9 FAILED: Wrong Answer.\n",
      "- Test 10 FAILED: Wrong Answer.\n",
      "Some test failed. Maybe check some code?\n"
     ]
    }
   ],
   "source": [
    "# !!! DO NOT MODIFY THIS CELL\n",
    "# Check result on test cases\n",
    "test4(merge_lists)"
   ]
  },
  {
   "cell_type": "code",
   "execution_count": null,
   "metadata": {},
   "outputs": [],
   "source": []
  }
 ],
 "metadata": {
  "kernelspec": {
   "display_name": "Python 3.9.12 ('base')",
   "language": "python",
   "name": "python3"
  },
  "language_info": {
   "codemirror_mode": {
    "name": "ipython",
    "version": 3
   },
   "file_extension": ".py",
   "mimetype": "text/x-python",
   "name": "python",
   "nbconvert_exporter": "python",
   "pygments_lexer": "ipython3",
   "version": "3.9.12"
  },
  "vscode": {
   "interpreter": {
    "hash": "b2b9efa92f2bdac4bfda25c60f3f7d6c779c80601382838fe4225a699a59d380"
   }
  }
 },
 "nbformat": 4,
 "nbformat_minor": 4
}
