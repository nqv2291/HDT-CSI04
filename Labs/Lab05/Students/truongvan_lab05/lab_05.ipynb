{
 "cells": [
  {
   "cell_type": "markdown",
   "metadata": {},
   "source": [
    "## <center>Computer Science Intensive Course - MindX</center>\n",
    "![](./assets/logo.png)\n",
    "# <center>LAB 5. THUẬT TOÁN SẮP XẾP (1)</center>"
   ]
  },
  {
   "cell_type": "code",
   "execution_count": 3,
   "metadata": {},
   "outputs": [],
   "source": [
    "# run this cell FIRST\n",
    "%run test_cases_5.ipynb"
   ]
  },
  {
   "cell_type": "markdown",
   "metadata": {},
   "source": [
    "## Bài 1. Dãy Số Ngược\n",
    "\n",
    "**Input**: Một dãy *0 < n < 10<sup>6</sup>* số thực đã được sắp xếp theo thứ tự giảm dần. Mỗi phần tử có giá trị trong khoảng [-10<sup>9</sup>, 10<sup>9</sup>].  \n",
    "**Output**: Dãy đã được sắp xếp theo thứ tự tăng dần.  \n",
    "**Ví dụ**:\n",
    "- Input: [90.12, 50.2, 20.0, 3.14159, 0.0, -12.2, -12.2, -1000.0, -99999999.0]\n",
    "- Output: [-99999999.0, -1000.0, -12.2, -12.2, 0.0, 3.14159, 20.0, 50.2, 90.12]"
   ]
  },
  {
   "cell_type": "code",
   "execution_count": 12,
   "metadata": {},
   "outputs": [
    {
     "name": "stdout",
     "output_type": "stream",
     "text": [
      "[-90.12, -12.2, -12.2, 0.0, 3.1315, 20, 50.2, 1000]\n",
      "[-90.12, -12.2, -12.2, 0.0, 3.1315, 20, 50.2, 1000]\n"
     ]
    }
   ],
   "source": [
    "def sort_descending_list(inp_list):\n",
    "        min = -1\n",
    "        for i in range(len(inp_list)//2):\n",
    "                inp_list[i], inp_list[min] = inp_list[min], inp_list[i]\n",
    "                min -= 1\n",
    "        return inp_list"
   ]
  },
  {
   "cell_type": "code",
   "execution_count": 2,
   "metadata": {},
   "outputs": [
    {
     "data": {
      "text/plain": [
       "[-99999999.0, -1000.0, -12.2, -12.2, 0.0, 3.14159, 20.0, 50.2, 90.12]"
      ]
     },
     "execution_count": 2,
     "metadata": {},
     "output_type": "execute_result"
    }
   ],
   "source": [
    "def sol_sort_des(inp_list):\n",
    "    return [inp_list[i] for i in range(len(inp_list)-1, 0, -1)]\n",
    "sol_sort_des([90.12, 50.2, 20.0, 3.14159, 0.0, -12.2, -12.2, -1000.0, -99999999.0])"
   ]
  },
  {
   "cell_type": "code",
   "execution_count": 13,
   "metadata": {},
   "outputs": [
    {
     "name": "stdout",
     "output_type": "stream",
     "text": [
      "Testing on 9 cases.\n",
      "- Test 1 PASSED.\n",
      "- Test 2 PASSED.\n",
      "- Test 3 PASSED.\n",
      "- Test 4 PASSED.\n",
      "- Test 5 PASSED.\n",
      "- Test 6 PASSED.\n",
      "- Test 7 PASSED.\n",
      "- Test 8 PASSED.\n",
      "- Test 9 PASSED.\n",
      "CONGRATULATIONS! All test cases passed!\n"
     ]
    }
   ],
   "source": [
    "# !!! DO NOT MODIFY THIS CELL\n",
    "# Check result on test cases\n",
    "test1(sort_descending_list)"
   ]
  },
  {
   "cell_type": "markdown",
   "metadata": {},
   "source": [
    "## Bài 2. Số Phức\n",
    "\n",
    "Một số phức có dạng:\n",
    "\\begin{equation} z = a + bi \\end{equation}\n",
    "với a, b là số thực từ âm vô cùng đến dương vô cùng  \n",
    "**Ví dụ**: z = 3.5 + 1.3i\n",
    "\n",
    "Modulo của một số phức là giá trị được tính bằng công thức:\n",
    "\\begin{equation} |z| = \\sqrt{a^2 + b^2} \\end{equation}\n",
    "\n",
    "Cho danh sách *n* số phức, hãy sắp xếp danh sách theo thứ tự tăng dần của modulo.\n",
    "\n",
    "**Input**: Một *list* gồm *0 < n < 10<sup>4</sup>* số phức, mỗi số được lưu dưới dạng tuple *(a, b)*, với *-10<sup>9</sup> < a, b < 10<sup>9</sup>*.  \n",
    "**Output**: List các số phức sau khi đã sắp xếp theo thứ tự tăng dần của modulo.  \n",
    "**Ví dụ**:\n",
    "- Input: [(32.4, -30.0), (2.57, -2.3), (-111.0, 20.2), (34.5, 20.0), (8.97, -13.2), (6.67, 12.2), (9.09, 12.0)]\n",
    "- Output: [(2.57, -2.3), (6.67, 12.2), (9.09, 12.0), (8.97, -13.2), (34.5, 20.0), (32.4, -30.0), (-111.0, 20.2)]\n",
    "- Giải thích: Ở phần tử thứ nhất của input, modulo được tính bằng\n",
    "\\begin{equation} |z| = \\sqrt{32.4^2 + (-30.0)^2} = 44.15608678313784 \\end{equation}\n",
    "Tương tự, ta tính modulo của các phần tử còn lại và sắp xếp dãy dựa theo modulo.  \n",
    "\n",
    "**Gợi ý**: Sử dụng hàm *math.sqrt()* để tính căn bậc 2"
   ]
  },
  {
   "cell_type": "code",
   "execution_count": 22,
   "metadata": {},
   "outputs": [],
   "source": [
    "import math  ## my solution\n",
    "def sort_complex_list(arr):\n",
    "    for i in range(1, len(arr)):\n",
    "        j = i\n",
    "        while j>0 :\n",
    "            right = math.sqrt(arr[j-1][0]**2 + arr[j-1][1]**2)\n",
    "            left =  math.sqrt(arr[j][0]**2 + arr[j][1]**2)\n",
    "            if right > left:\n",
    "                arr[j], arr[j-1] = arr[j-1] , arr[j]\n",
    "            j-=1\n",
    "    return arr\n",
    "#test không nổi test 8 ->"
   ]
  },
  {
   "cell_type": "code",
   "execution_count": 4,
   "metadata": {},
   "outputs": [],
   "source": [
    "import math  # teacher's solution\n",
    "\n",
    "def modulo(a, b):\n",
    "    return math.sqrt(a**2 + b**2)\n",
    "\n",
    "def is_bigger_complex(num1, num2):\n",
    "    return modulo(num1[0], num1[1]) > modulo(num2[0], num2[1])\n",
    "\n",
    "def bubble_sort(arr):\n",
    "    for i in range(len(arr)-1, 0, -1):\n",
    "        for j in range(i):\n",
    "            if is_bigger_complex(arr[j], arr[j+1]):\n",
    "                arr[j], arr[j+1] = arr[j+1], arr[j]\n",
    "                \n",
    "def sort_complex_list1(arr):\n",
    "    bubble_sort(arr)\n",
    "    return arr\n"
   ]
  },
  {
   "cell_type": "code",
   "execution_count": null,
   "metadata": {},
   "outputs": [],
   "source": [
    "# !!! DO NOT MODIFY THIS CELL\n",
    "# Check result on test cases\n",
    "test2(sort_complex_list1)"
   ]
  },
  {
   "cell_type": "markdown",
   "metadata": {},
   "source": [
    "## Bài 3. Sắp Xếp Hai Tầng\n",
    "\n",
    "Một báo cáo điểm cuối năm của một trường THPT cho từng học sinh có dạng:\n",
    "{'id': 984, 'math': 9.0, 'literature': 5.4}\n",
    "\n",
    "Cho danh sách điểm cuối năm, hãy sắp xếp danh sách theo quy tắc sau:\n",
    "- Học sinh có điểm toán cao hơn đứng trước\n",
    "- Nếu hai học sinh có cùng điểm toán, học sinh có điểm ngữ văn cao hơn đứng trước\n",
    "- Nếu có cùng điểm ngữ văn, học sinh nào đứng trước trong danh sách gốc đứng trước\n",
    "\n",
    "**Input**: Một *list* gồm *0 < n < 10<sup>4</sup>* báo cáo điểm của học sinh.  \n",
    "**Output**: List các báo cáo điểm sau khi đã sắp xếp.  \n",
    "**Ví dụ**:\n",
    "- Input: [{'id': 984, 'math': 9.0, 'literature': 5.4}, {'id': 12, 'math': 9.5, 'literature': 4.3}, {'id': 324, 'math': 9.0, 'literature': 5.4}]\n",
    "- Output: [{'id': 12, 'math': 9.5, 'literature': 4.3}, {'id': 984, 'math': 9.0, 'literature': 5.4}, {'id': 324, 'math': 9.0, 'literature': 5.4}]"
   ]
  },
  {
   "cell_type": "code",
   "execution_count": 10,
   "metadata": {},
   "outputs": [],
   "source": [
    "def sort_student_grades(grade_list):  # my solution1\n",
    "    for i in range(1, len(grade_list)):\n",
    "        j = i\n",
    "        while j>0:\n",
    "            if ( grade_list[j][\"math\"] > grade_list[j-1]['math']):\n",
    "                grade_list[j], grade_list[j-1] = grade_list[j-1], grade_list[j]\n",
    "            elif (grade_list[j]['math'] == grade_list[j-1]['math']) and (grade_list[j]['literature'] > grade_list[j-1]['literature']):\n",
    "                grade_list[j], grade_list[j-1] = grade_list[j-1], grade_list[j]\n",
    "            j-=1\n",
    "    return grade_list \n",
    "# cứ test đến test 8 là chết\n",
    "\n",
    "def sort_student_grades2(grade_list):\n",
    "    for i in range(1, len(grade_list)):\n",
    "        j = i\n",
    "        while j>0:\n",
    "            if grade_list[j-1][\"math\"] > grade_list[j][\"math\"]:\n",
    "                continue\n",
    "            elif grade_list[j-1][\"math\"] == grade_list[j][\"math\"] and grade_list[j-1][\"literature\"] > grade_list[j][\"literature\"]:\n",
    "                continue\n",
    "            grade_list[j-1], grade_list[j] = grade_list[j], grade_list[j-1]\n",
    "            j -= 1\n",
    "    return grade_list"
   ]
  },
  {
   "cell_type": "code",
   "execution_count": 6,
   "metadata": {},
   "outputs": [],
   "source": [
    "def is_student_after(student1, student2):\n",
    "    if student1['math'] != student2['math']:\n",
    "        return student1['math'] < student2['math']\n",
    "    return student1['literature'] < student2['literature']\n",
    "\n",
    "def bubble_sort(arr):\n",
    "    for i in range(len(arr)-1, 0, -1):\n",
    "        for j in range(i):\n",
    "            if is_student_after(arr[j], arr[j+1]):\n",
    "                arr[j], arr[j+1] = arr[j+1], arr[j]\n",
    "                \n",
    "def sort_student_grades1(grade_list):\n",
    "    bubble_sort(grade_list)\n",
    "    return grade_list"
   ]
  },
  {
   "cell_type": "code",
   "execution_count": null,
   "metadata": {},
   "outputs": [],
   "source": [
    "# !!! DO NOT MODIFY THIS CELL\n",
    "# Check result on test cases\n",
    "test3(sort_student_grades2)"
   ]
  },
  {
   "cell_type": "markdown",
   "metadata": {},
   "source": [
    "## Bài 4. Nhập Dãy\n",
    " \n",
    "**Input**: Hai dãy *0 < n1, n2 < 10<sup>6</sup>* số thực đã được sắp xếp theo thứ tự tăng dần. Mỗi phần tử có giá trị trong khoảng [-10<sup>9</sup>, 10<sup>9</sup>]. Hãy nhập hai dãy số này thành một dãy được sắp xếp theo thứ tự tăng dần. (Biết *n1 + n2 < 10<sup>6</sup>*)   \n",
    "**Output**: Dãy đã nhập được sắp xếp theo thứ tự tăng dần.  \n",
    "**Ví dụ**:\n",
    "- Input: arr1 = [-99999999.0, -12.2, 0.0, 20.0, 50.2, 90.12], arr2 = [-1000.0, -12.2, 3.14159]\n",
    "- Output: [-99999999.0, -1000.0, -12.2, -12.2, 0.0, 3.14159, 20.0, 50.2, 90.12]"
   ]
  },
  {
   "cell_type": "code",
   "execution_count": 8,
   "metadata": {},
   "outputs": [
    {
     "name": "stdout",
     "output_type": "stream",
     "text": [
      "[-99999999.0, -1000.0, -12.2, -12.2, -12, 0.0, 3.14159, 20.0, 50.2, 90.12, 12313]\n"
     ]
    }
   ],
   "source": [
    "def merge_lists(arr1, arr2):  ### my solution, not optimal\n",
    "    # connect 2 arr\n",
    "    new_arr = arr1 + arr2\n",
    "    for i in range(len(new_arr)):\n",
    "        for j in range(len(new_arr)-1-i):\n",
    "            if new_arr[j] > new_arr[j+1]:\n",
    "                new_arr[j], new_arr[j+1] = new_arr[j+1], new_arr[j]\n",
    "    return new_arr\n",
    "    \n",
    "arr1 = [-99999999.0, -12.2, 0.0, 20.0, 50.2, 90.12, -12, 12313]\n",
    "arr2 = [-1000.0, -12.2, 3.14159]\n",
    "print(merge_lists(arr1, arr2))"
   ]
  },
  {
   "cell_type": "code",
   "execution_count": 19,
   "metadata": {},
   "outputs": [],
   "source": [
    "def merge_lists1(arr1, arr2):  # teacher's solution\n",
    "    n1= len(arr1)\n",
    "    n2 = len(arr2)\n",
    "    i= k =j=0\n",
    "    arr3 = [0] *(n1+n2)\n",
    "    while i<n1 and j<n2:\n",
    "        if arr1[i]<arr2[j]:\n",
    "            arr3[k] = arr1[i]\n",
    "            i+=1\n",
    "        else:\n",
    "            arr3[k] = arr2[j]\n",
    "            j+=1\n",
    "        k += 1\n",
    "    arr3[k:k+n1-i] = arr1[i:]\n",
    "    k+=n1-i\n",
    "    arr3[k:k+n2-j] = arr2[j:]\n",
    "    return arr3\n"
   ]
  },
  {
   "cell_type": "code",
   "execution_count": 20,
   "metadata": {},
   "outputs": [
    {
     "name": "stdout",
     "output_type": "stream",
     "text": [
      "Testing on 10 cases.\n",
      "- Test 1 PASSED.\n",
      "- Test 2 PASSED.\n",
      "- Test 3 PASSED.\n",
      "- Test 4 PASSED.\n",
      "- Test 5 PASSED.\n",
      "- Test 6 PASSED.\n",
      "- Test 7 PASSED.\n",
      "- Test 8 PASSED.\n",
      "- Test 9 PASSED.\n",
      "- Test 10 PASSED.\n",
      "CONGRATULATIONS! All test cases passed!\n"
     ]
    }
   ],
   "source": [
    "# !!! DO NOT MODIFY THIS CELL\n",
    "# Check result on test cases\n",
    "test4(merge_lists1)"
   ]
  },
  {
   "cell_type": "code",
   "execution_count": null,
   "metadata": {},
   "outputs": [],
   "source": []
  }
 ],
 "metadata": {
  "kernelspec": {
   "display_name": "Python 3.9.12 ('base')",
   "language": "python",
   "name": "python3"
  },
  "language_info": {
   "codemirror_mode": {
    "name": "ipython",
    "version": 3
   },
   "file_extension": ".py",
   "mimetype": "text/x-python",
   "name": "python",
   "nbconvert_exporter": "python",
   "pygments_lexer": "ipython3",
   "version": "3.9.12"
  },
  "vscode": {
   "interpreter": {
    "hash": "2043299c89c8cd0b4d1a6f5cf4529bd58e6a4e0fe3181a25e0d328c821cdc5c5"
   }
  }
 },
 "nbformat": 4,
 "nbformat_minor": 4
}
