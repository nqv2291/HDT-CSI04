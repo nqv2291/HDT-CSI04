{
 "cells": [
  {
   "cell_type": "markdown",
   "metadata": {},
   "source": [
    "## <center>Computer Science Intensive Course - MindX</center>\n",
    "![](./assets/logo.png)\n",
    "# <center>KIỂM TRA GIỮA KHÓA - ĐÁNH GIÁ ĐIỂM</center>"
   ]
  },
  {
   "cell_type": "code",
   "execution_count": 9,
   "metadata": {},
   "outputs": [],
   "source": [
    "import pandas as pd\n",
    "from os import listdir\n",
    "from os.path import isfile, join"
   ]
  },
  {
   "cell_type": "markdown",
   "metadata": {},
   "source": [
    "## Load bài giải mẫu và test case\n",
    "\n",
    "Chạy phần **Chấm điểm** ngay sau khi chạy phần này để kiểm tra test case hoạt động đúng. Sau đó mới chạy phần **Load bài nộp** để chấm điểm học viên."
   ]
  },
  {
   "cell_type": "code",
   "execution_count": 4,
   "metadata": {},
   "outputs": [
    {
     "ename": "Exception",
     "evalue": "File `'midterm-solutions.ipynb.py'` not found.",
     "output_type": "error",
     "traceback": [
      "\u001b[1;31m---------------------------------------------------------------------------\u001b[0m",
      "\u001b[1;31mOSError\u001b[0m                                   Traceback (most recent call last)",
      "File \u001b[1;32m~\\AppData\\Roaming\\Python\\Python39\\site-packages\\IPython\\core\\magics\\execution.py:696\u001b[0m, in \u001b[0;36mExecutionMagics.run\u001b[1;34m(self, parameter_s, runner, file_finder)\u001b[0m\n\u001b[0;32m    695\u001b[0m     fpath \u001b[39m=\u001b[39m arg_lst[\u001b[39m0\u001b[39m]\n\u001b[1;32m--> 696\u001b[0m     filename \u001b[39m=\u001b[39m file_finder(fpath)\n\u001b[0;32m    697\u001b[0m \u001b[39mexcept\u001b[39;00m \u001b[39mIndexError\u001b[39;00m \u001b[39mas\u001b[39;00m e:\n",
      "File \u001b[1;32m~\\AppData\\Roaming\\Python\\Python39\\site-packages\\IPython\\utils\\path.py:91\u001b[0m, in \u001b[0;36mget_py_filename\u001b[1;34m(name)\u001b[0m\n\u001b[0;32m     90\u001b[0m \u001b[39melse\u001b[39;00m:\n\u001b[1;32m---> 91\u001b[0m     \u001b[39mraise\u001b[39;00m \u001b[39mIOError\u001b[39;00m(\u001b[39m'\u001b[39m\u001b[39mFile `\u001b[39m\u001b[39m%r\u001b[39;00m\u001b[39m` not found.\u001b[39m\u001b[39m'\u001b[39m \u001b[39m%\u001b[39m name)\n",
      "\u001b[1;31mOSError\u001b[0m: File `'midterm-solutions.ipynb.py'` not found.",
      "\nThe above exception was the direct cause of the following exception:\n",
      "\u001b[1;31mException\u001b[0m                                 Traceback (most recent call last)",
      "\u001b[1;32mc:\\Users\\peppe\\HDT-CSI04\\Test\\Midterm\\midterm-evaluation.ipynb Cell 4\u001b[0m in \u001b[0;36m<cell line: 1>\u001b[1;34m()\u001b[0m\n\u001b[1;32m----> <a href='vscode-notebook-cell:/c%3A/Users/peppe/HDT-CSI04/Test/Midterm/midterm-evaluation.ipynb#ch0000003?line=0'>1</a>\u001b[0m get_ipython()\u001b[39m.\u001b[39;49mrun_line_magic(\u001b[39m'\u001b[39;49m\u001b[39mrun\u001b[39;49m\u001b[39m'\u001b[39;49m, \u001b[39m'\u001b[39;49m\u001b[39mmidterm-solutions.ipynb import find_mode, buy_icecream, has_sequence_with_sum, count_swap, find_word, find_closest_distance\u001b[39;49m\u001b[39m'\u001b[39;49m)\n\u001b[0;32m      <a href='vscode-notebook-cell:/c%3A/Users/peppe/HDT-CSI04/Test/Midterm/midterm-evaluation.ipynb#ch0000003?line=1'>2</a>\u001b[0m get_ipython()\u001b[39m.\u001b[39mrun_line_magic(\u001b[39m'\u001b[39m\u001b[39mrun\u001b[39m\u001b[39m'\u001b[39m, \u001b[39m'\u001b[39m\u001b[39mmidterm-testcases.ipynb\u001b[39m\u001b[39m'\u001b[39m)\n\u001b[0;32m      <a href='vscode-notebook-cell:/c%3A/Users/peppe/HDT-CSI04/Test/Midterm/midterm-evaluation.ipynb#ch0000003?line=3'>4</a>\u001b[0m current_submission \u001b[39m=\u001b[39m \u001b[39m'\u001b[39m\u001b[39mmidterm-solutions.ipynb\u001b[39m\u001b[39m'\u001b[39m\n",
      "File \u001b[1;32m~\\AppData\\Roaming\\Python\\Python39\\site-packages\\IPython\\core\\interactiveshell.py:2305\u001b[0m, in \u001b[0;36mInteractiveShell.run_line_magic\u001b[1;34m(self, magic_name, line, _stack_depth)\u001b[0m\n\u001b[0;32m   2303\u001b[0m     kwargs[\u001b[39m'\u001b[39m\u001b[39mlocal_ns\u001b[39m\u001b[39m'\u001b[39m] \u001b[39m=\u001b[39m \u001b[39mself\u001b[39m\u001b[39m.\u001b[39mget_local_scope(stack_depth)\n\u001b[0;32m   2304\u001b[0m \u001b[39mwith\u001b[39;00m \u001b[39mself\u001b[39m\u001b[39m.\u001b[39mbuiltin_trap:\n\u001b[1;32m-> 2305\u001b[0m     result \u001b[39m=\u001b[39m fn(\u001b[39m*\u001b[39margs, \u001b[39m*\u001b[39m\u001b[39m*\u001b[39mkwargs)\n\u001b[0;32m   2306\u001b[0m \u001b[39mreturn\u001b[39;00m result\n",
      "File \u001b[1;32m~\\AppData\\Roaming\\Python\\Python39\\site-packages\\IPython\\core\\magics\\execution.py:707\u001b[0m, in \u001b[0;36mExecutionMagics.run\u001b[1;34m(self, parameter_s, runner, file_finder)\u001b[0m\n\u001b[0;32m    705\u001b[0m     \u001b[39mif\u001b[39;00m os\u001b[39m.\u001b[39mname \u001b[39m==\u001b[39m \u001b[39m'\u001b[39m\u001b[39mnt\u001b[39m\u001b[39m'\u001b[39m \u001b[39mand\u001b[39;00m re\u001b[39m.\u001b[39mmatch(\u001b[39mr\u001b[39m\u001b[39m\"\u001b[39m\u001b[39m^\u001b[39m\u001b[39m'\u001b[39m\u001b[39m.*\u001b[39m\u001b[39m'\u001b[39m\u001b[39m$\u001b[39m\u001b[39m\"\u001b[39m,fpath):\n\u001b[0;32m    706\u001b[0m         warn(\u001b[39m'\u001b[39m\u001b[39mFor Windows, use double quotes to wrap a filename: \u001b[39m\u001b[39m%r\u001b[39;00m\u001b[39mun \u001b[39m\u001b[39m\"\u001b[39m\u001b[39mmypath\u001b[39m\u001b[39m\\\\\u001b[39;00m\u001b[39mmyfile.py\u001b[39m\u001b[39m\"\u001b[39m\u001b[39m'\u001b[39m)\n\u001b[1;32m--> 707\u001b[0m     \u001b[39mraise\u001b[39;00m \u001b[39mException\u001b[39;00m(msg) \u001b[39mfrom\u001b[39;00m \u001b[39me\u001b[39;00m\n\u001b[0;32m    708\u001b[0m \u001b[39mexcept\u001b[39;00m \u001b[39mTypeError\u001b[39;00m:\n\u001b[0;32m    709\u001b[0m     \u001b[39mif\u001b[39;00m fpath \u001b[39min\u001b[39;00m sys\u001b[39m.\u001b[39mmeta_path:\n",
      "\u001b[1;31mException\u001b[0m: File `'midterm-solutions.ipynb.py'` not found."
     ]
    }
   ],
   "source": [
    "%run midterm-solutions.ipynb import find_mode, buy_icecream, has_sequence_with_sum, count_swap, find_word, find_closest_distance\n",
    "%run midterm-testcases.ipynb\n",
    "\n",
    "current_submission = 'midterm-solutions.ipynb'"
   ]
  },
  {
   "cell_type": "markdown",
   "metadata": {},
   "source": [
    "## Load bài nộp\n",
    "\n",
    "- Load các bài nộp trong thư mục <code>path</code>.\n",
    "- Chấm điểm từng bài bằng cách thay đổi index khi gán giá trị cho biến <code>current_submission</code>."
   ]
  },
  {
   "cell_type": "code",
   "execution_count": 10,
   "metadata": {},
   "outputs": [
    {
     "data": {
      "text/plain": [
       "['submissions/DangThanhVan-CSIMidtermTest.ipynb',\n",
       " 'submissions/SampleFullName-CSIMidtermTest.ipynb']"
      ]
     },
     "execution_count": 10,
     "metadata": {},
     "output_type": "execute_result"
    }
   ],
   "source": [
    "path = 'submissions/'  # change this path\n",
    "submissions = ['submissions/{}'.format(f) for f in listdir(path) if isfile(join(path, f))]\n",
    "submissions"
   ]
  },
  {
   "cell_type": "code",
   "execution_count": 13,
   "metadata": {},
   "outputs": [
    {
     "name": "stdout",
     "output_type": "stream",
     "text": [
      "3\n",
      "Correct answer on sample test!\n",
      "Correct answer on sample test!\n",
      "Correct answer on sample test!\n",
      "Correct answer on sample test!\n",
      "is chasing rat\n",
      "Correct answer on sample test!\n",
      "Correct answer on sample test!\n"
     ]
    }
   ],
   "source": [
    "current_submission = submissions[0]  # change the index\n",
    "%run $current_submission import find_mode, buy_icecream, has_sequence_with_sum, count_swap, find_word, find_closest_distance"
   ]
  },
  {
   "cell_type": "markdown",
   "metadata": {},
   "source": [
    "## Chấm điểm"
   ]
  },
  {
   "cell_type": "code",
   "execution_count": 12,
   "metadata": {},
   "outputs": [
    {
     "name": "stdout",
     "output_type": "stream",
     "text": [
      "Testing on submissions/DangThanhVan-CSIMidtermTest.ipynb\n",
      "===============================================\n"
     ]
    },
    {
     "ename": "NameError",
     "evalue": "name 'test1' is not defined",
     "output_type": "error",
     "traceback": [
      "\u001b[1;31m---------------------------------------------------------------------------\u001b[0m",
      "\u001b[1;31mNameError\u001b[0m                                 Traceback (most recent call last)",
      "\u001b[1;32mc:\\Users\\peppe\\HDT-CSI04\\Test\\Midterm\\midterm-evaluation.ipynb Cell 9\u001b[0m in \u001b[0;36m<cell line: 26>\u001b[1;34m()\u001b[0m\n\u001b[0;32m     <a href='vscode-notebook-cell:/c%3A/Users/peppe/HDT-CSI04/Test/Midterm/midterm-evaluation.ipynb#ch0000008?line=20'>21</a>\u001b[0m     \u001b[39mprint\u001b[39m(\u001b[39m'\u001b[39m\u001b[39mTotal Points: \u001b[39m\u001b[39m{}\u001b[39;00m\u001b[39m/120\u001b[39m\u001b[39m'\u001b[39m\u001b[39m.\u001b[39mformat(tests_passed\u001b[39m*\u001b[39m\u001b[39m2\u001b[39m))\n\u001b[0;32m     <a href='vscode-notebook-cell:/c%3A/Users/peppe/HDT-CSI04/Test/Midterm/midterm-evaluation.ipynb#ch0000008?line=22'>23</a>\u001b[0m     \u001b[39mreturn\u001b[39;00m result_df\n\u001b[1;32m---> <a href='vscode-notebook-cell:/c%3A/Users/peppe/HDT-CSI04/Test/Midterm/midterm-evaluation.ipynb#ch0000008?line=25'>26</a>\u001b[0m evaluate()\n",
      "\u001b[1;32mc:\\Users\\peppe\\HDT-CSI04\\Test\\Midterm\\midterm-evaluation.ipynb Cell 9\u001b[0m in \u001b[0;36mevaluate\u001b[1;34m()\u001b[0m\n\u001b[0;32m      <a href='vscode-notebook-cell:/c%3A/Users/peppe/HDT-CSI04/Test/Midterm/midterm-evaluation.ipynb#ch0000008?line=3'>4</a>\u001b[0m \u001b[39mprint\u001b[39m(\u001b[39m'\u001b[39m\u001b[39m===============================================\u001b[39m\u001b[39m'\u001b[39m)\n\u001b[0;32m      <a href='vscode-notebook-cell:/c%3A/Users/peppe/HDT-CSI04/Test/Midterm/midterm-evaluation.ipynb#ch0000008?line=5'>6</a>\u001b[0m func_list \u001b[39m=\u001b[39m [find_mode, buy_icecream, has_sequence_with_sum, count_swap, find_word, find_closest_distance]\n\u001b[1;32m----> <a href='vscode-notebook-cell:/c%3A/Users/peppe/HDT-CSI04/Test/Midterm/midterm-evaluation.ipynb#ch0000008?line=6'>7</a>\u001b[0m test_func_list \u001b[39m=\u001b[39m [test1, test2, test3, test4, test5, test6]\n\u001b[0;32m      <a href='vscode-notebook-cell:/c%3A/Users/peppe/HDT-CSI04/Test/Midterm/midterm-evaluation.ipynb#ch0000008?line=7'>8</a>\u001b[0m result_df \u001b[39m=\u001b[39m pd\u001b[39m.\u001b[39mDataFrame()\n\u001b[0;32m     <a href='vscode-notebook-cell:/c%3A/Users/peppe/HDT-CSI04/Test/Midterm/midterm-evaluation.ipynb#ch0000008?line=9'>10</a>\u001b[0m \u001b[39mfor\u001b[39;00m i, func \u001b[39min\u001b[39;00m \u001b[39menumerate\u001b[39m(func_list):\n",
      "\u001b[1;31mNameError\u001b[0m: name 'test1' is not defined"
     ]
    }
   ],
   "source": [
    "def evaluate():\n",
    "    \n",
    "    print('Testing on {}'.format(current_submission))\n",
    "    print('===============================================')\n",
    "\n",
    "    func_list = [find_mode, buy_icecream, has_sequence_with_sum, count_swap, find_word, find_closest_distance]\n",
    "    test_func_list = [test1, test2, test3, test4, test5, test6]\n",
    "    result_df = pd.DataFrame()\n",
    "\n",
    "    for i, func in enumerate(func_list):\n",
    "        print('Testing on problem {}/6...'.format(i+1))\n",
    "        result_df['Problem {}'.format(i+1)] = test_func_list[i](func)\n",
    "\n",
    "    index_list = ['Test {}'.format(i+1) for i in range(10)]\n",
    "    index_list += ['Total']\n",
    "    result_df.set_index(pd.Index(index_list), inplace=True)\n",
    "\n",
    "    tests_passed = result_df.loc['Total', :].sum()\n",
    "    print('===============================================')\n",
    "    print('Total Test Cases Passed: {}/60'.format(tests_passed))\n",
    "    print('Total Points: {}/120'.format(tests_passed*2))\n",
    "\n",
    "    return result_df\n",
    "\n",
    "\n",
    "evaluate()"
   ]
  },
  {
   "cell_type": "code",
   "execution_count": null,
   "metadata": {},
   "outputs": [],
   "source": []
  }
 ],
 "metadata": {
  "kernelspec": {
   "display_name": "Python 3.9.5 64-bit",
   "language": "python",
   "name": "python3"
  },
  "language_info": {
   "codemirror_mode": {
    "name": "ipython",
    "version": 3
   },
   "file_extension": ".py",
   "mimetype": "text/x-python",
   "name": "python",
   "nbconvert_exporter": "python",
   "pygments_lexer": "ipython3",
   "version": "3.9.5"
  },
  "vscode": {
   "interpreter": {
    "hash": "11938c6bc6919ae2720b4d5011047913343b08a43b18698fd82dedb0d4417594"
   }
  }
 },
 "nbformat": 4,
 "nbformat_minor": 4
}
