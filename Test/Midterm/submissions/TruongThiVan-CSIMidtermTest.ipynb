{
 "cells": [
  {
   "cell_type": "markdown",
   "metadata": {},
   "source": [
    "## <center>Computer Science Intensive Course - MindX</center>\n",
    "![](./assets/logo.png)\n",
    "# <center>KIỂM TRA GIỮA KHÓA</center>"
   ]
  },
  {
   "cell_type": "markdown",
   "metadata": {},
   "source": [
    "**Hướng dẫn làm bài**:\n",
    "- Dùng kiến thức đã học để cài đặt các thuật toán giải quyết yêu cầu đề bài.\n",
    "- Nộp đáp án của mỗi bài dưới dạng function. Giữ nguyên tên và parameter được cho sẵn. Trả về kết quả bằng lệnh <code>return</code>, không dùng <code>print()</code> trong bài nộp.\n",
    "- Không <code>import</code> thư viện. Chỉ dùng các cấu trúc dữ liệu và hàm cho sẵn trong Python.\n",
    "  + Hợp lệ: <code>arr = list([1, 2, 3])</code>, <code>sorted_arr = sorted(arr)</code>, <code>index = arr.index(2)</code>\n",
    "  + Không hợp lệ: <code>import numpy</code>, <code>math.sqrt(9)</code> \n",
    "- Đáp án phải được tìm bằng thuật toán, không dùng kết quả ngẫu nhiên.\n",
    "- Có thể sử dụng hàm <code>help()</code> để xem thông tin về các cấu trúc dữ liệu và hàm. Ví dụ: <code>help(sorted)</code>\n",
    "\n",
    "**Đánh giá điểm**:\n",
    "- Mỗi bài được chạy trên 10 test cases với kích thước input tăng dần.  \n",
    "  Bài nộp được chấp nhận trên một test case nếu trả về đúng kết quả trong thời gian tối đa **1 giây**.\n",
    "- Có tổng cộng 60 test cases cho 6 bài, mỗi test case 2 điểm. Điểm cao nhất có thể đạt được là **120 điểm**.\n",
    "\n",
    "**Nộp bài**:\n",
    "- Chạy đoạn test cho sẵn để kiểm tra bài nộp hợp lệ.\n",
    "- Định dạng tên file: <code>FullName-CSIMidtermTest.ipynb</code>\n",
    "\n",
    "**Chúc các bạn thành công!**"
   ]
  },
  {
   "cell_type": "markdown",
   "metadata": {},
   "source": [
    "## Bài 1. Tìm Mode\n",
    "\n",
    "Mode của một tập hợp được định nghĩa là phần tử xuất hiện lặp lại nhiều lần nhất trong tập hợp đó. Một tập hợp có thể:\n",
    "- Không có mode vì không có phần tử nào lặp lại. Ví dụ: <code>[1, 2, 3, 4]</code>\n",
    "- Có một mode. Ví dụ: <code>[1, 2, 2, 2, 3, 3]</code> có mode là <code>2</code>\n",
    "- Có nhiều mode. Ví dụ: <code>[1, 2, 1, 2, 3]</code> có mode là <code>1</code> và <code>2</code>\n",
    "\n",
    "**Yêu cầu**: Cho một danh sách các số nguyên, tìm mode có giá trị lớn nhất trong danh sách.\n",
    "\n",
    "**Input**: Một <code>list</code> chứa *0 < n < 10<sup>6</sup>* số nguyên. Mỗi phần tử có giá trị trong khoảng [-10<sup>9</sup>, 10<sup>9</sup>].  \n",
    "**Output**: Một số nguyên duy nhất là mode có giá trị lớn nhất trong danh sách. Trả về <code>None</code> nếu không tìm thấy.  \n",
    "**Ví dụ**:\n",
    "- Input: <code>[1, 2, 3, 2, 3]</code>\n",
    "- Output: <code>3</code>\n",
    "- Giải thích: Danh sách có hai mode là <code>2</code> và <code>3</code>. Ta trả về mode lớn nhất là <code>3</code>"
   ]
  },
  {
   "cell_type": "code",
   "execution_count": 3,
   "metadata": {},
   "outputs": [],
   "source": [
    "def find_mode(arr):\n",
    "    count_dic = {}\n",
    "    for i in arr:\n",
    "        count_dic[i] = arr.count(i)\n",
    "    max_count = max(count_dic.values())\n",
    "    max_value = arr[0]\n",
    "    result = None\n",
    "    for key, value in count_dic.items():\n",
    "        if value == max_count:\n",
    "            if value >= max_value:\n",
    "                max_value = value\n",
    "                result = key\n",
    "    return result\n",
    "                \n",
    "    "
   ]
  },
  {
   "cell_type": "code",
   "execution_count": 4,
   "metadata": {},
   "outputs": [
    {
     "name": "stdout",
     "output_type": "stream",
     "text": [
      "Correct answer on sample test!\n"
     ]
    }
   ],
   "source": [
    "# test before submission\n",
    "try:\n",
    "    assert(find_mode([1, 2, 3, 2, 3]) == 3)\n",
    "    print('Correct answer on sample test!')\n",
    "except:\n",
    "    print('Invalid submission or Wrong answer!')"
   ]
  },
  {
   "cell_type": "markdown",
   "metadata": {},
   "source": [
    "## Bài 2. Mua Kem\n",
    "\n",
    "Thủy và An được cho <code>m</code> đồng để mua kem. Quầy kem có <code>n</code> loại kem với mệnh giá không trùng nhau.\n",
    "\n",
    "**Yêu cầu**: Hãy giúp Thủy và An dùng hết <code>m</code> đồng để mua 2 cây kem khác loại.\n",
    "\n",
    "**Input**: Một số nguyên *0 < m < 10<sup>9</sup>* và <code>list</code> chứa *0 < n < 10<sup>5</sup>* mệnh giá số nguyên, mỗi mệnh giá nằm trong khoảng [1, 10<sup>9</sup>].  \n",
    "**Output**: Hai số nguyên là index của hai loại kem, index nhỏ hơn đứng trước. Test cases đảm bảo tồn tại ít nhất một đáp án.  \n",
    "**Ví dụ**:\n",
    "- Input: <code>4</code>, <code>[1, 4, 5, 3, 2]</code>\n",
    "- Output: <code>0, 3</code>\n",
    "- Giải thích: Các mệnh giá tại index 0 và 3 là <code>1, 3</code>, với <code>m = 4 = 1 + 3</code>"
   ]
  },
  {
   "cell_type": "code",
   "execution_count": 64,
   "metadata": {},
   "outputs": [
    {
     "data": {
      "text/plain": [
       "(0, 1)"
      ]
     },
     "execution_count": 64,
     "metadata": {},
     "output_type": "execute_result"
    }
   ],
   "source": [
    "def buy_icecream(budget, prices):\n",
    "    start_num = prices[0]\n",
    "    first_ind = 0\n",
    "    last_ind = 0\n",
    "    for i in range(1, len(prices) - 1):\n",
    "        \n",
    "        for j in range(1, len(prices) - 1 ):\n",
    "          \n",
    "            if start_num + prices[j] == budget:\n",
    "                first_ind = prices.index(start_num)\n",
    "                last_ind = j\n",
    "               \n",
    "                return first_ind, last_ind\n",
    "           \n",
    "        start_num = prices[i]\n",
    "   \n",
    "\n",
    "\n",
    "            "
   ]
  },
  {
   "cell_type": "code",
   "execution_count": 63,
   "metadata": {},
   "outputs": [
    {
     "name": "stdout",
     "output_type": "stream",
     "text": [
      "Correct answer on sample test!\n"
     ]
    }
   ],
   "source": [
    "# test before submission\n",
    "try:\n",
    "    index1, index2 = buy_icecream(4, [1, 4, 5, 3, 2])\n",
    "    assert(index1 == 0 and index2 == 3)\n",
    "    print('Correct answer on sample test!')\n",
    "except:\n",
    "    print('Invalid submission or Wrong answer!')"
   ]
  },
  {
   "cell_type": "markdown",
   "metadata": {},
   "source": [
    "## Bài 3. Tìm Tổng\n",
    "\n",
    "Dãy con liên tục là một dãy các phần tử liên tiếp nhau của một dãy nào đó. Một dãy con liên tục có độ dài nhỏ nhất bằng một và độ dài lớn nhất bằng dãy chứa nó.\n",
    "\n",
    "**Yêu cầu**: Cho một dãy các số nguyên, kiểm tra có tồn tại dãy con liên tục có tổng các phần tử bằng một giá trị cho trước hay không.\n",
    "\n",
    "**Input**: Một số nguyên *0 < k < 10<sup>9</sup>* và một <code>list</code> chứa *0 < n < 10<sup>5</sup>* số nguyên. Mỗi phần tử có giá trị trong khoảng [1, 10<sup>5</sup>].  \n",
    "**Output**: Trả về <code>True</code> nếu tồn tại một dãy con liên tục có tổng các phần tử bằng <code>k</code>. Ngược lại trả về <code>False</code>.  \n",
    "**Ví dụ**:  \n",
    "\n",
    "Ví dụ 1:\n",
    "- Input: <code>8, [1, 5, 3, 2, 5]</code>\n",
    "- Output: <code>True</code>\n",
    "- Giải thích: Tồn tại một dãy con liên tục là <code>[5, 3]</code> có tổng bằng <code>8</code>.\n",
    "\n",
    "Ví dụ 2:\n",
    "- Input: <code>5, [1, 5, 3, 2, 5]</code>\n",
    "- Output: <code>True</code>\n",
    "- Giải thích: Tồn tại ba dãy con liên tục là <code>[5]</code>, <code>[3, 2]</code> và <code>[5]</code> có tổng bằng <code>5</code>."
   ]
  },
  {
   "cell_type": "code",
   "execution_count": 68,
   "metadata": {},
   "outputs": [
    {
     "name": "stdout",
     "output_type": "stream",
     "text": [
      "6\n",
      "5\n",
      "7\n",
      "5\n",
      "7\n",
      "5\n",
      "7\n",
      "7\n"
     ]
    },
    {
     "data": {
      "text/plain": [
       "False"
      ]
     },
     "execution_count": 68,
     "metadata": {},
     "output_type": "execute_result"
    }
   ],
   "source": [
    "def has_sequence_with_sum(target_sum, arr):\n",
    "    result = False\n",
    "    for i in range(len(arr)-1):\n",
    "        for j in range(i, len(arr)-1):\n",
    "            if arr[j] == target_sum:\n",
    "                result = True\n",
    "                break\n",
    "            if arr[j] + arr[j+1] < target_sum:\n",
    "                sum = arr[j] + arr[j+1]\n",
    "                print(sum)\n",
    "                while sum <= target_sum:\n",
    "                    j += 1\n",
    "                    sum += arr[j]\n",
    "                    if sum == target_sum:\n",
    "                        result = True\n",
    "    return result\n",
    "has_sequence_with_sum(8, [1, 5, 3, 2, 5])\n"
   ]
  },
  {
   "cell_type": "code",
   "execution_count": 7,
   "metadata": {},
   "outputs": [
    {
     "name": "stdout",
     "output_type": "stream",
     "text": [
      "Invalid submission or Wrong answer!\n"
     ]
    }
   ],
   "source": [
    "# test before submission\n",
    "try:\n",
    "    assert(has_sequence_with_sum(8, [1, 5, 3, 2, 5]) == True)\n",
    "    print('Correct answer on sample test!')\n",
    "except:\n",
    "    print('Invalid submission or Wrong answer!')"
   ]
  },
  {
   "cell_type": "markdown",
   "metadata": {},
   "source": [
    "## Bài 4. Đổi Chỗ\n",
    "\n",
    "Trong các thuật toán đã học, ta thường đổi chỗ các phần tử trong quá trình sắp xếp để đưa chúng về vị trí thích hợp. Một bước đổi chỗ *(swap)* được định nghĩa là quá trình hoán đổi vị trí giữa hai phần tử khác nhau trong dãy.  \n",
    "\n",
    "Ví dụ ta có mảng <code>arr = [2, 5, 3, 1]</code>, một bước đổi chỗ thực hiện trên hai phần tử <code>arr[1]</code> và <code>arr[3]</code> sẽ biến mảng <code>arr</code> thành <code>[2, 1, 3, 5]</code>.\n",
    "\n",
    "**Yêu cầu**: Cho một dãy các số nguyên không trùng nhau, hãy tìm số lần đổi chỗ ít nhất để đưa dãy về trạng thái đã sắp xếp theo thứ tự tăng dần.\n",
    "\n",
    "**Input**: Một <code>list</code> chứa *0 < n < 10<sup>5</sup>* số nguyên. Mỗi phần tử có giá trị trong khoảng [-10<sup>9</sup>, 10<sup>9</sup>].  \n",
    "**Output**: Trả về một số nguyên là số lần đổi chỗ ít nhất để đưa dãy về trạng thái đã sắp xếp tăng dần.  \n",
    "**Ví dụ**:  \n",
    "\n",
    "Ví dụ 1:\n",
    "- Input: <code>[2, 5, 3, 1]</code>\n",
    "- Output: <code>2</code>\n",
    "- Giải thích: Ta thực hiện hai bước đổi chỗ như sau:\n",
    "  <pre>\n",
    "  swap(0, 3) => arr = [1, 5, 3, 2]\n",
    "  swap(1, 3) => arr = [1, 2, 3, 5]\n",
    "  </pre>\n",
    " \n",
    "Ví dụ 2:\n",
    "- Input: <code>[5, 2, 3, 1]</code>\n",
    "- Output: <code>1</code>\n",
    "- Giải thích: Ta thực hiện 1 bước đổi chỗ cho phần tử đầu và phần tử cuối."
   ]
  },
  {
   "cell_type": "code",
   "execution_count": 8,
   "metadata": {},
   "outputs": [],
   "source": [
    "def count_swap(arr):\n",
    "    pass"
   ]
  },
  {
   "cell_type": "code",
   "execution_count": 9,
   "metadata": {},
   "outputs": [
    {
     "name": "stdout",
     "output_type": "stream",
     "text": [
      "Invalid submission or Wrong answer!\n"
     ]
    }
   ],
   "source": [
    "# test before submission\n",
    "try:\n",
    "    assert(count_swap([2, 5, 3, 1]) == 2)\n",
    "    print('Correct answer on sample test!')\n",
    "except:\n",
    "    print('Invalid submission or Wrong answer!')"
   ]
  },
  {
   "cell_type": "markdown",
   "metadata": {},
   "source": [
    "## Bài 5. Tìm Từ\n",
    "\n",
    "Cho một đoạn văn gồm nhiều từ và dấu câu, mỗi từ trong đoạn văn cách nhau bằng ít nhất một dấu cách.  \n",
    "\n",
    "**Yêu cầu**: Tìm các từ xuất hiện đúng <code>k</code> lần trong đoạn văn.  \n",
    "\n",
    "**Input**: Một số nguyên *0 < k < 10<sup>6</sup>* và một đoạn văn dưới dạng <code>str</code> với độ dài < 10<sup>6</sup> ký tự.  \n",
    "**Output**: Một <code>str</code> chứa các từ xuất hiện đúng <code>k</code> lần trong đoạn văn, mỗi từ cách nhau bằng một dấu cách, sắp xếp theo thứ tự bảng chữ cái. Định dạng các từ theo dạng viết thường (lowercase). Trả về <code>str</code> rỗng (<code>\"\"</code>) nếu không tìm thấy.  \n",
    "**Ví dụ**:\n",
    "- Input: <code>2</code>, <code>\"The cat is chasing the rat. The dog is also chasing the rat.\"</code>\n",
    "- Output: <code>\"chasing is rat\"</code>\n",
    "- Giải thích: Mỗi từ trong output xuất hiện đúng 2 lần trong đoạn văn."
   ]
  },
  {
   "cell_type": "code",
   "execution_count": 56,
   "metadata": {},
   "outputs": [
    {
     "data": {
      "text/plain": [
       "'chasing is rat'"
      ]
     },
     "execution_count": 56,
     "metadata": {},
     "output_type": "execute_result"
    }
   ],
   "source": [
    "def find_word(frequency, inp_str):\n",
    "    result = []\n",
    "    word = \"\"\n",
    "    count_dic = {}\n",
    "    for char in inp_str:\n",
    "        if char.isalpha() == False:\n",
    "            inp_str = inp_str.replace(char, \" \")\n",
    "    inp_str = inp_str.lower().split(\" \")\n",
    "    for i in inp_str:\n",
    "        if i.isalpha():\n",
    "         count_dic[i] = inp_str.count(i)\n",
    "    for key, value in count_dic.items():\n",
    "        if value == frequency:\n",
    "            result.append(key)\n",
    "    result = sorted(result)\n",
    "    for i in range(len(result)-1):\n",
    "        word += str(result[i]) + \" \"\n",
    "    word += result[-1] \n",
    "    return word\n",
    "    \n",
    "find_word(2, \"The cat is chasing the rat. The dog is also chasing the rat.\")"
   ]
  },
  {
   "cell_type": "code",
   "execution_count": 57,
   "metadata": {},
   "outputs": [
    {
     "name": "stdout",
     "output_type": "stream",
     "text": [
      "Correct answer on sample test!\n"
     ]
    }
   ],
   "source": [
    "# test before submission\n",
    "try:\n",
    "    assert(find_word(2, \"The cat is chasing the rat. The dog is also chasing the rat.\") == \"chasing is rat\")\n",
    "    print('Correct answer on sample test!')\n",
    "except:\n",
    "    print('Invalid submission or Wrong answer!')"
   ]
  },
  {
   "cell_type": "markdown",
   "metadata": {},
   "source": [
    "## Bài 6. Khoảng Cách Ngắn Nhất\n",
    "\n",
    "Ta định nghĩa khoảng cách giữa hai số *a* và *b* là giá trị tuyệt đối của hiệu hai số: *distance(a, b) = |b - a|*.\n",
    "\n",
    "**Yêu cầu**: Cho một dãy các số nguyên, tìm khoảng cách ngắn nhất giữa hai phần tử trong dãy số.\n",
    "\n",
    "**Input**: Một <code>list</code> chứa *1 < n < 10<sup>5</sup>* số nguyên. Mỗi phần tử có giá trị trong khoảng [-10<sup>9</sup>, 10<sup>9</sup>].  \n",
    "**Output**: Trả về một số nguyên duy nhất là khoảng cách ngắn nhất giữa hai phần tử.  \n",
    "**Ví dụ**:  \n",
    "\n",
    "Ví dụ 1:\n",
    "- Input: <code>[1, 5, 3, 2]</code>\n",
    "- Output: <code>1</code>\n",
    "- Giải thích: Các cặp phần tử <code>(1, 2)</code> và <code>(3, 2)</code> có khoảng cách là <code>1</code> và là khoảng cách ngắn nhất.\n",
    "\n",
    "Ví dụ 2:\n",
    "- Input: <code>[1, 5, 3, 2, 5]</code>\n",
    "- Output: <code>0</code>\n",
    "- Giải thích: Cặp phần tử <code>(5, 5)</code> có khoảng cách là <code>0</code> và là khoảng cách ngắn nhất."
   ]
  },
  {
   "cell_type": "code",
   "execution_count": 51,
   "metadata": {},
   "outputs": [
    {
     "data": {
      "text/plain": [
       "1.0"
      ]
     },
     "execution_count": 51,
     "metadata": {},
     "output_type": "execute_result"
    }
   ],
   "source": [
    "\n",
    "import math\n",
    "def find_closest_distance(arr):\n",
    "    min_dis = max(arr)\n",
    "    for i in range(len(arr) ):\n",
    "        for j in range(1, len(arr)-1):\n",
    "            if arr[i] == arr[j]:\n",
    "                continue\n",
    "            else:\n",
    "                dis = math.fabs(arr[i] - arr[j])               \n",
    "                if dis <= min_dis:\n",
    "                    min_dis = dis\n",
    "                    \n",
    "    return min_dis"
   ]
  },
  {
   "cell_type": "code",
   "execution_count": 52,
   "metadata": {},
   "outputs": [
    {
     "name": "stdout",
     "output_type": "stream",
     "text": [
      "Correct answer on sample test!\n"
     ]
    }
   ],
   "source": [
    "# test before submission\n",
    "try:\n",
    "    assert(find_closest_distance([1, 5, 3, 2]) == 1)\n",
    "    print('Correct answer on sample test!')\n",
    "except:\n",
    "    print('Invalid submission or Wrong answer!')"
   ]
  },
  {
   "cell_type": "markdown",
   "metadata": {},
   "source": [
    "# END"
   ]
  }
 ],
 "metadata": {
  "kernelspec": {
   "display_name": "Python 3.9.12 ('base')",
   "language": "python",
   "name": "python3"
  },
  "language_info": {
   "codemirror_mode": {
    "name": "ipython",
    "version": 3
   },
   "file_extension": ".py",
   "mimetype": "text/x-python",
   "name": "python",
   "nbconvert_exporter": "python",
   "pygments_lexer": "ipython3",
   "version": "3.9.12"
  },
  "vscode": {
   "interpreter": {
    "hash": "2043299c89c8cd0b4d1a6f5cf4529bd58e6a4e0fe3181a25e0d328c821cdc5c5"
   }
  }
 },
 "nbformat": 4,
 "nbformat_minor": 4
}
