{
  "cells": [
    {
      "cell_type": "markdown",
      "metadata": {
        "id": "5t6BoToqnCr1"
      },
      "source": [
        "## <center>Computer Science Intensive Course - MindX</center>\n",
        "![](./assets/logo.png)\n",
        "# <center>KIỂM TRA GIỮA KHÓA</center>"
      ]
    },
    {
      "cell_type": "markdown",
      "metadata": {
        "id": "2p6Z0ZWXnCr3"
      },
      "source": [
        "**Hướng dẫn làm bài**:\n",
        "- Dùng kiến thức đã học để cài đặt các thuật toán giải quyết yêu cầu đề bài.\n",
        "- Nộp đáp án của mỗi bài dưới dạng function. Giữ nguyên tên và parameter được cho sẵn. Trả về kết quả bằng lệnh <code>return</code>, không dùng <code>print()</code> trong bài nộp.\n",
        "- Không <code>import</code> thư viện. Chỉ dùng các cấu trúc dữ liệu và hàm cho sẵn trong Python.\n",
        "  + Hợp lệ: <code>arr = list([1, 2, 3])</code>, <code>sorted_arr = sorted(arr)</code>, <code>index = arr.index(2)</code>\n",
        "  + Không hợp lệ: <code>import numpy</code>, <code>math.sqrt(9)</code> \n",
        "- Đáp án phải được tìm bằng thuật toán, không dùng kết quả ngẫu nhiên.\n",
        "- Có thể sử dụng hàm <code>help()</code> để xem thông tin về các cấu trúc dữ liệu và hàm. Ví dụ: <code>help(sorted)</code>\n",
        "\n",
        "**Đánh giá điểm**:\n",
        "- Mỗi bài được chạy trên 10 test cases với kích thước input tăng dần.  \n",
        "  Bài nộp được chấp nhận trên một test case nếu trả về đúng kết quả trong thời gian tối đa **1 giây**.\n",
        "- Có tổng cộng 60 test cases cho 6 bài, mỗi test case 2 điểm. Điểm cao nhất có thể đạt được là **120 điểm**.\n",
        "\n",
        "**Nộp bài**:\n",
        "- Chạy đoạn test cho sẵn để kiểm tra bài nộp hợp lệ.\n",
        "- Định dạng tên file: <code>FullName-CSIMidtermTest.ipynb</code>\n",
        "\n",
        "**Chúc các bạn thành công!**"
      ]
    },
    {
      "cell_type": "markdown",
      "metadata": {
        "id": "WSorGSz_nCr4"
      },
      "source": [
        "## Bài 1. Tìm Mode\n",
        "\n",
        "Mode của một tập hợp được định nghĩa là phần tử xuất hiện lặp lại nhiều lần nhất trong tập hợp đó. Một tập hợp có thể:\n",
        "- Không có mode vì không có phần tử nào lặp lại. Ví dụ: <code>[1, 2, 3, 4]</code>\n",
        "- Có một mode. Ví dụ: <code>[1, 2, 2, 2, 3, 3]</code> có mode là <code>2</code>\n",
        "- Có nhiều mode. Ví dụ: <code>[1, 2, 1, 2, 3]</code> có mode là <code>1</code> và <code>2</code>\n",
        "\n",
        "**Yêu cầu**: Cho một danh sách các số nguyên, tìm mode có giá trị lớn nhất trong danh sách.\n",
        "\n",
        "**Input**: Một <code>list</code> chứa *0 < n < 10<sup>6</sup>* số nguyên. Mỗi phần tử có giá trị trong khoảng [-10<sup>9</sup>, 10<sup>9</sup>].  \n",
        "**Output**: Một số nguyên duy nhất là mode có giá trị lớn nhất trong danh sách. Trả về <code>None</code> nếu không tìm thấy.  \n",
        "**Ví dụ**:\n",
        "- Input: <code>[1, 2, 3, 2, 3]</code>\n",
        "- Output: <code>3</code>\n",
        "- Giải thích: Danh sách có hai mode là <code>2</code> và <code>3</code>. Ta trả về mode lớn nhất là <code>3</code>"
      ]
    },
    {
      "cell_type": "code",
      "execution_count": null,
      "metadata": {
        "id": "baCDSCU-nCr5"
      },
      "outputs": [],
      "source": [
        "def find_mode(arr):\n",
        "    counts = {}\n",
        "    for i in arr:\n",
        "        if i in counts:\n",
        "            counts[i] += 1\n",
        "        else:\n",
        "            counts[i] = 1\n",
        "    mode_arr = [i for i in counts.keys() if counts[i] == max(counts.values())]\n",
        "    return max(mode_arr)"
      ]
    },
    {
      "cell_type": "code",
      "execution_count": null,
      "metadata": {
        "colab": {
          "base_uri": "https://localhost:8080/"
        },
        "id": "MqJ9MoV3nCr6",
        "outputId": "4dc3af54-c266-49ee-d8dd-de18d48350f5"
      },
      "outputs": [
        {
          "name": "stdout",
          "output_type": "stream",
          "text": [
            "Correct answer on sample test!\n"
          ]
        }
      ],
      "source": [
        "# test before submission\n",
        "try:\n",
        "    assert(find_mode([1, 2, 3, 2, 3]) == 3)\n",
        "    print('Correct answer on sample test!')\n",
        "except:\n",
        "    print('Invalid submission or Wrong answer!')"
      ]
    },
    {
      "cell_type": "markdown",
      "metadata": {
        "id": "CWvP07hbnCr7"
      },
      "source": [
        "## Bài 2. Mua Kem\n",
        "\n",
        "Thủy và An được cho <code>m</code> đồng để mua kem. Quầy kem có <code>n</code> loại kem với mệnh giá không trùng nhau.\n",
        "\n",
        "**Yêu cầu**: Hãy giúp Thủy và An dùng hết <code>m</code> đồng để mua 2 cây kem khác loại.\n",
        "\n",
        "**Input**: Một số nguyên *0 < m < 10<sup>9</sup>* và <code>list</code> chứa *0 < n < 10<sup>5</sup>* mệnh giá số nguyên, mỗi mệnh giá nằm trong khoảng [1, 10<sup>9</sup>].  \n",
        "**Output**: Hai số nguyên là index của hai loại kem, index nhỏ hơn đứng trước. Test cases đảm bảo tồn tại ít nhất một đáp án.  \n",
        "**Ví dụ**:\n",
        "- Input: <code>4</code>, <code>[1, 4, 5, 3, 2]</code>\n",
        "- Output: <code>0, 3</code>\n",
        "- Giải thích: Các mệnh giá tại index 0 và 3 là <code>1, 3</code>, với <code>m = 4 = 1 + 3</code>"
      ]
    },
    {
      "cell_type": "code",
      "execution_count": null,
      "metadata": {
        "id": "ySxhmUnmnCr8"
      },
      "outputs": [],
      "source": [
        "def buy_icecream(budget, prices):\n",
        "    counts ={}\n",
        "    for i, num in enumerate(prices):\n",
        "        if budget - num in counts:\n",
        "            return [counts[budget - num], i]\n",
        "        counts[num] = i"
      ]
    },
    {
      "cell_type": "code",
      "execution_count": null,
      "metadata": {
        "colab": {
          "base_uri": "https://localhost:8080/"
        },
        "id": "iHdvCUe2nCr9",
        "outputId": "5e7ce649-2aa9-48b5-e077-cbf433f7ae6f"
      },
      "outputs": [
        {
          "name": "stdout",
          "output_type": "stream",
          "text": [
            "Correct answer on sample test!\n"
          ]
        }
      ],
      "source": [
        "# test before submission\n",
        "try:\n",
        "    index1, index2 = buy_icecream(4, [1, 4, 5, 3, 2])\n",
        "    assert(index1 == 0 and index2 == 3)\n",
        "    print('Correct answer on sample test!')\n",
        "except:\n",
        "    print('Invalid submission or Wrong answer!')"
      ]
    },
    {
      "cell_type": "markdown",
      "metadata": {
        "id": "qNCBnDjOnCr9"
      },
      "source": [
        "## Bài 3. Tìm Tổng\n",
        "\n",
        "Dãy con liên tục là một dãy các phần tử liên tiếp nhau của một dãy nào đó. Một dãy con liên tục có độ dài nhỏ nhất bằng một và độ dài lớn nhất bằng dãy chứa nó.\n",
        "\n",
        "**Yêu cầu**: Cho một dãy các số nguyên, kiểm tra có tồn tại dãy con liên tục có tổng các phần tử bằng một giá trị cho trước hay không.\n",
        "\n",
        "**Input**: Một số nguyên *0 < k < 10<sup>9</sup>* và một <code>list</code> chứa *0 < n < 10<sup>5</sup>* số nguyên. Mỗi phần tử có giá trị trong khoảng [1, 10<sup>5</sup>].  \n",
        "**Output**: Trả về <code>True</code> nếu tồn tại một dãy con liên tục có tổng các phần tử bằng <code>k</code>. Ngược lại trả về <code>False</code>.  \n",
        "**Ví dụ**:  \n",
        "\n",
        "Ví dụ 1:\n",
        "- Input: <code>8, [1, 5, 3, 2, 5]</code>\n",
        "- Output: <code>True</code>\n",
        "- Giải thích: Tồn tại một dãy con liên tục là <code>[5, 3]</code> có tổng bằng <code>8</code>.\n",
        "\n",
        "Ví dụ 2:\n",
        "- Input: <code>5, [1, 5, 3, 2, 5]</code>\n",
        "- Output: <code>True</code>\n",
        "- Giải thích: Tồn tại ba dãy con liên tục là <code>[5]</code>, <code>[3, 2]</code> và <code>[5]</code> có tổng bằng <code>5</code>."
      ]
    },
    {
      "cell_type": "code",
      "execution_count": 91,
      "metadata": {
        "id": "rBWAOZZ7nCr-"
      },
      "outputs": [],
      "source": [
        "def has_sequence_with_sum(target_sum, arr):\n",
        "    for i in range(len(arr) - 1, -1, -1) :\n",
        "        if (target_sum >= arr[i]) :\n",
        "            target_sum -= arr[i];\n",
        "    if (target_sum != 0) :\n",
        "        return False;\n",
        "    else :\n",
        "        return True;\n",
        "    \n",
        "      "
      ]
    },
    {
      "cell_type": "code",
      "execution_count": 92,
      "metadata": {
        "colab": {
          "base_uri": "https://localhost:8080/"
        },
        "id": "XKmFOF4vnCr-",
        "outputId": "b510d3bd-76ff-4473-ae4d-82c2e95d4eeb"
      },
      "outputs": [
        {
          "name": "stdout",
          "output_type": "stream",
          "text": [
            "Correct answer on sample test!\n"
          ]
        }
      ],
      "source": [
        "# test before submission\n",
        "try:\n",
        "    assert(has_sequence_with_sum(8, [1, 5, 3, 2, 5]) == True)\n",
        "    print('Correct answer on sample test!')\n",
        "except:\n",
        "    print('Invalid submission or Wrong answer!')"
      ]
    },
    {
      "cell_type": "markdown",
      "metadata": {
        "id": "iNQ_r2hvnCr-"
      },
      "source": [
        "## Bài 4. Đổi Chỗ\n",
        "\n",
        "Trong các thuật toán đã học, ta thường đổi chỗ các phần tử trong quá trình sắp xếp để đưa chúng về vị trí thích hợp. Một bước đổi chỗ *(swap)* được định nghĩa là quá trình hoán đổi vị trí giữa hai phần tử khác nhau trong dãy.  \n",
        "\n",
        "Ví dụ ta có mảng <code>arr = [2, 5, 3, 1]</code>, một bước đổi chỗ thực hiện trên hai phần tử <code>arr[1]</code> và <code>arr[3]</code> sẽ biến mảng <code>arr</code> thành <code>[2, 1, 3, 5]</code>.\n",
        "\n",
        "**Yêu cầu**: Cho một dãy các số nguyên không trùng nhau, hãy tìm số lần đổi chỗ ít nhất để đưa dãy về trạng thái đã sắp xếp theo thứ tự tăng dần.\n",
        "\n",
        "**Input**: Một <code>list</code> chứa *0 < n < 10<sup>5</sup>* số nguyên. Mỗi phần tử có giá trị trong khoảng [-10<sup>9</sup>, 10<sup>9</sup>].  \n",
        "**Output**: Trả về một số nguyên là số lần đổi chỗ ít nhất để đưa dãy về trạng thái đã sắp xếp tăng dần.  \n",
        "**Ví dụ**:  \n",
        "\n",
        "Ví dụ 1:\n",
        "- Input: <code>[2, 5, 3, 1]</code>\n",
        "- Output: <code>2</code>\n",
        "- Giải thích: Ta thực hiện hai bước đổi chỗ như sau:\n",
        "  <pre>\n",
        "  swap(0, 3) => arr = [1, 5, 3, 2]\n",
        "  swap(1, 3) => arr = [1, 2, 3, 5]\n",
        "  </pre>\n",
        " \n",
        "Ví dụ 2:\n",
        "- Input: <code>[5, 2, 3, 1]</code>\n",
        "- Output: <code>1</code>\n",
        "- Giải thích: Ta thực hiện 1 bước đổi chỗ cho phần tử đầu và phần tử cuối."
      ]
    },
    {
      "cell_type": "code",
      "execution_count": null,
      "metadata": {
        "id": "2muNSHG8nCr_"
      },
      "outputs": [],
      "source": [
        "def count_swap(arr):\n",
        "    swaps = 0\n",
        "    sorted_arr = sorted(arr)\n",
        "\n",
        "    for i in range(len(arr)):\n",
        "        if arr[i] != sorted_arr[i]:\n",
        "            current_idx = arr.index(sorted_arr[i], i + 1)\n",
        "\n",
        "            arr[i], arr[current_idx] = arr[current_idx], arr[i]\n",
        "            swaps += 1\n",
        "            \n",
        "    return swaps\n",
        "\n",
        "# bài này toàn lỗi out of index vậy trời"
      ]
    },
    {
      "cell_type": "code",
      "execution_count": null,
      "metadata": {
        "colab": {
          "base_uri": "https://localhost:8080/"
        },
        "id": "UpEmepKAuDZm",
        "outputId": "1da84c47-2afa-4637-8fc6-1e395409c6bf"
      },
      "outputs": [
        {
          "data": {
            "text/plain": [
              "2"
            ]
          },
          "execution_count": 57,
          "metadata": {},
          "output_type": "execute_result"
        }
      ],
      "source": [
        "arr = [2,5,3,1]\n",
        "count_swap(arr)"
      ]
    },
    {
      "cell_type": "code",
      "execution_count": null,
      "metadata": {
        "colab": {
          "base_uri": "https://localhost:8080/"
        },
        "id": "MLrCUPxKnCr_",
        "outputId": "d46fdb87-d790-4400-bd4e-8d1cf009318f"
      },
      "outputs": [
        {
          "name": "stdout",
          "output_type": "stream",
          "text": [
            "Correct answer on sample test!\n"
          ]
        }
      ],
      "source": [
        "# test before submission\n",
        "try:\n",
        "    assert(count_swap([2, 5, 3, 1]) == 2)\n",
        "    print('Correct answer on sample test!')\n",
        "except:\n",
        "    print('Invalid submission or Wrong answer!')"
      ]
    },
    {
      "cell_type": "markdown",
      "metadata": {
        "id": "7S7T5hErnCr_"
      },
      "source": [
        "## Bài 5. Tìm Từ\n",
        "\n",
        "Cho một đoạn văn gồm nhiều từ và dấu câu, mỗi từ trong đoạn văn cách nhau bằng ít nhất một dấu cách.  \n",
        "\n",
        "**Yêu cầu**: Tìm các từ xuất hiện đúng <code>k</code> lần trong đoạn văn.  \n",
        "\n",
        "**Input**: Một số nguyên *0 < k < 10<sup>6</sup>* và một đoạn văn dưới dạng <code>str</code> với độ dài < 10<sup>6</sup> ký tự.  \n",
        "**Output**: Một <code>str</code> chứa các từ xuất hiện đúng <code>k</code> lần trong đoạn văn, mỗi từ cách nhau bằng một dấu cách, sắp xếp theo thứ tự bảng chữ cái. Định dạng các từ theo dạng viết thường (lowercase). Trả về <code>str</code> rỗng (<code>\"\"</code>) nếu không tìm thấy.  \n",
        "**Ví dụ**:\n",
        "- Input: <code>2</code>, <code>\"The cat is chasing the rat. The dog is also chasing the rat.\"</code>\n",
        "- Output: <code>\"chasing is rat\"</code>\n",
        "- Giải thích: Mỗi từ trong output xuất hiện đúng 2 lần trong đoạn văn."
      ]
    },
    {
      "cell_type": "code",
      "execution_count": 83,
      "metadata": {
        "id": "7UEOCoDnnCsA"
      },
      "outputs": [],
      "source": [
        "def find_word(frequency, inp_str):\n",
        "    new_str = inp_str.lower().split(' ')\n",
        "    result = \"\"\n",
        "    count={}\n",
        "    for i in new_str:\n",
        "      if i in count:\n",
        "          count[i] +=1\n",
        "      else:\n",
        "        count[i] = 1\n",
        "    \n",
        "    for key, val in count.items():\n",
        "        if val == frequency:\n",
        "            result += key + ' '\n",
        "    return result[:-2]"
      ]
    },
    {
      "cell_type": "code",
      "execution_count": 85,
      "metadata": {
        "colab": {
          "base_uri": "https://localhost:8080/",
          "height": 36
        },
        "id": "1K_Y3Oz8z59x",
        "outputId": "673ec682-ea6c-43b8-af96-9d7e408bc30e"
      },
      "outputs": [
        {
          "data": {
            "application/vnd.google.colaboratory.intrinsic+json": {
              "type": "string"
            },
            "text/plain": [
              "'is chasing rat'"
            ]
          },
          "execution_count": 85,
          "metadata": {},
          "output_type": "execute_result"
        }
      ],
      "source": [
        "string = \"The cat is chasing the rat. The dog is also chasing the rat.\"\n",
        "find_word(2,string)"
      ]
    },
    {
      "cell_type": "code",
      "execution_count": 84,
      "metadata": {
        "colab": {
          "base_uri": "https://localhost:8080/"
        },
        "id": "qCefmEY9nCsA",
        "outputId": "da0776ad-8acf-4362-d19e-afbc92920848"
      },
      "outputs": [
        {
          "name": "stdout",
          "output_type": "stream",
          "text": [
            "Correct answer on sample test!\n"
          ]
        }
      ],
      "source": [
        "# test before submission\n",
        "try:\n",
        "    assert(find_word(2, \"The cat is chasing the rat. The dog is also chasing the rat.\") == \"is chasing rat\")\n",
        "    print('Correct answer on sample test!')\n",
        "except:\n",
        "    print('Invalid submission or Wrong answer!')"
      ]
    },
    {
      "cell_type": "markdown",
      "metadata": {
        "id": "_375yHmBnCsB"
      },
      "source": [
        "## Bài 6. Khoảng Cách Ngắn Nhất\n",
        "\n",
        "Ta định nghĩa khoảng cách giữa hai số *a* và *b* là giá trị tuyệt đối của hiệu hai số: *distance(a, b) = |b - a|*.\n",
        "\n",
        "**Yêu cầu**: Cho một dãy các số nguyên, tìm khoảng cách ngắn nhất giữa hai phần tử trong dãy số.\n",
        "\n",
        "**Input**: Một <code>list</code> chứa *1 < n < 10<sup>5</sup>* số nguyên. Mỗi phần tử có giá trị trong khoảng [-10<sup>9</sup>, 10<sup>9</sup>].  \n",
        "**Output**: Trả về một số nguyên duy nhất là khoảng cách ngắn nhất giữa hai phần tử.  \n",
        "**Ví dụ**:  \n",
        "\n",
        "Ví dụ 1:\n",
        "- Input: <code>[1, 5, 3, 2]</code>\n",
        "- Output: <code>1</code>\n",
        "- Giải thích: Các cặp phần tử <code>(1, 2)</code> và <code>(3, 2)</code> có khoảng cách là <code>1</code> và là khoảng cách ngắn nhất.\n",
        "\n",
        "Ví dụ 2:\n",
        "- Input: <code>[1, 5, 3, 2, 5]</code>\n",
        "- Output: <code>0</code>\n",
        "- Giải thích: Cặp phần tử <code>(5, 5)</code> có khoảng cách là <code>0</code> và là khoảng cách ngắn nhất."
      ]
    },
    {
      "cell_type": "code",
      "execution_count": 86,
      "metadata": {
        "id": "0ZoMd7KanCsB"
      },
      "outputs": [],
      "source": [
        "def find_closest_distance(arr):\n",
        "    arr = sorted(arr)\n",
        "    lenght = len(arr)\n",
        "    diff = 10**20\n",
        "    for i in range(lenght-1):\n",
        "        if arr[i+1] - arr[i] < diff:\n",
        "            diff = arr[i+1] - arr[i]\n",
        "\n",
        "    return diff"
      ]
    },
    {
      "cell_type": "code",
      "execution_count": 87,
      "metadata": {
        "colab": {
          "base_uri": "https://localhost:8080/"
        },
        "id": "ggVb3ZZGnCsC",
        "outputId": "01b4e4b2-7188-4bf7-9ce2-66675a68b1aa"
      },
      "outputs": [
        {
          "name": "stdout",
          "output_type": "stream",
          "text": [
            "Correct answer on sample test!\n"
          ]
        }
      ],
      "source": [
        "# test before submission\n",
        "try:\n",
        "    assert(find_closest_distance([1, 5, 3, 2]) == 1)\n",
        "    print('Correct answer on sample test!')\n",
        "except:\n",
        "    print('Invalid submission or Wrong answer!')"
      ]
    },
    {
      "cell_type": "markdown",
      "metadata": {
        "id": "42b9zjt7nCsC"
      },
      "source": [
        "# END"
      ]
    }
  ],
  "metadata": {
    "colab": {
      "name": "TranKhanhThanh-MidtermTest.ipynb",
      "provenance": []
    },
    "kernelspec": {
      "display_name": "Python 3.10.4 64-bit (windows store)",
      "language": "python",
      "name": "python3"
    },
    "language_info": {
      "codemirror_mode": {
        "name": "ipython",
        "version": 3
      },
      "file_extension": ".py",
      "mimetype": "text/x-python",
      "name": "python",
      "nbconvert_exporter": "python",
      "pygments_lexer": "ipython3",
      "version": "3.10.4"
    },
    "vscode": {
      "interpreter": {
        "hash": "03ee9ebc61fb24b4d29b1ef01f2ca513d3106518665cb0b5c92a24a88b5dc21d"
      }
    }
  },
  "nbformat": 4,
  "nbformat_minor": 0
}
