{
 "cells": [
  {
   "cell_type": "code",
   "execution_count": 2,
   "metadata": {},
   "outputs": [
    {
     "name": "stdout",
     "output_type": "stream",
     "text": [
      "['TH Icecream']\n"
     ]
    }
   ],
   "source": [
    "lst = [{\"id\": 354, \"name\": \"Vinamilk Icecream\", \"price\": 35000}, {\"id\": 355, \"name\": \"TH Icecream\", \"price\": 20000}]\n",
    "\n",
    "def find(list,price):\n",
    "    lst = {}\n",
    "    for i in list:\n",
    "        if i['price'] not in lst:\n",
    "            lst[i['price']] = [i['name']]\n",
    "        else:\n",
    "            lst[i['price']].append(i['name'])    \n",
    "\n",
    "    if price in lst:\n",
    "        return lst[price]\n",
    "    else:\n",
    "        return \"Not found\"\n",
    "print(find(lst,20000))"
   ]
  }
 ],
 "metadata": {
  "kernelspec": {
   "display_name": "Python 3.10.4 64-bit (windows store)",
   "language": "python",
   "name": "python3"
  },
  "language_info": {
   "codemirror_mode": {
    "name": "ipython",
    "version": 3
   },
   "file_extension": ".py",
   "mimetype": "text/x-python",
   "name": "python",
   "nbconvert_exporter": "python",
   "pygments_lexer": "ipython3",
   "version": "3.10.4"
  },
  "orig_nbformat": 4,
  "vscode": {
   "interpreter": {
    "hash": "03ee9ebc61fb24b4d29b1ef01f2ca513d3106518665cb0b5c92a24a88b5dc21d"
   }
  }
 },
 "nbformat": 4,
 "nbformat_minor": 2
}
