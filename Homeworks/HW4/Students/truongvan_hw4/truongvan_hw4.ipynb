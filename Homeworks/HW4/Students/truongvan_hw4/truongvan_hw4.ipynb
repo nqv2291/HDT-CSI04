{
 "cells": [
  {
   "cell_type": "markdown",
   "metadata": {},
   "source": [
    "## <center>Computer Science Intensive Course - MindX</center>\n",
    "![](./assets/logo.png)\n",
    "# <center>HOMEWORK 4. THUẬT TOÁN TÌM KIẾM</center>"
   ]
  },
  {
   "cell_type": "markdown",
   "metadata": {},
   "source": [
    "## Bài Tập: Tìm Hàng\n",
    "\n",
    "Một siêu thị lưu danh sách các mặt hàng dưới dạng *list*, mỗi mặt hàng là một *dictionary* như sau:  \n",
    "&nbsp;&nbsp;&nbsp;{\"id\": 354, \"name\": \"Vinamilk Icecream\", \"price\": 35000}  \n",
    "\n",
    "Cho danh sách mặt hàng đã được sắp xếp theo giá từ lớn đến nhỏ, hãy tìm tất cả mặt hàng có giá tiền *p* được nhập.  \n",
    "\n",
    "**Input**: Danh sách các mặt hàng và giá tiền *p* cần tìm.  \n",
    "**Output**: Danh sách các mặt hàng có giá tiền *p*, hoặc \"Not found\".  \n",
    "**Ví dụ**:  \n",
    "- Input: *sample_input_list*, p = 20000\n",
    "- Output: *sample_output_list*"
   ]
  },
  {
   "cell_type": "code",
   "execution_count": 15,
   "metadata": {},
   "outputs": [],
   "source": [
    "def print_product(list_products, price):\n",
    "    result  = \" \"\n",
    "    for i in range(len(list_products)):\n",
    "        if list_products[i][\"price\"] == price:\n",
    "            result += str(list_products[i]) \n",
    "        elif list_products[i][\"price\"] < price and result == \" \":\n",
    "            result = \"Not found\"\n",
    "            break        \n",
    "    return result\n",
    "list_products = [\n",
    "    {\"id\": 1, \"name\":\"bánh báo thịt\", \"price\": 67000},\n",
    "    {\"id\": 3, \"name\": \"chả rễ\", \"price\" :40000},\n",
    "    {\"id\": 45, \"name\": \"bánh mì ô mai\", \"price\": 40000},\n",
    "    {\"id\": 234, \"name\": \"dâu tây loại 3\", \"price\": 35000},\n",
    "    {\"id\": 43, \"name\": \"cheery\", \"price\": 20000}\n",
    "]\n"
   ]
  },
  {
   "cell_type": "code",
   "execution_count": 16,
   "metadata": {},
   "outputs": [
    {
     "data": {
      "text/plain": [
       "\" {'id': 3, 'name': 'chả rễ', 'price': 40000}\\n{'id': 45, 'name': 'bánh mì ô mai', 'price': 40000}\\n\""
      ]
     },
     "execution_count": 16,
     "metadata": {},
     "output_type": "execute_result"
    }
   ],
   "source": [
    "print_product(list_products, 40000)"
   ]
  }
 ],
 "metadata": {
  "kernelspec": {
   "display_name": "Python 3.9.12 ('base')",
   "language": "python",
   "name": "python3"
  },
  "language_info": {
   "codemirror_mode": {
    "name": "ipython",
    "version": 3
   },
   "file_extension": ".py",
   "mimetype": "text/x-python",
   "name": "python",
   "nbconvert_exporter": "python",
   "pygments_lexer": "ipython3",
   "version": "3.9.12"
  },
  "vscode": {
   "interpreter": {
    "hash": "2043299c89c8cd0b4d1a6f5cf4529bd58e6a4e0fe3181a25e0d328c821cdc5c5"
   }
  }
 },
 "nbformat": 4,
 "nbformat_minor": 4
}
