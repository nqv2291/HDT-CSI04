{
 "cells": [
  {
   "cell_type": "markdown",
   "metadata": {},
   "source": [
    "## <center>Computer Science Intensive Course - MindX</center>\n",
    "![](./assets/logo.png)\n",
    "# <center>HOMEWORK 4. THUẬT TOÁN TÌM KIẾM</center>"
   ]
  },
  {
   "cell_type": "markdown",
   "metadata": {},
   "source": [
    "## Bài Tập: Tìm Hàng\n",
    "\n",
    "Một siêu thị lưu danh sách các mặt hàng dưới dạng *list*, mỗi mặt hàng là một *dictionary* như sau:  \n",
    "&nbsp;&nbsp;&nbsp;{\"id\": 354, \"name\": \"Vinamilk Icecream\", \"price\": 35000}  \n",
    "\n",
    "Cho danh sách mặt hàng đã được sắp xếp theo giá từ lớn đến nhỏ, hãy tìm tất cả mặt hàng có giá tiền *p* được nhập.  \n",
    "\n",
    "**Input**: Danh sách các mặt hàng và giá tiền *p* cần tìm.  \n",
    "**Output**: Danh sách các mặt hàng có giá tiền *p*, hoặc \"Not found\".  \n",
    "**Ví dụ**:  \n",
    "- Input: *sample_input_list*, p = 20000\n",
    "- Output: *sample_output_list*"
   ]
  },
  {
   "cell_type": "code",
   "execution_count": null,
   "metadata": {},
   "outputs": [],
   "source": [
    "def timhang(ds,giatien):\n",
    "    result = []\n",
    "    for i,sp in enumerate(ds):\n",
    "        if sp['price'] == giatien:\n",
    "            result.append(sp)\n",
    "    \n",
    "    if len(result) == 0:\n",
    "        return \"Not found\"\n",
    "    else:\n",
    "        return result        \n",
    "\n",
    "\n",
    "list1 = [\n",
    "    {\"id\": 54, \"name\": \"Cookies\", \"price\": 15000},\n",
    "    {\"id\": 23, \"name\": \"Snacks\", \"price\": 30000},\n",
    "    {\"id\": 354, \"name\": \"Vinamilk Icecream\", \"price\": 35000},\n",
    "    {\"id\": 77, \"name\": \"Chocolate\", \"price\": 35000},\n",
    "    {\"id\": 1, \"name\": \"Meat\", \"price\": 50000}\n",
    "]    "
   ]
  }
 ],
 "metadata": {
  "kernelspec": {
   "display_name": "Python 3.10.1 64-bit",
   "language": "python",
   "name": "python3"
  },
  "language_info": {
   "codemirror_mode": {
    "name": "ipython",
    "version": 3
   },
   "file_extension": ".py",
   "mimetype": "text/x-python",
   "name": "python",
   "nbconvert_exporter": "python",
   "pygments_lexer": "ipython3",
   "version": "3.10.1"
  },
  "vscode": {
   "interpreter": {
    "hash": "1d0df3a001fc651470c855a5f152c71fa21be151a45d55dedf9376bb83f3db8f"
   }
  }
 },
 "nbformat": 4,
 "nbformat_minor": 4
}
