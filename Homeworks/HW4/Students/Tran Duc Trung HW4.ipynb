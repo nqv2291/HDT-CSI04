{
 "cells": [
  {
   "cell_type": "markdown",
   "metadata": {},
   "source": [
    "## <center>Computer Science Intensive Course - MindX</center>\n",
    "![](./assets/logo.png)\n",
    "# <center>HOMEWORK 4. THUẬT TOÁN TÌM KIẾM</center>"
   ]
  },
  {
   "cell_type": "markdown",
   "metadata": {},
   "source": [
    "## Bài Tập: Tìm Hàng\n",
    "\n",
    "Một siêu thị lưu danh sách các mặt hàng dưới dạng *list*, mỗi mặt hàng là một *dictionary* như sau:  \n",
    "&nbsp;&nbsp;&nbsp;{\"id\": 354, \"name\": \"Vinamilk Icecream\", \"price\": 35000}  \n",
    "\n",
    "Cho danh sách mặt hàng đã được sắp xếp theo giá từ lớn đến nhỏ, hãy tìm tất cả mặt hàng có giá tiền *p* được nhập.  \n",
    "\n",
    "**Input**: Danh sách các mặt hàng và giá tiền *p* cần tìm.  \n",
    "**Output**: Danh sách các mặt hàng có giá tiền *p*, hoặc \"Not found\".  \n",
    "**Ví dụ**:  \n",
    "- Input: *sample_input_list*, p = 20000\n",
    "- Output: *sample_output_list*"
   ]
  },
  {
   "cell_type": "code",
   "execution_count": 10,
   "metadata": {},
   "outputs": [
    {
     "name": "stdout",
     "output_type": "stream",
     "text": [
      "['Chicken thigh']\n"
     ]
    }
   ],
   "source": [
    "def find_item(list,price):\n",
    "    list_of_item = {}\n",
    "    for i in list:\n",
    "        if i['price'] not in list_of_item:\n",
    "            list_of_item[i['price']] = [i['name']]\n",
    "        else:\n",
    "            list_of_item[i['price']].append(i['name'])    \n",
    "\n",
    "    # return list_of_item[price] if price in data else 'Not Found'\n",
    "    if price in list_of_item:\n",
    "        return list_of_item[price]\n",
    "    else:\n",
    "        return \"Not found\"\n",
    "\n",
    "\n",
    "list = [\n",
    "    {\"id\": 54, \"name\": \"Cookies\", \"price\": 20000},\n",
    "    {\"id\": 23, \"name\": \"Pop rocks\", \"price\": 10000},\n",
    "    {\"id\": 354, \"name\": \"Vinamilk Icecream\", \"price\": 35000},\n",
    "    {\"id\": 77, \"name\": \"Milkshake\", \"price\": 30000},\n",
    "    {\"id\": 1, \"name\": \"Chicken thigh\", \"price\": 50000}\n",
    "]    \n",
    "print(find_item(list,50000))s"
   ]
  }
 ],
 "metadata": {
  "kernelspec": {
   "display_name": "Python 3.9.7 64-bit",
   "language": "python",
   "name": "python3"
  },
  "language_info": {
   "codemirror_mode": {
    "name": "ipython",
    "version": 3
   },
   "file_extension": ".py",
   "mimetype": "text/x-python",
   "name": "python",
   "nbconvert_exporter": "python",
   "pygments_lexer": "ipython3",
   "version": "3.9.7"
  },
  "vscode": {
   "interpreter": {
    "hash": "11938c6bc6919ae2720b4d5011047913343b08a43b18698fd82dedb0d4417594"
   }
  }
 },
 "nbformat": 4,
 "nbformat_minor": 4
}
