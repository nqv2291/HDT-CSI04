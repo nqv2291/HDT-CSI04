{
 "cells": [
  {
   "cell_type": "markdown",
   "metadata": {},
   "source": [
    "## <center>Computer Science Intensive Course - MindX</center>\n",
    "![](./assets/logo.png)\n",
    "# <center>Test Cases 1. HOMEWORK 1</center>\n",
    "<div style=\"text-align: right\"> Test cases created by Trần Minh Dương </div>"
   ]
  },
  {
   "cell_type": "code",
   "execution_count": 37,
   "metadata": {},
   "outputs": [],
   "source": [
    "def test(cases, test_func, condition_func):\n",
    "    \n",
    "    n = len(cases)\n",
    "    print(\"Testing on {} cases.\".format(n))\n",
    "    \n",
    "    count = 0\n",
    "    for i, case in enumerate(cases):\n",
    "        try:\n",
    "            passed = condition_func(test_func, case)\n",
    "            if passed:\n",
    "                print(\"- Test {} PASSED.\".format(i+1))\n",
    "                count += 1\n",
    "            else:\n",
    "                print(\"- Test {} FAILED: Wrong Answer.\".format(i+1))\n",
    "        except Exception as ex:\n",
    "            print(\"An exception occured at test {}: {}.\".format(i+1, ex))\n",
    "            \n",
    "    if count == n:\n",
    "        print(\"CONGRATULATIONS! All test cases passed!\")\n",
    "    else:\n",
    "        print(\"Some test failed. Maybe check some code?\")"
   ]
  },
  {
   "cell_type": "markdown",
   "metadata": {},
   "source": [
    "## Bài 1. Họ và tên"
   ]
  },
  {
   "cell_type": "code",
   "execution_count": null,
   "metadata": {},
   "outputs": [],
   "source": [
    "def test1(func):\n",
    "    \n",
    "    test_cases = [\n",
    "        {\"inp\": ['Dương','Minh','Trần'], \"out\": \"Trần Minh Dương\"},\n",
    "        {\"inp\": ['Việt','Quang','Ngô'], \"out\": \"Ngô Quang Việt\"},\n",
    "        {\"inp\": ['Trung','Đức','Trần'], \"out\": \"Trần Đức Trung\"},\n",
    "        {\"inp\": ['Vân','Thị','Trương'], \"out\": \"Trương Thị Vân\"},\n",
    "    ]\n",
    "    \n",
    "    def condition_func(func, case):\n",
    "        return func(case['inp'][0], case['inp'][1],case['inp'][2]) == case['out']\n",
    "    \n",
    "    test(test_cases, func, condition_func)"
   ]
  },
  {
   "cell_type": "markdown",
   "metadata": {},
   "source": [
    "## Bài 2. Số lớn thứ hai"
   ]
  },
  {
   "cell_type": "code",
   "execution_count": null,
   "metadata": {},
   "outputs": [],
   "source": [
    "def test2(func):\n",
    "    \n",
    "    test_cases = [\n",
    "        {\"inp\": [3,[1,2,3]], \"out\": 2},\n",
    "        {\"inp\": [4,[5,1,4,12]], \"out\": 5},\n",
    "        {\"inp\": [2,[10,10]], \"out\": \"Not found\"},\n",
    "    ]\n",
    "    \n",
    "    def condition_func(func, case):\n",
    "        return func(case['inp'][0],case['inp'][1]) == case['out']\n",
    "    \n",
    "    test(test_cases, func, condition_func)"
   ]
  },
  {
   "cell_type": "markdown",
   "metadata": {},
   "source": [
    "## Bài 3. Hình tứ giác\n",
    "Dương khum biết nàm test với Class như nào :')"
   ]
  },
  {
   "cell_type": "code",
   "execution_count": 46,
   "metadata": {},
   "outputs": [],
   "source": []
  },
  {
   "cell_type": "markdown",
   "metadata": {},
   "source": [
    "## Bài 4. Kiểm tra số nguyên\n"
   ]
  },
  {
   "cell_type": "code",
   "execution_count": null,
   "metadata": {},
   "outputs": [],
   "source": [
    "def test4(func):\n",
    "    \n",
    "    test_cases = [\n",
    "        {\"inp\": 2, \"out\": \"Integer\"},\n",
    "        {\"inp\": 3.14, \"out\": \"Not integer\"},\n",
    "        {\"inp\": 4, \"out\": \"Integer\"},\n",
    "        {\"inp\": 5, \"out\": \"Integer\"},\n",
    "        {\"inp\": -1.02, \"out\": \"Not integer\"},\n",
    "        {\"inp\": 111111, \"out\": \"Integer\"},\n",
    "    ]\n",
    "    \n",
    "    def condition_func(func, case):\n",
    "        return func(case['inp']) == case['out']\n",
    "    \n",
    "    test(test_cases, func, condition_func)"
   ]
  }
 ],
 "metadata": {
  "kernelspec": {
   "display_name": "Python 3",
   "language": "python",
   "name": "python3"
  },
  "language_info": {
   "codemirror_mode": {
    "name": "ipython",
    "version": 3
   },
   "file_extension": ".py",
   "mimetype": "text/x-python",
   "name": "python",
   "nbconvert_exporter": "python",
   "pygments_lexer": "ipython3",
   "version": "3.8.10"
  }
 },
 "nbformat": 4,
 "nbformat_minor": 4
}
