{
 "cells": [
  {
   "cell_type": "markdown",
   "metadata": {},
   "source": [
    "## <center>Computer Science Intensive Course - MindX</center>\n",
    "![](./assets/logo.png)\n",
    "# <center>HOMEWORK 9. STACK VÀ QUEUE</center>"
   ]
  },
  {
   "cell_type": "markdown",
   "metadata": {},
   "source": [
    "## Bài Tập: Tính Toán Trên Chuỗi.\n",
    "\n",
    "**Bài toán**: Cho một chuỗi ký tự bao gồm số nguyên dương và các toán tử hai ngôi <code>+ - * /</code>, hãy tính giá trị của biểu thức trong chuỗi.\n",
    "\n",
    "**Input**: Một biểu thức dưới dạng string, mỗi toán tử và toán hạng cách nhau bằng đúng một dấu cách.  \n",
    "**Output**: Một số thực là giá trị của biểu thức. Test case đảm bảo mọi biểu thức đều hợp lệ và có giá trị là số thực.  \n",
    "**Ví dụ**:\n",
    "- Input: \"2 * 3 - 20 / 5\"\n",
    "- Output: 2.0\n",
    "- Giải thích: <code>2*3 - 20/5 = 6 - 4 = 2</code>\n",
    "\n",
    "**Hướng dẫn**: Nếu không có khác biệt về độ ưu tiên của phép cộng, trừ và nhân, chia, ta có thể thực hiện tính toán tuần tự đơn giản từ trái sang phải. Tuy nhiên, do các phép tính có độ ưu tiên khác nhau, ta có thể thêm các bước xử lý để thực hiện đúng thứ tự:\n",
    "1. Duyệt biểu thức từ trái sang phải.\n",
    "2. Nếu gặp toán tử, thực hiện các toán tử nằm trước mà có độ ưu tiên cao hơn hoặc bằng toán tử đang xét.\n",
    "3. Cuối cùng, thực hiện tính toán trên các toán tử chưa xử lý theo thứ tự từ phải sang trái.\n",
    "\n",
    "Quá trình này sẽ thuận tiện hơn nếu ta tách chuỗi thành mảng các phần tử và lưu danh sách các toán hạng và toán tử đã duyệt.  \n",
    "\n",
    "**Ví dụ**: tính giá trị biểu thức <code>2 * 3 - 20 / 5</code>\n",
    "- Toán tử đầu tiên là <code>*</code>, không có toán tử nào trước nó, ta tạm thời bỏ qua.\n",
    "- Toán tử tiếp theo là <code>-</code>, có toán tử <code>*</code> trước nó với độ ưu tiên cao hơn => thực hiện phép nhân => biểu thức trở thành <code>6 - 20 / 5</code>\n",
    "- Toán tử tiếp theo là <code>/</code>, có toán tử <code>-</code> trước nó nhưng độ ưu tiên thấp hơn => bỏ qua.\n",
    "- Đã duyệt hết biểu thức, thực hiện tính toán theo thứ tự từ phải sang trái:\n",
    "  <code>6 - 20 / 5 = 6 - 4 = 2</code>"
   ]
  },
  {
   "cell_type": "code",
   "execution_count": 34,
   "metadata": {},
   "outputs": [
    {
     "ename": "TypeError",
     "evalue": "unsupported operand type(s) for -: 'str' and 'int'",
     "output_type": "error",
     "traceback": [
      "\u001b[1;31m---------------------------------------------------------------------------\u001b[0m",
      "\u001b[1;31mTypeError\u001b[0m                                 Traceback (most recent call last)",
      "\u001b[1;32md:\\HDT-CSI04\\Homeworks\\HW9\\Students\\thanh.ipynb Cell 3\u001b[0m in \u001b[0;36m<cell line: 30>\u001b[1;34m()\u001b[0m\n\u001b[0;32m     <a href='vscode-notebook-cell:/d%3A/HDT-CSI04/Homeworks/HW9/Students/thanh.ipynb#W2sZmlsZQ%3D%3D?line=26'>27</a>\u001b[0m     \u001b[39mprint\u001b[39m(\u001b[39msum\u001b[39m)\n\u001b[0;32m     <a href='vscode-notebook-cell:/d%3A/HDT-CSI04/Homeworks/HW9/Students/thanh.ipynb#W2sZmlsZQ%3D%3D?line=28'>29</a>\u001b[0m fix \u001b[39m=\u001b[39m \u001b[39m\"\u001b[39m\u001b[39m2 * 3 - 20 / 5\u001b[39m\u001b[39m\"\u001b[39m\n\u001b[1;32m---> <a href='vscode-notebook-cell:/d%3A/HDT-CSI04/Homeworks/HW9/Students/thanh.ipynb#W2sZmlsZQ%3D%3D?line=29'>30</a>\u001b[0m postfix(fix)\n",
      "\u001b[1;32md:\\HDT-CSI04\\Homeworks\\HW9\\Students\\thanh.ipynb Cell 3\u001b[0m in \u001b[0;36mpostfix\u001b[1;34m(inp)\u001b[0m\n\u001b[0;32m     <a href='vscode-notebook-cell:/d%3A/HDT-CSI04/Homeworks/HW9/Students/thanh.ipynb#W2sZmlsZQ%3D%3D?line=14'>15</a>\u001b[0m \u001b[39mfor\u001b[39;00m i \u001b[39min\u001b[39;00m a:\n\u001b[0;32m     <a href='vscode-notebook-cell:/d%3A/HDT-CSI04/Homeworks/HW9/Students/thanh.ipynb#W2sZmlsZQ%3D%3D?line=15'>16</a>\u001b[0m     \u001b[39mif\u001b[39;00m i \u001b[39m==\u001b[39m \u001b[39m\"\u001b[39m\u001b[39m*\u001b[39m\u001b[39m\"\u001b[39m:\n\u001b[0;32m     <a href='vscode-notebook-cell:/d%3A/HDT-CSI04/Homeworks/HW9/Students/thanh.ipynb#W2sZmlsZQ%3D%3D?line=16'>17</a>\u001b[0m         \u001b[39m# sum = int(inp[i-1]) * int(inp[i+1])\u001b[39;00m\n\u001b[1;32m---> <a href='vscode-notebook-cell:/d%3A/HDT-CSI04/Homeworks/HW9/Students/thanh.ipynb#W2sZmlsZQ%3D%3D?line=17'>18</a>\u001b[0m         \u001b[39mprint\u001b[39m(inp[\u001b[39mint\u001b[39m(i\u001b[39m-\u001b[39;49m\u001b[39m1\u001b[39;49m)])\n\u001b[0;32m     <a href='vscode-notebook-cell:/d%3A/HDT-CSI04/Homeworks/HW9/Students/thanh.ipynb#W2sZmlsZQ%3D%3D?line=18'>19</a>\u001b[0m     \u001b[39melif\u001b[39;00m i \u001b[39m==\u001b[39m \u001b[39m\"\u001b[39m\u001b[39m/\u001b[39m\u001b[39m\"\u001b[39m:\n\u001b[0;32m     <a href='vscode-notebook-cell:/d%3A/HDT-CSI04/Homeworks/HW9/Students/thanh.ipynb#W2sZmlsZQ%3D%3D?line=19'>20</a>\u001b[0m         \u001b[39m# sum = int(inp[i-1]) / int(inp[i+1])\u001b[39;00m\n\u001b[0;32m     <a href='vscode-notebook-cell:/d%3A/HDT-CSI04/Homeworks/HW9/Students/thanh.ipynb#W2sZmlsZQ%3D%3D?line=20'>21</a>\u001b[0m         \u001b[39mprint\u001b[39m(i)\n",
      "\u001b[1;31mTypeError\u001b[0m: unsupported operand type(s) for -: 'str' and 'int'"
     ]
    }
   ],
   "source": [
    "from collections import  deque\n",
    "def postfix(inp):\n",
    "    sum = 0\n",
    "    a = []\n",
    "    for i in inp:\n",
    "        if i != \" \":\n",
    "            a.append(i)\n",
    "    \n",
    "    # for i in range(len(inp)):\n",
    "    #     if inp[i].isnumeric():\n",
    "    #         stack.append(int(inp[i]))\n",
    "    #     else:\n",
    "    #         queue.append(inp[i])\n",
    "\n",
    "    for i in a:\n",
    "        if i == \"*\":\n",
    "            # sum = int(inp[i-1]) * int(inp[i+1])\n",
    "            print(inp[int(i-1)])\n",
    "        elif i == \"/\":\n",
    "            # sum = int(inp[i-1]) / int(inp[i+1])\n",
    "            print(i)\n",
    "        # elif i == \"+\" and inp[i-1].isnumeric and inp[i+1].isnumeric():\n",
    "        #     sum = int(inp[i-1]) + int(inp[i+1])\n",
    "        # elif i == \"-\" and inp[i-1].isnumeric and inp[i+1].isnumeric():\n",
    "        #     sum = int(inp[i-1]) - int(inp[i+1])\n",
    "\n",
    "    print(sum)\n",
    "\n",
    "fix = \"2 * 3 - 20 / 5\"\n",
    "postfix(fix)\n"
   ]
  },
  {
   "cell_type": "code",
   "execution_count": 23,
   "metadata": {},
   "outputs": [
    {
     "name": "stdout",
     "output_type": "stream",
     "text": [
      "*\n"
     ]
    }
   ],
   "source": [
    "a = []\n",
    "for i in fix:\n",
    "    if i != \" \":\n",
    "        a.append(i)\n",
    "for i in a:\n",
    "    if i == \"*\":\n",
    "        print(i)"
   ]
  }
 ],
 "metadata": {
  "kernelspec": {
   "display_name": "Python 3.10.4 64-bit (windows store)",
   "language": "python",
   "name": "python3"
  },
  "language_info": {
   "codemirror_mode": {
    "name": "ipython",
    "version": 3
   },
   "file_extension": ".py",
   "mimetype": "text/x-python",
   "name": "python",
   "nbconvert_exporter": "python",
   "pygments_lexer": "ipython3",
   "version": "3.10.4"
  },
  "vscode": {
   "interpreter": {
    "hash": "03ee9ebc61fb24b4d29b1ef01f2ca513d3106518665cb0b5c92a24a88b5dc21d"
   }
  }
 },
 "nbformat": 4,
 "nbformat_minor": 4
}
