{
 "cells": [
  {
   "cell_type": "markdown",
   "metadata": {},
   "source": [
    "## <center>Computer Science Intensive Course - MindX</center>\n",
    "![](./assets/logo.png)\n",
    "# <center>HOMEWORK 6. THUẬT TOÁN SẮP XẾP (2)</center>"
   ]
  },
  {
   "cell_type": "markdown",
   "metadata": {},
   "source": [
    "## Bài Tập: Merge Sort Bằng Vòng Lặp\n",
    "\n",
    "Ta đã biết cách cài đặt của thuật toán Merge Sort qua phương pháp đệ quy. Phương pháp này được sử dụng phổ biến do dễ cài đặt, tuy nhiên ta lại tốn *O(log(n))* độ phức tạp bộ nhớ stack cho việc gọi đệ quy.  \n",
    "\n",
    "Ta cũng biết rằng mọi thuật toán đệ quy đều có thể được viết dưới dạng không đệ quy.  \n",
    "\n",
    "**Bài toán**: Hãy tìm cách cài đặt thuật toán Merge Sort mà không sử dụng đệ quy.  \n",
    "\n",
    "*Gợi ý*: Nửa dưới của hình minh họa trong bài học.\n",
    "![](./assets/merge-sort.png)\n",
    "<div style='text-align: right'><i>Ảnh: geeksforgeeks.org/merge-sort/</i></div>"
   ]
  },
  {
   "cell_type": "code",
   "execution_count": 2,
   "metadata": {},
   "outputs": [
    {
     "name": "stdout",
     "output_type": "stream",
     "text": [
      "Before\n",
      "[-74, 48, -20, 2, 10, -84, -5, -9, 11, -24, -91, 2, -71, 64, 63, 80, 28, -30, -58, -11, -44, -87, -22, 54, -74, -10, -55, -28, -46, 29, 10, 50, -72, 34, 26, 25, 8, 51, 13, 30, 35, -8, 50, 65, -6, 16, -2, 21, -78, 35, -13, 14, 23, -3, 26, -90, 86, 25, -56, 91, -13, 92, -25, 37, 57, -20, -69, 98, 95, 45, 47, 29, 86, -28, 73, -44, -46, 65, -84, -96, -24, -12, 72, -68, 93, 57, 92, 52, -45, -2, 85, -63, 56, 55, 12, -85, 77, -39]\n",
      "After\n",
      "[-96, -91, -90, -87, -85, -84, -84, -78, -74, -74, -72, -71, -69, -68, -63, -58, -56, -55, -46, -46, -45, -44, -44, -39, -30, -28, -28, -25, -24, -24, -22, -20, -20, -13, -13, -12, -11, -10, -9, -8, -6, -5, -3, -2, -2, 2, 2, 8, 10, 10, 11, 12, 13, 14, 16, 21, 23, 25, 25, 26, 26, 28, 29, 29, 30, 34, 35, 35, 37, 45, 47, 48, 50, 50, 51, 52, 54, 55, 56, 57, 57, 63, 64, 65, 65, 72, 73, 77, 80, 85, 86, 86, 91, 92, 92, 93, 95, 98]\n"
     ]
    }
   ],
   "source": [
    "def mergeSort(a):\n",
    "    width = 1    \n",
    "    n = len(a)                                          \n",
    "    while (width < n):\n",
    "        l=0\n",
    "        while (l < n): \n",
    "            r = min(l+(width*2-1), n-1)         \n",
    "            m = min(l+width-1,n-1)           \n",
    "            merge(a, l, m, r)\n",
    "            l += width*2\n",
    "        width *= 2\n",
    "    return a\n",
    "    \n",
    "def merge(a, l, m, r): \n",
    "    n1 = m - l + 1\n",
    "    n2 = r - m \n",
    "    L = [0] * n1 \n",
    "    R = [0] * n2 \n",
    "    for i in range(0, n1): \n",
    "        L[i] = a[l + i] \n",
    "    for i in range(0, n2): \n",
    "        R[i] = a[m + i + 1] \n",
    "  \n",
    "    i, j, k = 0, 0, l \n",
    "    while i < n1 and j < n2: \n",
    "        if L[i] <= R[j]: \n",
    "            a[k] = L[i] \n",
    "            i += 1\n",
    "        else: \n",
    "            a[k] = R[j] \n",
    "            j += 1\n",
    "        k += 1\n",
    "  \n",
    "    while i < n1: \n",
    "        a[k] = L[i] \n",
    "        i += 1\n",
    "        k += 1\n",
    "  \n",
    "    while j < n2: \n",
    "        a[k] = R[j] \n",
    "        j += 1\n",
    "        k += 1\n",
    "  \n",
    "a = [-74,48,-20,2,10,-84,-5,-9,11,-24,-91,2,-71,64,63,80,28,-30,-58,-11,-44,-87,-22,54,-74,-10,-55,-28,-46,29,10,50,-72,34,26,25,8,51,13,30,35,-8,50,65,-6,16,-2,21,-78,35,-13,14,23,-3,26,-90,86,25,-56,91,-13,92,-25,37,57,-20,-69,98,95,45,47,29,86,-28,73,-44,-46,65,-84,-96,-24,-12,72,-68,93,57,92,52,-45,-2,85,-63,56,55,12,-85,77,-39]\n",
    "print(\"Before\")\n",
    "print(a)\n",
    "print(\"After\")\n",
    "mergeSort(a) \n",
    "print(a) "
   ]
  }
 ],
 "metadata": {
  "kernelspec": {
   "display_name": "Python 3.10.1 64-bit",
   "language": "python",
   "name": "python3"
  },
  "language_info": {
   "codemirror_mode": {
    "name": "ipython",
    "version": 3
   },
   "file_extension": ".py",
   "mimetype": "text/x-python",
   "name": "python",
   "nbconvert_exporter": "python",
   "pygments_lexer": "ipython3",
   "version": "3.10.1"
  },
  "vscode": {
   "interpreter": {
    "hash": "1d0df3a001fc651470c855a5f152c71fa21be151a45d55dedf9376bb83f3db8f"
   }
  }
 },
 "nbformat": 4,
 "nbformat_minor": 4
}
