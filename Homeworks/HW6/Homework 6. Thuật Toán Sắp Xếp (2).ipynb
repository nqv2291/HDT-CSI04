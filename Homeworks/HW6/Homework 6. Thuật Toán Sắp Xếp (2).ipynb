{
 "cells": [
  {
   "cell_type": "markdown",
   "metadata": {},
   "source": [
    "## <center>Computer Science Intensive Course - MindX</center>\n",
    "![](./assets/logo.png)\n",
    "# <center>HOMEWORK 6. THUẬT TOÁN SẮP XẾP (2)</center>"
   ]
  },
  {
   "cell_type": "markdown",
   "metadata": {},
   "source": [
    "## Bài Tập: Merge Sort Bằng Vòng Lặp\n",
    "\n",
    "Ta đã biết cách cài đặt của thuật toán Merge Sort qua phương pháp đệ quy. Phương pháp này được sử dụng phổ biến do dễ cài đặt, tuy nhiên ta lại tốn *O(log(n))* độ phức tạp bộ nhớ stack cho việc gọi đệ quy.  \n",
    "\n",
    "Ta cũng biết rằng mọi thuật toán đệ quy đều có thể được viết dưới dạng không đệ quy.  \n",
    "\n",
    "**Bài toán**: Hãy tìm cách cài đặt thuật toán Merge Sort mà không sử dụng đệ quy.  \n",
    "\n",
    "*Gợi ý*: Nửa dưới của hình minh họa trong bài học.\n",
    "![](./assets/merge-sort.png)\n",
    "<div style='text-align: right'><i>Ảnh: geeksforgeeks.org/merge-sort/</i></div>"
   ]
  }
 ],
 "metadata": {
  "kernelspec": {
   "display_name": "Python 3.10.1 64-bit",
   "language": "python",
   "name": "python3"
  },
  "language_info": {
   "codemirror_mode": {
    "name": "ipython",
    "version": 3
   },
   "file_extension": ".py",
   "mimetype": "text/x-python",
   "name": "python",
   "nbconvert_exporter": "python",
   "pygments_lexer": "ipython3",
   "version": "3.10.1"
  },
  "vscode": {
   "interpreter": {
    "hash": "1d0df3a001fc651470c855a5f152c71fa21be151a45d55dedf9376bb83f3db8f"
   }
  }
 },
 "nbformat": 4,
 "nbformat_minor": 4
}
