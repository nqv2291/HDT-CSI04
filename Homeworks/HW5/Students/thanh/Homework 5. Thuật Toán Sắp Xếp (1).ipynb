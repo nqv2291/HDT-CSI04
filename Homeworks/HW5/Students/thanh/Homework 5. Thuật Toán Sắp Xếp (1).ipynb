{
 "cells": [
  {
   "cell_type": "markdown",
   "metadata": {},
   "source": [
    "## <center>Computer Science Intensive Course - MindX</center>\n",
    "![](./assets/logo.png)\n",
    "# <center>HOMEWORK 5. THUẬT TOÁN SẮP XẾP (1)</center>"
   ]
  },
  {
   "cell_type": "markdown",
   "metadata": {},
   "source": [
    "## Bài Tập: Danh Sách Từ\n",
    "\n",
    "Cho danh sách 100 từ tiếng Anh thông dụng nhất, mỗi từ cách nhau bằng một dấu cách. Hãy sắp xếp danh sách trên theo quy tắc sau:\n",
    "- Từ có ít chữ cái hơn đứng trước\n",
    "- Nếu hai từ có cùng số chữ cái, từ nào có thứ tự nhỏ hơn trong bảng chữ cái đứng trước (dùng phép so sánh < hoặc > trên *string*)  \n",
    "\n",
    "**Input**: *most_common_100*  \n",
    "**Output**: Một *string* với cùng định dạng, nhưng các từ được sắp xếp theo quy tắc như trên. "
   ]
  },
  {
   "cell_type": "code",
   "execution_count": 2,
   "metadata": {},
   "outputs": [],
   "source": [
    "most_common_100 = \"the of to and a in is it you that he was for on are with as I his they be at one have this from or had by hot but some what there we can out other were all your when up use word how said an each she which do their time if will way about many then them would write like so these her long make thing see him two has look more day could go come did my sound no most number who over know water than call first people may down side been now find\""
   ]
  },
  {
   "cell_type": "code",
   "execution_count": 11,
   "metadata": {},
   "outputs": [
    {
     "name": "stdout",
     "output_type": "stream",
     "text": [
      "['I', 'a', 'about', 'all', 'an', 'and', 'are', 'as', 'at', 'be', 'been', 'but', 'by', 'call', 'can', 'come', 'could', 'day', 'did', 'do', 'down', 'each', 'find', 'first', 'for', 'from', 'go', 'had', 'has', 'have', 'he', 'her', 'him', 'his', 'hot', 'how', 'if', 'in', 'is', 'it', 'know', 'like', 'long', 'look', 'make', 'many', 'may', 'more', 'most', 'my', 'no', 'now', 'number', 'of', 'on', 'one', 'or', 'other', 'out', 'over', 'people', 'said', 'see', 'she', 'side', 'so', 'some', 'sound', 'than', 'that', 'the', 'their', 'them', 'then', 'there', 'these', 'they', 'thing', 'this', 'time', 'to', 'two', 'up', 'use', 'was', 'water', 'way', 'we', 'were', 'what', 'when', 'which', 'who', 'will', 'with', 'word', 'would', 'write', 'you', 'your']\n"
     ]
    }
   ],
   "source": [
    "most_common_100 = \"the of to and a in is it you that he was for on are with as I his they be at one have this from or had by hot but some what there we can out other were all your when up use word how said an each she which do their time if will way about many then them would write like so these her long make thing see him two has look more day could go come did my sound no most number who over know water than call first people may down side been now find\"\n",
    "def sap_xep(arr):\n",
    "    for i in range(len(arr)-1, 0, -1):  \n",
    "        for j in range(i):              \n",
    "            if arr[j] > arr[j+1]:\n",
    "                arr[j], arr[j+1] = arr[j+1], arr[j]\n",
    "    return arr\n",
    "\n",
    "def Convert(string):\n",
    "    li = list(string.split(\" \"))\n",
    "    return li\n",
    "arr = Convert(most_common_100)\n",
    "print(sap_xep(arr))"
   ]
  }
 ],
 "metadata": {
  "kernelspec": {
   "display_name": "Python 3.10.1 64-bit",
   "language": "python",
   "name": "python3"
  },
  "language_info": {
   "codemirror_mode": {
    "name": "ipython",
    "version": 3
   },
   "file_extension": ".py",
   "mimetype": "text/x-python",
   "name": "python",
   "nbconvert_exporter": "python",
   "pygments_lexer": "ipython3",
   "version": "3.10.1"
  },
  "vscode": {
   "interpreter": {
    "hash": "1d0df3a001fc651470c855a5f152c71fa21be151a45d55dedf9376bb83f3db8f"
   }
  }
 },
 "nbformat": 4,
 "nbformat_minor": 4
}
