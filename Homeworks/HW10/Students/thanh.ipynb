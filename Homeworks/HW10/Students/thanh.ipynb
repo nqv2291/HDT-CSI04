{
 "cells": [
  {
   "cell_type": "markdown",
   "metadata": {},
   "source": [
    "## <center>Computer Science Intensive Course - MindX</center>\n",
    "![](./assets/logo.png)\n",
    "# <center>HOMEWORK 10. TREE VÀ GRAPH</center>"
   ]
  },
  {
   "cell_type": "markdown",
   "metadata": {},
   "source": [
    "## Bài Tập: Cây Tìm Kiếm Nhị Phân (Binary Search Tree)\n",
    "\n",
    "**_Cây nhị phân_** là một cây với tính chất: mỗi phần tử chỉ có tối đa hai con. Một node con có thể là node trái hoặc node phải.\n",
    "\n",
    "**_Cây tìm kiếm nhị phân_** là một cây nhị phân với tính chất:  \n",
    "- Cây con bên trái (cây có gốc là node con bên trái) của một node chỉ chứa các phần tử nhỏ hơn node đang xét.\n",
    "- Cây con bên phải của một node chỉ chứa các phần tử lớn hơn node đang xét.\n",
    "- Không có phần tử nào của cây chứa giá trị trùng nhau.\n",
    "\n",
    "![](./assets/binary-search-tree.png)\n",
    "<div style='text-align: right'><i>Ảnh: geeksforgeeks.org</i></div>\n",
    "\n",
    "Cho một cây tìm kiếm nhị phân chứa các số nguyên không trùng nhau dựa theo ảnh minh họa trên.  \n",
    "\n",
    "**Yêu cầu**:\n",
    "- Tìm phần tử nhỏ nhất trong cây\n",
    "- Kiểm tra giá trị *9* có nằm trong cây hay không\n",
    "- Kiểm tra giá trị *6* có nằm trong cây hay không"
   ]
  },
  {
   "cell_type": "code",
   "execution_count": 1,
   "metadata": {},
   "outputs": [],
   "source": [
    "class BSTNode:\n",
    "    def __init__(self, data):\n",
    "        self.data = data\n",
    "        self.left = None\n",
    "        self.right = None\n",
    "\n",
    "root = BSTNode(8)\n",
    "root.left, root.right = BSTNode(3), BSTNode(10)\n",
    "root.left.left, root.left.right = BSTNode(1), BSTNode(6)\n",
    "root.left.right.left, root.left.right.right = BSTNode(4), BSTNode(7)\n",
    "root.right.right = BSTNode(14)\n",
    "root.right.right.left = BSTNode(13)"
   ]
  },
  {
   "cell_type": "code",
   "execution_count": 2,
   "metadata": {},
   "outputs": [
    {
     "name": "stdout",
     "output_type": "stream",
     "text": [
      "1\n",
      "3\n",
      "4\n",
      "6\n",
      "7\n",
      "8\n",
      "10\n",
      "13\n",
      "14\n"
     ]
    }
   ],
   "source": [
    "def insert(node, data):\n",
    "    if node is None:\n",
    "        return (BSTNode(data))\n",
    "    else:\n",
    "        if data <= node.data:\n",
    "            node.left = insert(node.left, data)\n",
    "        else:\n",
    "            node.right = insert(node.right, data)\n",
    "        return node\n",
    "def minValue(node):\n",
    "    current = node\n",
    "    while(current.left is not None):\n",
    "        current = current.left\n",
    "    return current.data\n",
    "\n",
    "def inorder(root):\n",
    "    if root:\n",
    "        inorder(root.left)\n",
    "        print(root.data)\n",
    "        inorder(root.right)\n",
    "\n",
    "inorder(root)"
   ]
  }
 ],
 "metadata": {
  "kernelspec": {
   "display_name": "Python 3.10.4 64-bit (windows store)",
   "language": "python",
   "name": "python3"
  },
  "language_info": {
   "codemirror_mode": {
    "name": "ipython",
    "version": 3
   },
   "file_extension": ".py",
   "mimetype": "text/x-python",
   "name": "python",
   "nbconvert_exporter": "python",
   "pygments_lexer": "ipython3",
   "version": "3.10.4"
  },
  "vscode": {
   "interpreter": {
    "hash": "03ee9ebc61fb24b4d29b1ef01f2ca513d3106518665cb0b5c92a24a88b5dc21d"
   }
  }
 },
 "nbformat": 4,
 "nbformat_minor": 4
}
