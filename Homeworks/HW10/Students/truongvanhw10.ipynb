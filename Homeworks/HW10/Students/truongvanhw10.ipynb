{
 "cells": [
  {
   "cell_type": "markdown",
   "metadata": {},
   "source": [
    "## <center>Computer Science Intensive Course - MindX</center>\n",
    "![](./assets/logo.png)\n",
    "# <center>HOMEWORK 10. TREE VÀ GRAPH</center>"
   ]
  },
  {
   "cell_type": "markdown",
   "metadata": {},
   "source": [
    "## Bài Tập: Cây Tìm Kiếm Nhị Phân (Binary Search Tree)\n",
    "\n",
    "**_Cây nhị phân_** là một cây với tính chất: mỗi phần tử chỉ có tối đa hai con. Một node con có thể là node trái hoặc node phải.\n",
    "\n",
    "**_Cây tìm kiếm nhị phân_** là một cây nhị phân với tính chất:  \n",
    "- Cây con bên trái (cây có gốc là node con bên trái) của một node chỉ chứa các phần tử nhỏ hơn node đang xét.\n",
    "- Cây con bên phải của một node chỉ chứa các phần tử lớn hơn node đang xét.\n",
    "- Không có phần tử nào của cây chứa giá trị trùng nhau.\n",
    "\n",
    "![](./assets/binary-search-tree.png)\n",
    "<div style='text-align: right'><i>Ảnh: geeksforgeeks.org</i></div>\n",
    "\n",
    "Cho một cây tìm kiếm nhị phân chứa các số nguyên không trùng nhau dựa theo ảnh minh họa trên.  \n",
    "\n",
    "**Yêu cầu**:\n",
    "- Tìm phần tử nhỏ nhất trong cây\n",
    "- Kiểm tra giá trị *9* có nằm trong cây hay không\n",
    "- Kiểm tra giá trị *6* có nằm trong cây hay không"
   ]
  },
  {
   "cell_type": "code",
   "execution_count": 45,
   "metadata": {},
   "outputs": [],
   "source": [
    "class BSTNode:\n",
    "    def __init__(self, data):\n",
    "        self.data = data\n",
    "        self.left = None\n",
    "        self.right = None\n",
    "\n",
    "root = BSTNode(8)\n",
    "root.left, root.right = BSTNode(3), BSTNode(10)\n",
    "root.left.left, root.left.right = BSTNode(1), BSTNode(6)\n",
    "root.left.right.left, root.left.right.right = BSTNode(4), BSTNode(7)\n",
    "root.right.right = BSTNode(14)\n",
    "root.right.right.left = BSTNode(13)"
   ]
  },
  {
   "cell_type": "code",
   "execution_count": 46,
   "metadata": {},
   "outputs": [],
   "source": [
    "def BSTmin(root):\n",
    "    min = None\n",
    "    if not root:\n",
    "        return None\n",
    "    if root.left == None:\n",
    "        min = root.data\n",
    "    else:\n",
    "        return BSTmin(root.left)\n",
    "    return min\n",
    "\n",
    "def BSTis(root, key):\n",
    "    iskey = False\n",
    "    if not root:\n",
    "        return False\n",
    "    if root.data == key:\n",
    "        iskey = True\n",
    "    else:\n",
    "        if root.data < key:\n",
    "            return BSTis(root.right, key)\n",
    "        else:\n",
    "            return BSTis(root.left, key)\n",
    "    return iskey"
   ]
  },
  {
   "cell_type": "code",
   "execution_count": 48,
   "metadata": {},
   "outputs": [
    {
     "data": {
      "text/plain": [
       "(1, True, False)"
      ]
     },
     "execution_count": 48,
     "metadata": {},
     "output_type": "execute_result"
    }
   ],
   "source": [
    "def BST(root):\n",
    "    min = BSTmin(root)\n",
    "    is6 = BSTis(root, 6)\n",
    "    is9 = BSTis(root, 9)\n",
    "    return min, is6, is9\n",
    "BST(root)"
   ]
  }
 ],
 "metadata": {
  "kernelspec": {
   "display_name": "Python 3.9.12 ('base')",
   "language": "python",
   "name": "python3"
  },
  "language_info": {
   "codemirror_mode": {
    "name": "ipython",
    "version": 3
   },
   "file_extension": ".py",
   "mimetype": "text/x-python",
   "name": "python",
   "nbconvert_exporter": "python",
   "pygments_lexer": "ipython3",
   "version": "3.9.12"
  },
  "vscode": {
   "interpreter": {
    "hash": "2043299c89c8cd0b4d1a6f5cf4529bd58e6a4e0fe3181a25e0d328c821cdc5c5"
   }
  }
 },
 "nbformat": 4,
 "nbformat_minor": 4
}
