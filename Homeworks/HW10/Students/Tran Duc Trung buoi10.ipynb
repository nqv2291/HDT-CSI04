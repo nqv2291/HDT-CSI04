{
 "cells": [
  {
   "cell_type": "markdown",
   "metadata": {},
   "source": [
    "## <center>Computer Science Intensive Course - MindX</center>\n",
    "![](./assets/logo.png)\n",
    "# <center>HOMEWORK 10. TREE VÀ GRAPH</center>"
   ]
  },
  {
   "cell_type": "markdown",
   "metadata": {},
   "source": [
    "## Bài Tập: Cây Tìm Kiếm Nhị Phân (Binary Search Tree)\n",
    "\n",
    "**_Cây nhị phân_** là một cây với tính chất: mỗi phần tử chỉ có tối đa hai con. Một node con có thể là node trái hoặc node phải.\n",
    "\n",
    "**_Cây tìm kiếm nhị phân_** là một cây nhị phân với tính chất:  \n",
    "- Cây con bên trái (cây có gốc là node con bên trái) của một node chỉ chứa các phần tử nhỏ hơn node đang xét.\n",
    "- Cây con bên phải của một node chỉ chứa các phần tử lớn hơn node đang xét.\n",
    "- Không có phần tử nào của cây chứa giá trị trùng nhau.\n",
    "\n",
    "![](./assets/binary-search-tree.png)\n",
    "<div style='text-align: right'><i>Ảnh: geeksforgeeks.org</i></div>\n",
    "\n",
    "Cho một cây tìm kiếm nhị phân chứa các số nguyên không trùng nhau dựa theo ảnh minh họa trên.  \n",
    "\n",
    "**Yêu cầu**:\n",
    "- Tìm phần tử nhỏ nhất trong cây\n",
    "- Kiểm tra giá trị *9* có nằm trong cây hay không\n",
    "- Kiểm tra giá trị *6* có nằm trong cây hay không"
   ]
  },
  {
   "cell_type": "code",
   "execution_count": 31,
   "metadata": {},
   "outputs": [],
   "source": [
    "class BSTNode:\n",
    "    def __init__(self, data):\n",
    "        self.data = data\n",
    "        self.left = None\n",
    "        self.right = None\n",
    "\n",
    "root = BSTNode(8)\n",
    "root.left, root.right = BSTNode(3), BSTNode(10)\n",
    "root.left.left, root.left.right = BSTNode(1), BSTNode(6)\n",
    "root.left.right.left, root.left.right.right = BSTNode(4), BSTNode(7)\n",
    "root.right.right = BSTNode(14)\n",
    "root.right.right.left = BSTNode(13)"
   ]
  },
  {
   "cell_type": "code",
   "execution_count": 32,
   "metadata": {},
   "outputs": [],
   "source": [
    "def search(root,key):  \n",
    "    avalible = False\n",
    "    if root is None:\n",
    "        return False\n",
    "    if root.data == key:\n",
    "        avalible = True\n",
    "    else:\n",
    "        if root.data < key:\n",
    "            return search(root.right,key)\n",
    "        else:\n",
    "            return search(root.left,key)\n",
    "    return avalible"
   ]
  },
  {
   "cell_type": "code",
   "execution_count": 33,
   "metadata": {},
   "outputs": [],
   "source": [
    "def findMin(root):\n",
    "    min = None\n",
    "    if root is None:\n",
    "        return None\n",
    "    if root.left == None:\n",
    "        min = root.data\n",
    "    else:\n",
    "        return findMin(root.left)\n",
    "    return min"
   ]
  },
  {
   "cell_type": "code",
   "execution_count": 34,
   "metadata": {},
   "outputs": [
    {
     "ename": "TypeError",
     "evalue": "'int' object is not callable",
     "output_type": "error",
     "traceback": [
      "\u001b[1;31m---------------------------------------------------------------------------\u001b[0m",
      "\u001b[1;31mTypeError\u001b[0m                                 Traceback (most recent call last)",
      "\u001b[1;32m~\\AppData\\Local\\Temp/ipykernel_9084/4030832198.py\u001b[0m in \u001b[0;36m<module>\u001b[1;34m\u001b[0m\n\u001b[0;32m      4\u001b[0m     \u001b[0mfind9\u001b[0m \u001b[1;33m=\u001b[0m \u001b[0msearch\u001b[0m\u001b[1;33m(\u001b[0m\u001b[0mroot\u001b[0m\u001b[1;33m,\u001b[0m \u001b[1;36m9\u001b[0m\u001b[1;33m)\u001b[0m\u001b[1;33m\u001b[0m\u001b[1;33m\u001b[0m\u001b[0m\n\u001b[0;32m      5\u001b[0m     \u001b[1;32mreturn\u001b[0m \u001b[0mfindMin\u001b[0m\u001b[1;33m,\u001b[0m \u001b[0mfind6\u001b[0m\u001b[1;33m,\u001b[0m \u001b[0mfind9\u001b[0m\u001b[1;33m\u001b[0m\u001b[1;33m\u001b[0m\u001b[0m\n\u001b[1;32m----> 6\u001b[1;33m \u001b[0mBST\u001b[0m\u001b[1;33m(\u001b[0m\u001b[0mroot\u001b[0m\u001b[1;33m)\u001b[0m\u001b[1;33m\u001b[0m\u001b[1;33m\u001b[0m\u001b[0m\n\u001b[0m",
      "\u001b[1;32m~\\AppData\\Local\\Temp/ipykernel_9084/4030832198.py\u001b[0m in \u001b[0;36mBST\u001b[1;34m(root)\u001b[0m\n\u001b[0;32m      1\u001b[0m \u001b[1;32mdef\u001b[0m \u001b[0mBST\u001b[0m\u001b[1;33m(\u001b[0m\u001b[0mroot\u001b[0m\u001b[1;33m)\u001b[0m\u001b[1;33m:\u001b[0m\u001b[1;33m\u001b[0m\u001b[1;33m\u001b[0m\u001b[0m\n\u001b[1;32m----> 2\u001b[1;33m     \u001b[0mfindMin\u001b[0m \u001b[1;33m=\u001b[0m \u001b[0mmin\u001b[0m\u001b[1;33m(\u001b[0m\u001b[0mroot\u001b[0m\u001b[1;33m)\u001b[0m\u001b[1;33m\u001b[0m\u001b[1;33m\u001b[0m\u001b[0m\n\u001b[0m\u001b[0;32m      3\u001b[0m     \u001b[0mfind6\u001b[0m \u001b[1;33m=\u001b[0m \u001b[0msearch\u001b[0m\u001b[1;33m(\u001b[0m\u001b[0mroot\u001b[0m\u001b[1;33m,\u001b[0m \u001b[1;36m6\u001b[0m\u001b[1;33m)\u001b[0m\u001b[1;33m\u001b[0m\u001b[1;33m\u001b[0m\u001b[0m\n\u001b[0;32m      4\u001b[0m     \u001b[0mfind9\u001b[0m \u001b[1;33m=\u001b[0m \u001b[0msearch\u001b[0m\u001b[1;33m(\u001b[0m\u001b[0mroot\u001b[0m\u001b[1;33m,\u001b[0m \u001b[1;36m9\u001b[0m\u001b[1;33m)\u001b[0m\u001b[1;33m\u001b[0m\u001b[1;33m\u001b[0m\u001b[0m\n\u001b[0;32m      5\u001b[0m     \u001b[1;32mreturn\u001b[0m \u001b[0mfindMin\u001b[0m\u001b[1;33m,\u001b[0m \u001b[0mfind6\u001b[0m\u001b[1;33m,\u001b[0m \u001b[0mfind9\u001b[0m\u001b[1;33m\u001b[0m\u001b[1;33m\u001b[0m\u001b[0m\n",
      "\u001b[1;32m~\\AppData\\Local\\Temp/ipykernel_9084/3921663173.py\u001b[0m in \u001b[0;36mmin\u001b[1;34m(root)\u001b[0m\n\u001b[0;32m     18\u001b[0m         \u001b[0mmin\u001b[0m \u001b[1;33m=\u001b[0m \u001b[0mroot\u001b[0m\u001b[1;33m.\u001b[0m\u001b[0mdata\u001b[0m\u001b[1;33m\u001b[0m\u001b[1;33m\u001b[0m\u001b[0m\n\u001b[0;32m     19\u001b[0m     \u001b[1;32melse\u001b[0m\u001b[1;33m:\u001b[0m\u001b[1;33m\u001b[0m\u001b[1;33m\u001b[0m\u001b[0m\n\u001b[1;32m---> 20\u001b[1;33m         \u001b[1;32mreturn\u001b[0m \u001b[0mmin\u001b[0m\u001b[1;33m(\u001b[0m\u001b[0mroot\u001b[0m\u001b[1;33m.\u001b[0m\u001b[0mleft\u001b[0m\u001b[1;33m)\u001b[0m\u001b[1;33m\u001b[0m\u001b[1;33m\u001b[0m\u001b[0m\n\u001b[0m\u001b[0;32m     21\u001b[0m     \u001b[1;32mreturn\u001b[0m \u001b[0mmin\u001b[0m\u001b[1;33m\u001b[0m\u001b[1;33m\u001b[0m\u001b[0m\n",
      "\u001b[1;31mTypeError\u001b[0m: 'int' object is not callable"
     ]
    }
   ],
   "source": [
    "def BST(root):\n",
    "    findMin = min(root)\n",
    "    find6 = search(root, 6)\n",
    "    find9 = search(root, 9)\n",
    "    return findMin, find6, find9\n",
    "BST(root)"
   ]
  }
 ],
 "metadata": {
  "kernelspec": {
   "display_name": "Python 3.9.12 ('base')",
   "language": "python",
   "name": "python3"
  },
  "language_info": {
   "codemirror_mode": {
    "name": "ipython",
    "version": 3
   },
   "file_extension": ".py",
   "mimetype": "text/x-python",
   "name": "python",
   "nbconvert_exporter": "python",
   "pygments_lexer": "ipython3",
   "version": "3.9.12"
  },
  "vscode": {
   "interpreter": {
    "hash": "b96a0b596e0878a9b961bc6c06a2e9009bb9d1396e6a1dd9debb12e621035262"
   }
  }
 },
 "nbformat": 4,
 "nbformat_minor": 4
}
