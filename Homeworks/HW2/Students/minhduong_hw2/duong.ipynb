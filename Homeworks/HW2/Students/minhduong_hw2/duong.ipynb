{
 "cells": [
  {
   "cell_type": "markdown",
   "metadata": {},
   "source": [
    "<h1 style='color:blue'>Bai 1</h1>"
   ]
  },
  {
   "cell_type": "code",
   "execution_count": 5,
   "metadata": {},
   "outputs": [
    {
     "name": "stdout",
     "output_type": "stream",
     "text": [
      "True\n"
     ]
    }
   ],
   "source": [
    "def perfectNumber(n):\n",
    "    s = 0\n",
    "    for i in range(1,n):\n",
    "        if n%i==0:\n",
    "            s+=i\n",
    "    \n",
    "    return s==n   \n",
    "\n",
    "print(perfectNumber(6))\n",
    "\n",
    "#O(n)"
   ]
  },
  {
   "cell_type": "code",
   "execution_count": 7,
   "metadata": {},
   "outputs": [
    {
     "name": "stdout",
     "output_type": "stream",
     "text": [
      "True\n"
     ]
    }
   ],
   "source": [
    "def perfectNumber_v2(n):\n",
    "    s = 0\n",
    "    for i in range(1,(int(n**0.5)+1)):\n",
    "        if n % i ==0:\n",
    "            s+=i\n",
    "    \n",
    "    return s==n\n",
    "\n",
    "print(perfectNumber_v2(6))        \n",
    "\n",
    "# O(n*1/2)"
   ]
  },
  {
   "cell_type": "markdown",
   "metadata": {},
   "source": [
    "<h1 style = 'color: red'>Bai 2</h1>"
   ]
  },
  {
   "cell_type": "code",
   "execution_count": 8,
   "metadata": {},
   "outputs": [
    {
     "name": "stdout",
     "output_type": "stream",
     "text": [
      "9\n"
     ]
    }
   ],
   "source": [
    "def factorialSum(n):\n",
    "    s = 0\n",
    "    multiplier = 1 \n",
    "    \n",
    "    adder = 1\n",
    "    \n",
    "    for _ in range(n):\n",
    "        s+=adder\n",
    "        multiplier+=1\n",
    "        adder*=multiplier\n",
    "        \n",
    "        \n",
    "    return s\n",
    "\n",
    "\n",
    "\n",
    "print(factorialSum(3))    \n",
    "\n",
    "#O(n)"
   ]
  }
 ],
 "metadata": {
  "kernelspec": {
   "display_name": "Python 3.9.12 ('base')",
   "language": "python",
   "name": "python3"
  },
  "language_info": {
   "codemirror_mode": {
    "name": "ipython",
    "version": 3
   },
   "file_extension": ".py",
   "mimetype": "text/x-python",
   "name": "python",
   "nbconvert_exporter": "python",
   "pygments_lexer": "ipython3",
   "version": "3.9.12"
  },
  "orig_nbformat": 4,
  "vscode": {
   "interpreter": {
    "hash": "b2b9efa92f2bdac4bfda25c60f3f7d6c779c80601382838fe4225a699a59d380"
   }
  }
 },
 "nbformat": 4,
 "nbformat_minor": 2
}
