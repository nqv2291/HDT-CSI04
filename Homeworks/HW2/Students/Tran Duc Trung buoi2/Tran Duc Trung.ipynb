{
 "cells": [
  {
   "cell_type": "code",
   "execution_count": 19,
   "metadata": {},
   "outputs": [
    {
     "data": {
      "text/plain": [
       "'no'"
      ]
     },
     "execution_count": 19,
     "metadata": {},
     "output_type": "execute_result"
    }
   ],
   "source": [
    "#bai1\n",
    "def perfect_number(n):\n",
    "    sum_num = 0\n",
    "    for i in range(1,n):\n",
    "        if n % i == 0:\n",
    "            sum_num += i\n",
    "\n",
    "    if sum_num == n:\n",
    "        return \"yes\"\n",
    "    else:\n",
    "        return \"no\"\n",
    "        \n",
    "\n",
    "perfect_number(7)"
   ]
  },
  {
   "cell_type": "code",
   "execution_count": 11,
   "metadata": {},
   "outputs": [
    {
     "data": {
      "text/plain": [
       "3"
      ]
     },
     "execution_count": 11,
     "metadata": {},
     "output_type": "execute_result"
    }
   ],
   "source": [
    "#bai2\n",
    "def sum_giai_thua(n):\n",
    "    sum_num = 0\n",
    "    for i in range(n+1):\n",
    "        for y in range(i+1):\n",
    "            y *= y\n",
    "        sum_num += i\n",
    "    return sum_num"
   ]
  }
 ],
 "metadata": {
  "kernelspec": {
   "display_name": "Python 3.9.7 64-bit",
   "language": "python",
   "name": "python3"
  },
  "language_info": {
   "codemirror_mode": {
    "name": "ipython",
    "version": 3
   },
   "file_extension": ".py",
   "mimetype": "text/x-python",
   "name": "python",
   "nbconvert_exporter": "python",
   "pygments_lexer": "ipython3",
   "version": "3.9.7"
  },
  "orig_nbformat": 4,
  "vscode": {
   "interpreter": {
    "hash": "11938c6bc6919ae2720b4d5011047913343b08a43b18698fd82dedb0d4417594"
   }
  }
 },
 "nbformat": 4,
 "nbformat_minor": 2
}
