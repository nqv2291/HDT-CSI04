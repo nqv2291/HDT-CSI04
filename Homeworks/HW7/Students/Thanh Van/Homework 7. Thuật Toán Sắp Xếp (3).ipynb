{
 "cells": [
  {
   "cell_type": "markdown",
   "metadata": {},
   "source": [
    "## <center>Computer Science Intensive Course - MindX</center>\n",
    "![](./assets/logo.png)\n",
    "# <center>HOMEWORK 7. THUẬT TOÁN SẮP XẾP (3)</center>"
   ]
  },
  {
   "cell_type": "markdown",
   "metadata": {},
   "source": [
    "## Bài Tập: Sắp Xếp Hoa Theo Giá\n",
    "\n",
    "**Bài toán**: Cho danh sách các loại hoa được bày bán và giá với định dạng như bên dưới, hãy sắp xếp danh sách theo thứ tự giá tăng dần.  \n",
    "Biết danh sách có *0 < n < 10<sup>6</sup>* loại hoa, mỗi loại có giá tiền từ 10.000đ đến 100.000đ. Mỗi giá tiền đều chẵn theo nghìn đồng (không có giá tiền nào lẻ 500đ hoặc 200đ).  "
   ]
  },
  {
   "cell_type": "code",
   "execution_count": 1,
   "metadata": {},
   "outputs": [],
   "source": [
    "flower_prices = [\n",
    "    {'name': 'Red Rose', 'price': 10000},\n",
    "    {'name': 'Lily', 'price': 12000},\n",
    "    {'name': 'Orchid', 'price': 100000},\n",
    "    {'name': 'Blue Rose', 'price': 20000},\n",
    "    {'name': 'Daisy', 'price': 12000},\n",
    "    {'name': 'Tulip', 'price': 20000},\n",
    "    {'name': 'Chrysanthemum', 'price': 10000},\n",
    "    {'name': 'Sunflower', 'price': 20000}\n",
    "\n",
    "]\n",
    "\n"
   ]
  },
  {
   "cell_type": "code",
   "execution_count": 2,
   "metadata": {},
   "outputs": [],
   "source": [
    "def counting_sort_flower(arr):\n",
    "    # trivial cases\n",
    "    if len(arr) <= 1:\n",
    "        return\n",
    "    \n",
    "    # get the range of counting indices\n",
    "    val_range = 91\n",
    " \n",
    "    # save indices of each value\n",
    "    indices = [[] for i in range(val_range)]\n",
    "    for i in range(len(arr)):\n",
    "        indices[(arr[i]['price'])//1000 - 10].append(i)\n",
    "    \n",
    "    sorted_arr = [None] * len(arr)\n",
    "    index = 0\n",
    "    for i in range(val_range):\n",
    "        for original_index in indices[i]:\n",
    "            sorted_arr[index] = arr[original_index]\n",
    "            index += 1\n",
    "            \n",
    "    return sorted_arr"
   ]
  },
  {
   "cell_type": "code",
   "execution_count": 3,
   "metadata": {},
   "outputs": [
    {
     "name": "stdout",
     "output_type": "stream",
     "text": [
      "Before sorting:\n"
     ]
    },
    {
     "data": {
      "text/plain": [
       "[{'name': 'Red Rose', 'price': 10000},\n",
       " {'name': 'Lily', 'price': 12000},\n",
       " {'name': 'Orchid', 'price': 100000},\n",
       " {'name': 'Blue Rose', 'price': 20000},\n",
       " {'name': 'Daisy', 'price': 12000},\n",
       " {'name': 'Tulip', 'price': 20000},\n",
       " {'name': 'Chrysanthemum', 'price': 10000},\n",
       " {'name': 'Sunflower', 'price': 20000}]"
      ]
     },
     "metadata": {},
     "output_type": "display_data"
    },
    {
     "name": "stdout",
     "output_type": "stream",
     "text": [
      "After sorting:\n"
     ]
    },
    {
     "data": {
      "text/plain": [
       "[{'name': 'Red Rose', 'price': 10000},\n",
       " {'name': 'Chrysanthemum', 'price': 10000},\n",
       " {'name': 'Lily', 'price': 12000},\n",
       " {'name': 'Daisy', 'price': 12000},\n",
       " {'name': 'Blue Rose', 'price': 20000},\n",
       " {'name': 'Tulip', 'price': 20000},\n",
       " {'name': 'Sunflower', 'price': 20000},\n",
       " {'name': 'Orchid', 'price': 100000}]"
      ]
     },
     "metadata": {},
     "output_type": "display_data"
    }
   ],
   "source": [
    "flower_prices_2 = flower_prices[:]\n",
    "\n",
    "flower_prices_2 = counting_sort_flower(flower_prices_2)\n",
    "\n",
    "print(\"Before sorting:\")\n",
    "display(flower_prices)\n",
    "print(\"After sorting:\")\n",
    "display(flower_prices_2)"
   ]
  }
 ],
 "metadata": {
  "kernelspec": {
   "display_name": "Python 3.9.5 64-bit",
   "language": "python",
   "name": "python3"
  },
  "language_info": {
   "codemirror_mode": {
    "name": "ipython",
    "version": 3
   },
   "file_extension": ".py",
   "mimetype": "text/x-python",
   "name": "python",
   "nbconvert_exporter": "python",
   "pygments_lexer": "ipython3",
   "version": "3.9.5"
  },
  "vscode": {
   "interpreter": {
    "hash": "11938c6bc6919ae2720b4d5011047913343b08a43b18698fd82dedb0d4417594"
   }
  }
 },
 "nbformat": 4,
 "nbformat_minor": 4
}
