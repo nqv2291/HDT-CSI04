{
 "cells": [
  {
   "cell_type": "markdown",
   "metadata": {},
   "source": [
    "## <center>Computer Science Intensive Course - MindX</center>\n",
    "![](./assets/logo.png)\n",
    "# <center>HOMEWORK 7. THUẬT TOÁN SẮP XẾP (3)</center>"
   ]
  },
  {
   "cell_type": "markdown",
   "metadata": {},
   "source": [
    "## Bài Tập: Sắp Xếp Hoa Theo Giá\n",
    "\n",
    "**Bài toán**: Cho danh sách các loại hoa được bày bán và giá với định dạng như bên dưới, hãy sắp xếp danh sách theo thứ tự giá tăng dần.  \n",
    "Biết danh sách có *0 < n < 10<sup>6</sup>* loại hoa, mỗi loại có giá tiền từ 10.000đ đến 100.000đ. Mỗi giá tiền đều chẵn theo nghìn đồng (không có giá tiền nào lẻ 500đ hoặc 200đ).  "
   ]
  },
  {
   "cell_type": "code",
   "execution_count": 11,
   "metadata": {},
   "outputs": [
    {
     "name": "stdout",
     "output_type": "stream",
     "text": [
      "[{'name': 'Red Rose', 'price': 10000}, {'name': 'Chrysanthemum', 'price': 10000}, {'name': 'Lily', 'price': 12000}, {'name': 'Daisy', 'price': 12000}, {'name': 'Blue Rose', 'price': 20000}, {'name': 'Tulip', 'price': 20000}, {'name': 'Sunflower', 'price': 20000}, {'name': 'Orchid', 'price': 100000}]\n"
     ]
    }
   ],
   "source": [
    "flower_prices = [\n",
    "    {'name': 'Red Rose', 'price': 10000},\n",
    "    {'name': 'Lily', 'price': 12000},\n",
    "    {'name': 'Orchid', 'price': 100000},\n",
    "    {'name': 'Blue Rose', 'price': 20000},\n",
    "    {'name': 'Daisy', 'price': 12000},\n",
    "    {'name': 'Tulip', 'price': 20000},\n",
    "    {'name': 'Chrysanthemum', 'price': 10000},\n",
    "    {'name': 'Sunflower', 'price': 20000}\n",
    "\n",
    "]\n",
    "\n",
    "def sort_price(flower_prices): \n",
    "    val_range = 101\n",
    " \n",
    "\n",
    "    indices = [[] for i in range(val_range)]\n",
    "    for i, flower in enumerate(flower_prices):\n",
    "        price = int(flower['price'] / 1000)\n",
    "        indices[price].append(i)\n",
    "    \n",
    "\n",
    "    sorted_arr = [None] * len(flower_prices)\n",
    "    index = 0\n",
    "    for i in range(val_range):\n",
    "        for original_index in indices[i]:\n",
    "            sorted_arr[index] = flower_prices[original_index]\n",
    "            index += 1\n",
    "            \n",
    "    return sorted_arr\n",
    "       \n",
    "\n",
    "    \n",
    "print(sort_price(flower_prices))    "
   ]
  }
 ],
 "metadata": {
  "kernelspec": {
   "display_name": "Python 3.10.1 64-bit",
   "language": "python",
   "name": "python3"
  },
  "language_info": {
   "codemirror_mode": {
    "name": "ipython",
    "version": 3
   },
   "file_extension": ".py",
   "mimetype": "text/x-python",
   "name": "python",
   "nbconvert_exporter": "python",
   "pygments_lexer": "ipython3",
   "version": "3.10.1"
  },
  "vscode": {
   "interpreter": {
    "hash": "1d0df3a001fc651470c855a5f152c71fa21be151a45d55dedf9376bb83f3db8f"
   }
  }
 },
 "nbformat": 4,
 "nbformat_minor": 4
}
