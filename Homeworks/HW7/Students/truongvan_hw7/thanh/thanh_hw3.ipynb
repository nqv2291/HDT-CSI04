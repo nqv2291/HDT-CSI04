{
 "cells": [
  {
   "cell_type": "markdown",
   "metadata": {},
   "source": [
    "## <center>Computer Science Intensive Course - MindX</center>\n",
    "![](./assets/logo.png)\n",
    "# <center>HOMEWORK 7. THUẬT TOÁN SẮP XẾP (3)</center>"
   ]
  },
  {
   "cell_type": "markdown",
   "metadata": {},
   "source": [
    "## Bài Tập: Sắp Xếp Hoa Theo Giá\n",
    "\n",
    "**Bài toán**: Cho danh sách các loại hoa được bày bán và giá với định dạng như bên dưới, hãy sắp xếp danh sách theo thứ tự giá tăng dần.  \n",
    "Biết danh sách có *0 < n < 10<sup>6</sup>* loại hoa, mỗi loại có giá tiền từ 10.000đ đến 100.000đ. Mỗi giá tiền đều chẵn theo nghìn đồng (không có giá tiền nào lẻ 500đ hoặc 200đ).  "
   ]
  },
  {
   "cell_type": "code",
   "execution_count": 1,
   "metadata": {},
   "outputs": [],
   "source": [
    "flower_prices = [\n",
    "    {'name': 'Red Rose', 'price': 10000},\n",
    "    {'name': 'Lily', 'price': 12000},\n",
    "    {'name': 'Orchid', 'price': 100000},\n",
    "    {'name': 'Blue Rose', 'price': 20000},\n",
    "    {'name': 'Daisy', 'price': 12000},\n",
    "    {'name': 'Tulip', 'price': 20000},\n",
    "    {'name': 'Chrysanthemum', 'price': 10000},\n",
    "    {'name': 'Sunflower', 'price': 20000}\n",
    "\n",
    "]\n",
    "\n"
   ]
  },
  {
   "cell_type": "code",
   "execution_count": 19,
   "metadata": {},
   "outputs": [
    {
     "name": "stdout",
     "output_type": "stream",
     "text": [
      "Red Rose\n",
      "Chrysanthemum\n",
      "Lily\n",
      "Daisy\n",
      "Blue Rose\n",
      "Tulip\n",
      "Sunflower\n",
      "Orchid\n"
     ]
    }
   ],
   "source": [
    "def sort(arr):\n",
    "\n",
    "    if len(arr) <= 1:\n",
    "        return\n",
    "\n",
    "    price = []\n",
    "    for i in arr:\n",
    "        price.append(i[\"price\"])\n",
    "\n",
    "    val_range = max(price) - min(price) + 1\n",
    "\n",
    "    indices = [[] for i in range(val_range)]\n",
    "\n",
    "    for i, flower in enumerate(arr):\n",
    "        price = flower[\"price\"] // 1000\n",
    "        indices[price].append(i)\n",
    "\n",
    "    sorted_arr = [None] * len(arr)\n",
    "    index = 0\n",
    "    for i in range(val_range):\n",
    "        for original_index in indices[i]:\n",
    "            sorted_arr[index] = arr[original_index]\n",
    "            index += 1\n",
    "\n",
    "    for i in range(0, len(arr)):\n",
    "        print(sorted_arr[i]['name'])\n",
    "\n",
    "\n",
    "sort(flower_prices)\n"
   ]
  }
 ],
 "metadata": {
  "kernelspec": {
   "display_name": "Python 3.10.4 64-bit (windows store)",
   "language": "python",
   "name": "python3"
  },
  "language_info": {
   "codemirror_mode": {
    "name": "ipython",
    "version": 3
   },
   "file_extension": ".py",
   "mimetype": "text/x-python",
   "name": "python",
   "nbconvert_exporter": "python",
   "pygments_lexer": "ipython3",
   "version": "3.10.4"
  },
  "vscode": {
   "interpreter": {
    "hash": "03ee9ebc61fb24b4d29b1ef01f2ca513d3106518665cb0b5c92a24a88b5dc21d"
   }
  }
 },
 "nbformat": 4,
 "nbformat_minor": 4
}
