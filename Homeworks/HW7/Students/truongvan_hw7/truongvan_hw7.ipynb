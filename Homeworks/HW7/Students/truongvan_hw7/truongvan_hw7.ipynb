{
 "cells": [
  {
   "cell_type": "markdown",
   "metadata": {},
   "source": [
    "## <center>Computer Science Intensive Course - MindX</center>\n",
    "![](./assets/logo.png)\n",
    "# <center>HOMEWORK 7. THUẬT TOÁN SẮP XẾP (3)</center>"
   ]
  },
  {
   "cell_type": "markdown",
   "metadata": {},
   "source": [
    "## Bài Tập: Sắp Xếp Hoa Theo Giá\n",
    "\n",
    "**Bài toán**: Cho danh sách các loại hoa được bày bán và giá với định dạng như bên dưới, hãy sắp xếp danh sách theo thứ tự giá tăng dần.  \n",
    "Biết danh sách có *0 < n < 10<sup>6</sup>* loại hoa, mỗi loại có giá tiền từ 10.000đ đến 100.000đ. Mỗi giá tiền đều chẵn theo nghìn đồng (không có giá tiền nào lẻ 500đ hoặc 200đ).  "
   ]
  },
  {
   "cell_type": "code",
   "execution_count": 2,
   "metadata": {},
   "outputs": [
    {
     "name": "stdout",
     "output_type": "stream",
     "text": [
      "[{'name': 'Orchid', 'price': 100000}, {'name': 'Blue Rose', 'price': 20000}, {'name': 'Tulip', 'price': 20000}, {'name': 'Sunflower', 'price': 20000}, {'name': 'Lily', 'price': 12000}, {'name': 'Daisy', 'price': 12000}, {'name': 'Red Rose', 'price': 10000}, {'name': 'Chrysanthemum', 'price': 10000}]\n"
     ]
    }
   ],
   "source": [
    "flower_prices = [\n",
    "    {'name': 'Red Rose', 'price': 10000},\n",
    "    {'name': 'Lily', 'price': 12000},\n",
    "    {'name': 'Orchid', 'price': 100000},\n",
    "    {'name': 'Blue Rose', 'price': 20000},\n",
    "    {'name': 'Daisy', 'price': 12000},\n",
    "    {'name': 'Tulip', 'price': 20000},\n",
    "    {'name': 'Chrysanthemum', 'price': 10000},\n",
    "    {'name': 'Sunflower', 'price': 20000}\n",
    "\n",
    "]\n",
    "\n",
    "print(sorted(flower_prices, reverse = True, key = lambda flower_prices: flower_prices[\"price\"]))"
   ]
  },
  {
   "cell_type": "code",
   "execution_count": 8,
   "metadata": {},
   "outputs": [
    {
     "data": {
      "text/plain": [
       "[{'name': 'Red Rose', 'price': 10000},\n",
       " {'name': 'Chrysanthemum', 'price': 10000},\n",
       " {'name': 'Lily', 'price': 12000},\n",
       " {'name': 'Daisy', 'price': 12000},\n",
       " {'name': 'Blue Rose', 'price': 20000},\n",
       " {'name': 'Tulip', 'price': 20000},\n",
       " {'name': 'Sunflower', 'price': 20000},\n",
       " {'name': 'Orchid', 'price': 100000}]"
      ]
     },
     "execution_count": 8,
     "metadata": {},
     "output_type": "execute_result"
    }
   ],
   "source": [
    "def arrange_flower_prices(arr):\n",
    "    \n",
    "    if len(arr) <= 1:\n",
    "        return\n",
    "\n",
    "    arr_price = []\n",
    "\n",
    "    for i in arr:\n",
    "        arr_price.append(i[\"price\"])\n",
    "\n",
    "    val_range = max(arr_price) // 1000 + 1\n",
    "\n",
    "  \n",
    "    indices = [[] for i in range(val_range)]\n",
    "    for i, flower in enumerate(arr):\n",
    "        price = flower[\"price\"] // 1000\n",
    "        indices[price].append(i)\n",
    "    \n",
    "    # traverse `count` to place the values into `sorted_arr`\n",
    "    sorted_arr = [None] * len(arr)\n",
    "    index = 0\n",
    "    for i in range(val_range):\n",
    "        for original_index in indices[i]:\n",
    "            sorted_arr[index] = arr[original_index]\n",
    "            index += 1           \n",
    "    return sorted_arr\n",
    "\n",
    "arrange_flower_prices(flower_prices)"
   ]
  }
 ],
 "metadata": {
  "kernelspec": {
   "display_name": "Python 3.10.0 64-bit",
   "language": "python",
   "name": "python3"
  },
  "language_info": {
   "codemirror_mode": {
    "name": "ipython",
    "version": 3
   },
   "file_extension": ".py",
   "mimetype": "text/x-python",
   "name": "python",
   "nbconvert_exporter": "python",
   "pygments_lexer": "ipython3",
   "version": "3.10.0"
  },
  "vscode": {
   "interpreter": {
    "hash": "a42ccb73e7d9bfdf27e036f1d2b8b681e55fc0743cc5586bc2474d4a60f4b886"
   }
  }
 },
 "nbformat": 4,
 "nbformat_minor": 4
}
